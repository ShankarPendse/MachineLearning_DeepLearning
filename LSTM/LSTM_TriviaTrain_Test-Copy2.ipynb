{
 "cells": [
  {
   "cell_type": "code",
   "execution_count": 1,
   "metadata": {},
   "outputs": [],
   "source": [
    "import pandas as pd\n",
    "import numpy as np\n",
    "\n",
    "from sklearn.preprocessing import LabelEncoder\n",
    "from sklearn.model_selection import train_test_split\n",
    "from sklearn.metrics import accuracy_score, confusion_matrix, precision_recall_fscore_support, classification_report\n",
    "\n",
    "from keras.preprocessing.sequence import pad_sequences\n",
    "from keras.utils import to_categorical\n",
    "from keras.optimizers import Adam, RMSprop, SGD\n",
    "from keras.callbacks import EarlyStopping\n",
    "\n",
    "import tensorflow as tf\n",
    "from tensorflow.keras import Sequential, Model, Input\n",
    "from tensorflow.keras.layers import LSTM, Embedding, Dense, TimeDistributed, Dropout, Bidirectional\n",
    "from tensorflow.keras.utils import plot_model, to_categorical\n",
    "\n",
    "import more_itertools as mit\n",
    "from tqdm import tqdm\n",
    "import joblib\n",
    "import pydot"
   ]
  },
  {
   "cell_type": "code",
   "execution_count": 23,
   "metadata": {},
   "outputs": [],
   "source": [
    "np.random.seed(42)\n",
    "tf.random.set_seed(42)\n",
    "\n",
    "MAX_LEN = 80\n",
    "TRAIN_BATCH_SIZE = 64\n",
    "# VAL_BATCH_SIZE = 32\n",
    "EPOCHS = 50\n",
    "MODEL_PATH = \"model_LSTM_Trivia.bin\"\n",
    "files = {\n",
    "        \"train\": \"./data/trivia10k13train.bio\", \n",
    "        \"test\": \"./data/trivia10k13test.bio\"\n",
    "        }\n",
    "EMBEDDING_DIM = 256"
   ]
  },
  {
   "cell_type": "code",
   "execution_count": 3,
   "metadata": {},
   "outputs": [],
   "source": [
    "def prepare_vocab(files):\n",
    "    train_data = pd.read_csv(files['train'], sep=\"\\t\", names=['TAG', 'WORD'], skip_blank_lines=True, dtype=\"string\", skipfooter=1)\n",
    "    test_data = pd.read_csv(files['test'], sep=\"\\t\", names=['TAG', 'WORD'], skip_blank_lines=True, dtype=\"string\", skipfooter=1)\n",
    "    \n",
    "    train_vocab = set(train_data['WORD'])\n",
    "    test_vocab = set(test_data['WORD'])\n",
    "    \n",
    "    vocab = list(train_vocab.union(test_vocab))\n",
    "    return vocab"
   ]
  },
  {
   "cell_type": "code",
   "execution_count": 4,
   "metadata": {},
   "outputs": [],
   "source": [
    "def read_process_and_prepare_data(files):\n",
    "    \n",
    "    vocab = prepare_vocab(files)\n",
    "    \n",
    "    word2id_dict = dict((word, idx) for idx, word in enumerate(vocab))\n",
    "    id2word_dict = {idx: word for word, idx in word2id_dict.items()}\n",
    "    \n",
    "    df = pd.read_csv(files['train'], sep=\"\\t\", names=['TAG', 'WORD'], skip_blank_lines=False, dtype=\"string\", skipfooter=1)\n",
    "    df.drop(set(df[df['WORD'].isnull()].index.tolist()) - set(df[df['TAG'].isnull()].index.tolist()), inplace = True)\n",
    "    \n",
    "    df.fillna(\"split_at\", inplace=True)\n",
    "    \n",
    "    filt = df['TAG']!=\"split_at\"\n",
    "    tags_enc = LabelEncoder()\n",
    "    tags_enc.fit_transform(df.loc[filt, 'TAG'])\n",
    "    tags2id_dict = dict(zip(tags_enc.classes_, tags_enc.transform(tags_enc.classes_)))\n",
    "    \n",
    "    df['TAG'] = df['TAG'].map(tags2id_dict)\n",
    "    df['TAG'].fillna(\"split_at\", inplace=True)\n",
    "    \n",
    "    df['WORD'] = df['WORD'].map(word2id_dict)\n",
    "    df['WORD'].fillna(\"split_at\", inplace=True)\n",
    "        \n",
    "    sentences = np.array(list(mit.split_at(df['WORD'].tolist(), pred=lambda x: x=='split_at')))\n",
    "    tags = list(list(mit.split_at(df['TAG'], pred=lambda x: x=='split_at')))\n",
    "    \n",
    "    padded_tags = pad_sequences(tags, maxlen=MAX_LEN, padding='post', value=-1)\n",
    "    padded_tags = to_categorical(padded_tags)\n",
    "    \n",
    "    padding_value = len(vocab) + 1\n",
    "    padded_sentences = pad_sequences(sentences, maxlen=MAX_LEN, padding='post', truncating='post', value=padding_value)\n",
    "    \n",
    "    dataset = {\n",
    "                \"sentences\": sentences,\n",
    "                \"padded_sentences\": padded_sentences,\n",
    "                \"tags\": padded_tags,\n",
    "                \"tags_enc\": tags_enc,\n",
    "                \"word2id\": word2id_dict,\n",
    "                \"id2word\": id2word_dict,\n",
    "                \"tags2id\": tags2id_dict,\n",
    "                \"vocab_len\": len(vocab)\n",
    "              }\n",
    "    \n",
    "    return dataset"
   ]
  },
  {
   "cell_type": "code",
   "execution_count": 5,
   "metadata": {},
   "outputs": [],
   "source": [
    "def create_model(input_dim, output_dim, seq_len, num_tags):\n",
    "    model = Sequential()\n",
    "    \n",
    "    model.add(Embedding(input_dim=input_dim, output_dim=output_dim, input_length=seq_len))\n",
    "    model.add(Bidirectional(LSTM(units=output_dim, return_sequences=True)))\n",
    "    model.add(Bidirectional(LSTM(units=output_dim, return_sequences=True)))\n",
    "    model.add(LSTM(units=output_dim, return_sequences=True))\n",
    "#     model.add(LSTM(units=output_dim, return_sequences=True))\n",
    "    model.add(Dropout(0.4))\n",
    "    model.add(Dense(output_dim//2, activation=\"relu\"))\n",
    "    model.add(Dense(output_dim//4, activation=\"relu\"))\n",
    "    model.add(Dense(num_tags, activation=\"softmax\"))\n",
    "    \n",
    "    optimizer = Adam(learning_rate = 0.001)\n",
    "    \n",
    "    model.compile(loss = 'categorical_crossentropy', optimizer=optimizer, metrics=['accuracy'])\n",
    "    \n",
    "    print(model.summary())\n",
    "    \n",
    "    return model"
   ]
  },
  {
   "cell_type": "code",
   "execution_count": 6,
   "metadata": {},
   "outputs": [],
   "source": [
    "def train_network(model, X_train, y_train, X_val, y_val):\n",
    "    early_stopping = EarlyStopping(monitor=\"val_loss\", patience=5, restore_best_weights=True)\n",
    "    history = model.fit(x=X_train, y=y_train, batch_size = TRAIN_BATCH_SIZE, validation_data=(X_val, y_val), epochs = EPOCHS, callbacks=early_stopping)\n",
    "    return history, model"
   ]
  },
  {
   "cell_type": "code",
   "execution_count": 7,
   "metadata": {},
   "outputs": [],
   "source": [
    "def prepare_test_data(file, tag_enc, tags2id_dict, word2id_dict, vocab_len):\n",
    "    df = pd.read_csv(file, sep=\"\\t\", names=['TAG', 'WORD'], skip_blank_lines=False, dtype=\"string\", skipfooter=1)\n",
    "    df.fillna(\"split_at\", inplace=True)\n",
    "    \n",
    "    filt = df['TAG']!=\"split_at\"\n",
    "    tag_enc.transform(df.loc[filt, 'TAG'])\n",
    "#     tags2id_dict = dict(zip(tags_enc.classes_, tags_enc.transform(tags_enc.classes_)))\n",
    "    \n",
    "    df['TAG'] = df['TAG'].map(tags2id_dict)\n",
    "    df['TAG'].fillna(\"split_at\", inplace=True)\n",
    "    \n",
    "    df['WORD'] = df['WORD'].map(word2id_dict)\n",
    "    df['WORD'].fillna(\"split_at\", inplace=True)\n",
    "        \n",
    "    sentences = np.array(list(mit.split_at(df['WORD'].tolist(), pred=lambda x: x=='split_at')))\n",
    "    tags = list(list(mit.split_at(df['TAG'], pred=lambda x: x=='split_at')))\n",
    "    \n",
    "    padded_tags = pad_sequences(tags, maxlen=MAX_LEN, padding='post', value=-1)\n",
    "    padded_tags = to_categorical(padded_tags)\n",
    "    \n",
    "    padding_value = vocab_len\n",
    "    padded_sentences = pad_sequences(sentences, maxlen=MAX_LEN, padding='post', truncating='post', value=padding_value)\n",
    "    \n",
    "    test_dataset = {\n",
    "                    \"sentences\": sentences,\n",
    "                    \"padded_sentences\": padded_sentences,\n",
    "                    \"tags\": tags,\n",
    "                    \"padded_tags\": padded_tags\n",
    "                    }\n",
    "    \n",
    "    return test_dataset"
   ]
  },
  {
   "cell_type": "code",
   "execution_count": 8,
   "metadata": {
    "scrolled": false
   },
   "outputs": [
    {
     "name": "stderr",
     "output_type": "stream",
     "text": [
      "c:\\python3.7.8\\lib\\site-packages\\ipykernel_launcher.py:2: ParserWarning: Falling back to the 'python' engine because the 'c' engine does not support skipfooter; you can avoid this warning by specifying engine='python'.\n",
      "  \n",
      "c:\\python3.7.8\\lib\\site-packages\\ipykernel_launcher.py:3: ParserWarning: Falling back to the 'python' engine because the 'c' engine does not support skipfooter; you can avoid this warning by specifying engine='python'.\n",
      "  This is separate from the ipykernel package so we can avoid doing imports until\n",
      "c:\\python3.7.8\\lib\\site-packages\\ipykernel_launcher.py:8: ParserWarning: Falling back to the 'python' engine because the 'c' engine does not support skipfooter; you can avoid this warning by specifying engine='python'.\n",
      "  \n",
      "c:\\python3.7.8\\lib\\site-packages\\ipykernel_launcher.py:24: VisibleDeprecationWarning: Creating an ndarray from ragged nested sequences (which is a list-or-tuple of lists-or-tuples-or ndarrays with different lengths or shapes) is deprecated. If you meant to do this, you must specify 'dtype=object' when creating the ndarray\n"
     ]
    },
    {
     "name": "stdout",
     "output_type": "stream",
     "text": [
      "Model: \"sequential\"\n",
      "_________________________________________________________________\n",
      "Layer (type)                 Output Shape              Param #   \n",
      "=================================================================\n",
      "embedding (Embedding)        (None, 80, 256)           3109632   \n",
      "_________________________________________________________________\n",
      "bidirectional (Bidirectional (None, 80, 512)           1050624   \n",
      "_________________________________________________________________\n",
      "bidirectional_1 (Bidirection (None, 80, 512)           1574912   \n",
      "_________________________________________________________________\n",
      "lstm_2 (LSTM)                (None, 80, 256)           787456    \n",
      "_________________________________________________________________\n",
      "dropout (Dropout)            (None, 80, 256)           0         \n",
      "_________________________________________________________________\n",
      "dense (Dense)                (None, 80, 128)           32896     \n",
      "_________________________________________________________________\n",
      "dense_1 (Dense)              (None, 80, 64)            8256      \n",
      "_________________________________________________________________\n",
      "dense_2 (Dense)              (None, 80, 25)            1625      \n",
      "=================================================================\n",
      "Total params: 6,565,401\n",
      "Trainable params: 6,565,401\n",
      "Non-trainable params: 0\n",
      "_________________________________________________________________\n",
      "None\n",
      "Epoch 1/50\n",
      "110/110 [==============================] - 12s 111ms/step - loss: 0.5366 - accuracy: 0.8734 - val_loss: 0.3341 - val_accuracy: 0.9150\n",
      "Epoch 2/50\n",
      "110/110 [==============================] - 11s 100ms/step - loss: 0.3098 - accuracy: 0.9196 - val_loss: 0.2783 - val_accuracy: 0.9236\n",
      "Epoch 3/50\n",
      "110/110 [==============================] - 11s 101ms/step - loss: 0.2356 - accuracy: 0.9319 - val_loss: 0.2004 - val_accuracy: 0.9406\n",
      "Epoch 4/50\n",
      "110/110 [==============================] - 11s 101ms/step - loss: 0.1501 - accuracy: 0.9570 - val_loss: 0.1642 - val_accuracy: 0.9525\n",
      "Epoch 5/50\n",
      "110/110 [==============================] - 11s 101ms/step - loss: 0.1111 - accuracy: 0.9668 - val_loss: 0.1519 - val_accuracy: 0.9564\n",
      "Epoch 6/50\n",
      "110/110 [==============================] - 11s 101ms/step - loss: 0.0899 - accuracy: 0.9720 - val_loss: 0.1469 - val_accuracy: 0.9573\n",
      "Epoch 7/50\n",
      "110/110 [==============================] - 11s 101ms/step - loss: 0.0752 - accuracy: 0.9763 - val_loss: 0.1495 - val_accuracy: 0.9579\n",
      "Epoch 8/50\n",
      "110/110 [==============================] - 11s 102ms/step - loss: 0.0626 - accuracy: 0.9803 - val_loss: 0.1518 - val_accuracy: 0.9585\n",
      "Epoch 9/50\n",
      "110/110 [==============================] - 11s 101ms/step - loss: 0.0555 - accuracy: 0.9824 - val_loss: 0.1677 - val_accuracy: 0.9591\n",
      "Epoch 10/50\n",
      "110/110 [==============================] - 11s 102ms/step - loss: 0.0477 - accuracy: 0.9849 - val_loss: 0.1856 - val_accuracy: 0.9574\n",
      "Epoch 11/50\n",
      "110/110 [==============================] - 11s 101ms/step - loss: 0.0416 - accuracy: 0.9869 - val_loss: 0.1776 - val_accuracy: 0.9548\n"
     ]
    }
   ],
   "source": [
    "if __name__ == '__main__':\n",
    "    dataset = read_process_and_prepare_data(files)\n",
    "    \n",
    "    X_train, X_val, y_train, y_val = train_test_split(dataset['padded_sentences'], np.array([np.array(x) for x in dataset['tags']]), random_state=42, test_size=0.1)\n",
    "    \n",
    "    model = create_model(input_dim=dataset['vocab_len'] + 2, output_dim=EMBEDDING_DIM, seq_len=MAX_LEN, num_tags=len(dataset['tags_enc'].classes_))\n",
    "    \n",
    "    history, model = train_network(model, np.array(X_train), np.array(y_train), np.array(X_val), np.array(y_val))\n",
    "    "
   ]
  },
  {
   "cell_type": "markdown",
   "metadata": {},
   "source": [
    "## Model performance on test data"
   ]
  },
  {
   "cell_type": "code",
   "execution_count": 9,
   "metadata": {
    "scrolled": false
   },
   "outputs": [
    {
     "name": "stderr",
     "output_type": "stream",
     "text": [
      "c:\\python3.7.8\\lib\\site-packages\\ipykernel_launcher.py:2: ParserWarning: Falling back to the 'python' engine because the 'c' engine does not support skipfooter; you can avoid this warning by specifying engine='python'.\n",
      "  \n",
      "c:\\python3.7.8\\lib\\site-packages\\ipykernel_launcher.py:15: VisibleDeprecationWarning: Creating an ndarray from ragged nested sequences (which is a list-or-tuple of lists-or-tuples-or ndarrays with different lengths or shapes) is deprecated. If you meant to do this, you must specify 'dtype=object' when creating the ndarray\n",
      "  from ipykernel import kernelapp as app\n"
     ]
    },
    {
     "name": "stdout",
     "output_type": "stream",
     "text": [
      "              precision    recall  f1-score   support\n",
      "\n",
      "         0.0       0.90      0.89      0.90      1274\n",
      "         1.0       0.53      0.59      0.56        66\n",
      "         2.0       0.41      0.45      0.43       283\n",
      "         3.0       0.76      0.87      0.81       425\n",
      "         4.0       0.72      0.80      0.76       789\n",
      "         5.0       0.34      0.13      0.19       195\n",
      "         6.0       0.44      0.38      0.41       190\n",
      "         7.0       0.50      0.38      0.43      1577\n",
      "         8.0       0.00      0.00      0.00        47\n",
      "         9.0       0.19      0.05      0.07       171\n",
      "        10.0       0.00      0.00      0.00         8\n",
      "        11.0       0.89      0.96      0.93       661\n",
      "        12.0       0.92      0.90      0.91      1553\n",
      "        13.0       0.44      0.76      0.56       147\n",
      "        14.0       0.44      0.28      0.34       227\n",
      "        15.0       0.78      0.88      0.83       411\n",
      "        16.0       0.79      0.69      0.73       544\n",
      "        17.0       0.00      0.00      0.00       143\n",
      "        18.0       0.60      0.76      0.67       808\n",
      "        19.0       0.89      0.89      0.89     14661\n",
      "        20.0       0.29      0.24      0.26       349\n",
      "        21.0       0.31      0.15      0.20       289\n",
      "        22.0       0.00      0.00      0.00        30\n",
      "        23.0       0.35      0.14      0.20        44\n",
      "        24.0       0.83      0.87      0.85     14143\n",
      "\n",
      "    accuracy                           0.82     39035\n",
      "   macro avg       0.49      0.48      0.48     39035\n",
      "weighted avg       0.81      0.82      0.81     39035\n",
      "\n"
     ]
    },
    {
     "name": "stderr",
     "output_type": "stream",
     "text": [
      "c:\\python3.7.8\\lib\\site-packages\\sklearn\\metrics\\_classification.py:1245: UndefinedMetricWarning: Precision and F-score are ill-defined and being set to 0.0 in labels with no predicted samples. Use `zero_division` parameter to control this behavior.\n",
      "  _warn_prf(average, modifier, msg_start, len(result))\n",
      "c:\\python3.7.8\\lib\\site-packages\\sklearn\\metrics\\_classification.py:1245: UndefinedMetricWarning: Precision and F-score are ill-defined and being set to 0.0 in labels with no predicted samples. Use `zero_division` parameter to control this behavior.\n",
      "  _warn_prf(average, modifier, msg_start, len(result))\n",
      "c:\\python3.7.8\\lib\\site-packages\\sklearn\\metrics\\_classification.py:1245: UndefinedMetricWarning: Precision and F-score are ill-defined and being set to 0.0 in labels with no predicted samples. Use `zero_division` parameter to control this behavior.\n",
      "  _warn_prf(average, modifier, msg_start, len(result))\n"
     ]
    }
   ],
   "source": [
    "test_dataset = prepare_test_data(file=files['test'], tag_enc=dataset['tags_enc'], tags2id_dict=dataset['tags2id'], word2id_dict=dataset['word2id'], vocab_len=dataset['vocab_len'])\n",
    "test_predictions = model.predict(test_dataset['padded_sentences'])\n",
    "predicted_tags = []\n",
    "for i in range(len(test_dataset['tags'])):\n",
    "    predicted_tags.append( np.argmax(test_predictions[i], axis=1)[:len(test_dataset['sentences'][i])] )\n",
    "\n",
    "print(classification_report(np.concatenate(test_dataset['tags']), np.concatenate(predicted_tags)))"
   ]
  },
  {
   "cell_type": "code",
   "execution_count": 10,
   "metadata": {},
   "outputs": [],
   "source": [
    "import matplotlib.pyplot as plt"
   ]
  },
  {
   "cell_type": "code",
   "execution_count": 11,
   "metadata": {},
   "outputs": [
    {
     "data": {
      "image/png": "[encoded data removed]",
      "text/plain": [
       "<Figure size 432x288 with 1 Axes>"
      ]
     },
     "metadata": {
      "needs_background": "light"
     },
     "output_type": "display_data"
    }
   ],
   "source": [
    "plt.plot(history.history['loss'])\n",
    "plt.plot(history.history['val_loss'])\n",
    "\n",
    "plt.plot(history.history['accuracy'])\n",
    "plt.plot(history.history['val_accuracy'])\n",
    "\n",
    "plt.title(\"Model loss/accuracy\")\n",
    "plt.xlabel(\"epochs\")\n",
    "plt.ylabel(\"loss/accuracy\")\n",
    "plt.legend(['train_loss', 'val_loss', 'train_acc', 'val_acc'], loc = 'upper right')\n",
    "plt.show()"
   ]
  },
  {
   "cell_type": "markdown",
   "metadata": {},
   "source": [
    "## Model performance on train data"
   ]
  },
  {
   "cell_type": "code",
   "execution_count": 21,
   "metadata": {},
   "outputs": [
    {
     "name": "stderr",
     "output_type": "stream",
     "text": [
      "c:\\python3.7.8\\lib\\site-packages\\ipykernel_launcher.py:1: ParserWarning: Falling back to the 'python' engine because the 'c' engine does not support skipfooter; you can avoid this warning by specifying engine='python'.\n",
      "  \"\"\"Entry point for launching an IPython kernel.\n",
      "c:\\python3.7.8\\lib\\site-packages\\ipykernel_launcher.py:16: VisibleDeprecationWarning: Creating an ndarray from ragged nested sequences (which is a list-or-tuple of lists-or-tuples-or ndarrays with different lengths or shapes) is deprecated. If you meant to do this, you must specify 'dtype=object' when creating the ndarray\n",
      "  app.launch_new_instance()\n"
     ]
    }
   ],
   "source": [
    "df = pd.read_csv(files['train'], sep=\"\\t\", names=['TAG', 'WORD'], skip_blank_lines=False, dtype=\"string\", skipfooter=1)\n",
    "df.drop(set(df[df['WORD'].isnull()].index.tolist()) - set(df[df['TAG'].isnull()].index.tolist()), inplace = True)\n",
    "\n",
    "df.fillna(\"split_at\", inplace=True)\n",
    "\n",
    "filt = df['TAG']!=\"split_at\"\n",
    "dataset['tags_enc'].transform(df.loc[filt, 'TAG'])\n",
    "#     tags2id_dict = dict(zip(tags_enc.classes_, tags_enc.transform(tags_enc.classes_)))\n",
    "\n",
    "df['TAG'] = df['TAG'].map(dataset['tags2id'])\n",
    "df['TAG'].fillna(\"split_at\", inplace=True)\n",
    "\n",
    "df['WORD'] = df['WORD'].map(dataset['word2id'])\n",
    "df['WORD'].fillna(\"split_at\", inplace=True)\n",
    "\n",
    "sentences = np.array(list(mit.split_at(df['WORD'].tolist(), pred=lambda x: x=='split_at')))\n",
    "tags = list(list(mit.split_at(df['TAG'], pred=lambda x: x=='split_at')))\n",
    "\n",
    "padded_tags = pad_sequences(tags, maxlen=MAX_LEN, padding='post', value=-1)\n",
    "padded_tags = to_categorical(padded_tags)\n",
    "\n",
    "padding_value = dataset['vocab_len']\n",
    "padded_sentences = pad_sequences(sentences, maxlen=MAX_LEN, padding='post', truncating='post', value=padding_value)\n",
    "\n",
    "train_dataset = {\n",
    "                \"sentences\": sentences,\n",
    "                \"padded_sentences\": padded_sentences,\n",
    "                \"tags\": tags,\n",
    "                \"padded_tags\": padded_tags\n",
    "                }"
   ]
  },
  {
   "cell_type": "code",
   "execution_count": 22,
   "metadata": {},
   "outputs": [
    {
     "name": "stdout",
     "output_type": "stream",
     "text": [
      "              precision    recall  f1-score   support\n",
      "\n",
      "         0.0       0.96      0.96      0.96      5010\n",
      "         1.0       0.67      0.61      0.64       309\n",
      "         2.0       0.67      0.72      0.70      1024\n",
      "         3.0       0.86      0.92      0.89      1787\n",
      "         4.0       0.80      0.84      0.82      3384\n",
      "         5.0       0.46      0.18      0.26       810\n",
      "         6.0       0.54      0.46      0.49       779\n",
      "         7.0       0.71      0.59      0.64      6468\n",
      "         8.0       0.00      0.00      0.00       126\n",
      "         9.0       0.44      0.12      0.18       580\n",
      "        10.0       0.00      0.00      0.00        50\n",
      "        11.0       0.93      0.98      0.96      2702\n",
      "        12.0       0.96      0.97      0.96      6121\n",
      "        13.0       0.56      0.85      0.68       719\n",
      "        14.0       0.72      0.54      0.62       760\n",
      "        15.0       0.87      0.94      0.90      1653\n",
      "        16.0       0.79      0.71      0.75      2283\n",
      "        17.0       0.00      0.00      0.00       539\n",
      "        18.0       0.72      0.90      0.80      3340\n",
      "        19.0       0.97      0.96      0.96     62107\n",
      "        20.0       0.57      0.60      0.58       817\n",
      "        21.0       0.46      0.18      0.26      1206\n",
      "        22.0       0.00      0.00      0.00       158\n",
      "        23.0       0.29      0.06      0.10       195\n",
      "        24.0       0.90      0.95      0.92     55895\n",
      "\n",
      "    accuracy                           0.90    158822\n",
      "   macro avg       0.59      0.56      0.56    158822\n",
      "weighted avg       0.89      0.90      0.90    158822\n",
      "\n"
     ]
    },
    {
     "name": "stderr",
     "output_type": "stream",
     "text": [
      "c:\\python3.7.8\\lib\\site-packages\\sklearn\\metrics\\_classification.py:1245: UndefinedMetricWarning: Precision and F-score are ill-defined and being set to 0.0 in labels with no predicted samples. Use `zero_division` parameter to control this behavior.\n",
      "  _warn_prf(average, modifier, msg_start, len(result))\n",
      "c:\\python3.7.8\\lib\\site-packages\\sklearn\\metrics\\_classification.py:1245: UndefinedMetricWarning: Precision and F-score are ill-defined and being set to 0.0 in labels with no predicted samples. Use `zero_division` parameter to control this behavior.\n",
      "  _warn_prf(average, modifier, msg_start, len(result))\n",
      "c:\\python3.7.8\\lib\\site-packages\\sklearn\\metrics\\_classification.py:1245: UndefinedMetricWarning: Precision and F-score are ill-defined and being set to 0.0 in labels with no predicted samples. Use `zero_division` parameter to control this behavior.\n",
      "  _warn_prf(average, modifier, msg_start, len(result))\n"
     ]
    }
   ],
   "source": [
    "train_predictions = model.predict(train_dataset['padded_sentences'])\n",
    "predicted_tags = []\n",
    "for i in range(len(train_dataset['tags'])):\n",
    "    predicted_tags.append( np.argmax(train_predictions[i], axis=1)[:len(train_dataset['sentences'][i])] )\n",
    "\n",
    "print(classification_report(np.concatenate(train_dataset['tags']), np.concatenate(predicted_tags)))"
   ]
  },
  {
   "cell_type": "code",
   "execution_count": 24,
   "metadata": {},
   "outputs": [
    {
     "name": "stdout",
     "output_type": "stream",
     "text": [
      "WARNING:tensorflow:From c:\\python3.7.8\\lib\\site-packages\\tensorflow\\python\\training\\tracking\\tracking.py:111: Layer.updates (from tensorflow.python.keras.engine.base_layer) is deprecated and will be removed in a future version.\n",
      "Instructions for updating:\n",
      "This property should not be used in TensorFlow 2.0, as updates are applied automatically.\n",
      "INFO:tensorflow:Assets written to: model_LSTM_Trivia.bin\\assets\n"
     ]
    }
   ],
   "source": [
    "model.save(MODEL_PATH)"
   ]
  },
  {
   "cell_type": "code",
   "execution_count": null,
   "metadata": {},
   "outputs": [],
   "source": []
  }
 ],
 "metadata": {
  "kernelspec": {
   "display_name": "Python 3",
   "language": "python",
   "name": "python3"
  },
  "language_info": {
   "codemirror_mode": {
    "name": "ipython",
    "version": 3
   },
   "file_extension": ".py",
   "mimetype": "text/x-python",
   "name": "python",
   "nbconvert_exporter": "python",
   "pygments_lexer": "ipython3",
   "version": "3.7.8"
  }
 },
 "nbformat": 4,
 "nbformat_minor": 4
}
