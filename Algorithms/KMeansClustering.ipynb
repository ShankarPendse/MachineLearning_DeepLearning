{
 "cells": [
  {
   "cell_type": "code",
   "execution_count": 1,
   "metadata": {},
   "outputs": [],
   "source": [
    "import numpy as np\n",
    "import time\n",
    "import random\n",
    "import matplotlib.pyplot as plt\n",
    "from Part1A import calculate_distances\n",
    "random.seed(195877)"
   ]
  },
  {
   "cell_type": "code",
   "execution_count": 2,
   "metadata": {},
   "outputs": [],
   "source": [
    "# Initializing k number of centroids by selecting at random from the data\n",
    "def generate_centroids(feature_data, k):\n",
    "    ''' This function accepts as arguments, feature data and k which is an integer, which determines\n",
    "        how many centroids to be selected.\n",
    "        \n",
    "        returns randomly selected k feature data points as initial centroids'''\n",
    "    \n",
    "    indices = random.sample(range(len(feature_data)), k=k)\n",
    "    centroids = feature_data[indices]\n",
    "    return centroids"
   ]
  },
  {
   "cell_type": "code",
   "execution_count": 3,
   "metadata": {},
   "outputs": [],
   "source": [
    "def assign_centroids(feature_data, centroids):\n",
    "    '''This function accepts as arguments, feature data and initially selected k number of centroids\n",
    "       calculates the distance between each feature data and the centroids, assigns the nearest data \n",
    "       points to the respective centroids\n",
    "       \n",
    "       returns a 1D Numpy array containing indices of the centroids assigned to each feature data poin\n",
    "       '''\n",
    "    \n",
    "    centroid_indices = []\n",
    "    for data in feature_data:\n",
    "        centroid_indices.append(np.argmin(calculate_distances(centroids, data)))\n",
    "    return np.array(centroid_indices)"
   ]
  },
  {
   "cell_type": "code",
   "execution_count": 4,
   "metadata": {},
   "outputs": [],
   "source": [
    "def move_centroids(feature_data, centroid_indices, centroids):\n",
    "    '''This function accepts as arguments, feature data, centroid indices (obtained from assign centroids function)\n",
    "       and centroids\n",
    "       \n",
    "       returns the new centroids which is equal to the mean value of the feature data points assigned to respective centroids\n",
    "       '''\n",
    "    new_centroids = [feature_data[centroid_indices == i].mean(axis = 0) for i in range(len(centroids))]\n",
    "    return np.array(new_centroids)"
   ]
  },
  {
   "cell_type": "code",
   "execution_count": 5,
   "metadata": {},
   "outputs": [],
   "source": [
    "def calculate_cost(feature_data, centroid_indices, centroids):\n",
    "    '''Accepts as argument, feature data, centroid indices and centroids\n",
    "       \n",
    "       returns the distortion cost value'''\n",
    "    \n",
    "    cost = np.mean(np.sum(np.square(centroids[centroid_indices] - feature_data), axis = 1))\n",
    "    return cost"
   ]
  },
  {
   "cell_type": "code",
   "execution_count": 6,
   "metadata": {},
   "outputs": [],
   "source": [
    "def restart_KMeans(feature_data, no_of_centroids, no_iterations = 10, no_restarts = 10):\n",
    "    '''Accepts as arguments, feature data, number of centroids to be initialized at start,\n",
    "       for how many iterations we need to assign and move the centroids and how many times\n",
    "       we can restart the above process (Run KMeans)\n",
    "       \n",
    "       returns the best cost and related centroids for each restart of KMeans\n",
    "       '''\n",
    "    \n",
    "    bestcost = float('inf')\n",
    "    for restart_ind in range(no_restarts):\n",
    "        centroids = generate_centroids(feature_data, no_of_centroids)\n",
    "        for iteration in range(no_iterations):\n",
    "            centroid_indices = assign_centroids(feature_data, centroids)\n",
    "            centroids = move_centroids(feature_data, centroid_indices, centroids)\n",
    "        cost = calculate_cost(feature_data, centroid_indices, centroids)\n",
    "        if cost < bestcost:\n",
    "            bestcost = cost\n",
    "            bestcentroids = centroids.copy()\n",
    "    return bestcost, bestcentroids"
   ]
  },
  {
   "cell_type": "code",
   "execution_count": 7,
   "metadata": {},
   "outputs": [],
   "source": [
    "def visualize(no_of_clusters, costs):\n",
    "    '''This function takes as arguments number of clusters and costs as python lists\n",
    "       plots the graph with number of clusters on X-axis and cost value on Y-axis\n",
    "       '''\n",
    "    \n",
    "    plt.plot(no_of_clusters, costs)\n",
    "    plt.title(\"Cost Vs No_of_Centroids\")\n",
    "    plt.xlabel(\"No_of_Centroids(K)\")\n",
    "    plt.ylabel(\"Distortion Function value(cost)\")\n",
    "    plt.grid(True)"
   ]
  },
  {
   "cell_type": "code",
   "execution_count": 8,
   "metadata": {},
   "outputs": [],
   "source": [
    "no_of_clusters = [1,2,3,4,5,6,7]\n",
    "costs = []"
   ]
  },
  {
   "cell_type": "code",
   "execution_count": 9,
   "metadata": {
    "scrolled": false
   },
   "outputs": [
    {
     "name": "stdout",
     "output_type": "stream",
     "text": [
      "K = 1, Cost = 128.18845806187915\n",
      "K = 2, Cost = 40.008753227335646\n",
      "K = 3, Cost = 18.07608582263684\n",
      "K = 4, Cost = 2.922150566084583\n",
      "K = 5, Cost = 2.8379730742923757\n",
      "K = 6, Cost = 2.7564659472768342\n",
      "K = 7, Cost = 2.673690307383894\n",
      "Total time taken: 62.078125 seconds\n"
     ]
    },
    {
     "data": {
      "image/png": "[encoded data removed]",
      "text/plain": [
       "<Figure size 432x288 with 1 Axes>"
      ]
     },
     "metadata": {
      "needs_background": "light"
     },
     "output_type": "display_data"
    }
   ],
   "source": [
    "# Using the data as it is\n",
    "no_of_clusters = [1,2,3,4,5,6,7]\n",
    "costs = []\n",
    "start_time = time.process_time()\n",
    "data = np.genfromtxt('clustering/data.csv', delimiter = \",\")\n",
    "for k in no_of_clusters:\n",
    "    cost, centroid = restart_KMeans(data, k, 10, 10)\n",
    "    costs.append(cost)\n",
    "    print(\"K = {}, Cost = {}\".format(k, cost))\n",
    "end_time = time.process_time()\n",
    "print(\"Total time taken: {} seconds\".format(end_time - start_time))\n",
    "visualize(no_of_clusters, costs)"
   ]
  },
  {
   "cell_type": "code",
   "execution_count": 10,
   "metadata": {
    "scrolled": false
   },
   "outputs": [
    {
     "name": "stdout",
     "output_type": "stream",
     "text": [
      "K = 1, Cost = 0.3888573475586305\n",
      "K = 2, Cost = 0.17339376706981183\n",
      "K = 3, Cost = 0.07959917043818183\n",
      "K = 4, Cost = 0.01734776072961027\n",
      "K = 5, Cost = 0.01634425761835828\n",
      "K = 6, Cost = 0.015361869244757461\n",
      "K = 7, Cost = 0.014358081999651787\n",
      "Total time taken: 65.515625 seconds\n"
     ]
    },
    {
     "data": {
      "image/png": "[encoded data removed]",
      "text/plain": [
       "<Figure size 432x288 with 1 Axes>"
      ]
     },
     "metadata": {
      "needs_background": "light"
     },
     "output_type": "display_data"
    }
   ],
   "source": [
    "# Normalizing the data to have all the values between 0 and 1. \n",
    "#This will ensure features with large variance are not having any pressing effect on KNN\n",
    "\n",
    "costs = []\n",
    "start_time = time.process_time()\n",
    "data = np.genfromtxt('clustering/data.csv', delimiter = \",\")\n",
    "data = ( data - data.min(axis = 0) ) / ( data.max(axis = 0) - data.min(axis = 0) )\n",
    "for k in no_of_clusters:\n",
    "    cost, centroid = restart_KMeans(data, k, 10, 10)\n",
    "    costs.append(cost)\n",
    "    print(\"K = {}, Cost = {}\".format(k, cost))\n",
    "end_time = time.process_time()\n",
    "print(\"Total time taken: {} seconds\".format(end_time - start_time))\n",
    "visualize(no_of_clusters, costs)"
   ]
  },
  {
   "cell_type": "markdown",
   "metadata": {},
   "source": [
    "# Normalizing the values (getting all the values between 0 and 1) using min max scaling method, has improved the KMeans Distortion cost function significantly"
   ]
  }
 ],
 "metadata": {
  "kernelspec": {
   "display_name": "Python 3",
   "language": "python",
   "name": "python3"
  },
  "language_info": {
   "codemirror_mode": {
    "name": "ipython",
    "version": 3
   },
   "file_extension": ".py",
   "mimetype": "text/x-python",
   "name": "python",
   "nbconvert_exporter": "python",
   "pygments_lexer": "ipython3",
   "version": "3.7.8"
  }
 },
 "nbformat": 4,
 "nbformat_minor": 4
}
