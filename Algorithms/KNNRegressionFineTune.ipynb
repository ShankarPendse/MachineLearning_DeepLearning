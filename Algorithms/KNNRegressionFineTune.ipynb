{
 "cells": [
  {
   "cell_type": "code",
   "execution_count": 1,
   "metadata": {},
   "outputs": [],
   "source": [
    "import numpy as np\n",
    "import pandas as pd\n",
    "import time\n",
    "from sklearn.neighbors import KNeighborsRegressor\n",
    "import matplotlib.pyplot as plt\n",
    "from Part1A import calculate_distances, calculate_r2"
   ]
  },
  {
   "cell_type": "markdown",
   "metadata": {},
   "source": [
    "# Using Mahalanobis as measure of distance"
   ]
  },
  {
   "cell_type": "code",
   "execution_count": 2,
   "metadata": {},
   "outputs": [],
   "source": [
    "train_data = np.genfromtxt('Regression/trainingData.csv', delimiter = \",\")\n",
    "test_data = np.genfromtxt('Regression/testData.csv', delimiter = \",\")\n",
    "KNNRM = KNeighborsRegressor(n_neighbors=3, algorithm = 'brute', \n",
    "                            metric='mahalanobis', metric_params={'V':np.cov(train_data[:,0:-1])})"
   ]
  },
  {
   "cell_type": "code",
   "execution_count": 3,
   "metadata": {
    "scrolled": true
   },
   "outputs": [
    {
     "data": {
      "text/plain": [
       "KNeighborsRegressor(algorithm='brute', metric='mahalanobis',\n",
       "                    metric_params={'V': array([[ 1.10627836,  0.12535803, -0.02765481, ..., -0.41880522,\n",
       "        -0.59713489,  0.20156931],\n",
       "       [ 0.12535803,  1.00190315, -0.1984574 , ...,  0.30053543,\n",
       "        -0.15101237,  0.22505434],\n",
       "       [-0.02765481, -0.1984574 ,  0.95482353, ..., -0.22128758,\n",
       "        -0.01273118,  0.23208212],\n",
       "       ...,\n",
       "       [-0.41880522,  0.30053543, -0.22128758, ...,  0.82752817,\n",
       "         0.36539651, -0.37336213],\n",
       "       [-0.59713489, -0.15101237, -0.01273118, ...,  0.36539651,\n",
       "         0.81258381,  0.0698001 ],\n",
       "       [ 0.20156931,  0.22505434,  0.23208212, ..., -0.37336213,\n",
       "         0.0698001 ,  1.01664977]])},\n",
       "                    n_neighbors=3)"
      ]
     },
     "execution_count": 3,
     "metadata": {},
     "output_type": "execute_result"
    }
   ],
   "source": [
    "KNNRM.fit(train_data[:,0:-1], train_data[:,-1])"
   ]
  },
  {
   "cell_type": "code",
   "execution_count": 4,
   "metadata": {},
   "outputs": [
    {
     "name": "stderr",
     "output_type": "stream",
     "text": [
      "c:\\python3.7.8\\lib\\site-packages\\sklearn\\metrics\\pairwise.py:1462: FutureWarning: from version 0.25, pairwise_distances for metric='mahalanobis' will require VI to be specified if Y is passed.\n",
      "  \"specified if Y is passed.\", FutureWarning)\n"
     ]
    },
    {
     "data": {
      "text/plain": [
       "0.8205332483357298"
      ]
     },
     "execution_count": 4,
     "metadata": {},
     "output_type": "execute_result"
    }
   ],
   "source": [
    "KNNRM.score(test_data[:,0:-1], test_data[:,-1])"
   ]
  },
  {
   "cell_type": "markdown",
   "metadata": {},
   "source": [
    "# Using Min-Max scaler (Normalization) and inverse of squared distance as weights\n",
    "## Implementing it using numpy"
   ]
  },
  {
   "cell_type": "code",
   "execution_count": 5,
   "metadata": {},
   "outputs": [],
   "source": [
    "train_data = np.genfromtxt('Regression/trainingData.csv', delimiter = \",\")\n",
    "test_data = np.genfromtxt('Regression/testData.csv', delimiter = \",\")"
   ]
  },
  {
   "cell_type": "code",
   "execution_count": 6,
   "metadata": {},
   "outputs": [],
   "source": [
    "def predict(training_features, query_features):\n",
    "    \n",
    "    # call calculate_distances\n",
    "    distances = calculate_distances(training_features, query_features)\n",
    "    \n",
    "    # Set the number of neighbours to consider\n",
    "    k = 3 # We can paramterize this so that while calling predict value of K can be passed as an argument to this function. Instead of 2 parameters this function will then take 3 parameters\n",
    "    \n",
    "    # use np.argsort to return indices from distances\n",
    "    indices = np.argsort(distances)\n",
    "    \n",
    "    # average the 3 nearest disances\n",
    "    #predicted_value = np.mean(train_data[indices[0:k],-1])\n",
    "    \n",
    "    # Inverse weighted distance average\n",
    "    #predicted_value = np.sum(train_data[indices[0:k],-1] * (1/(distances[indices[0:k]]))) / np.sum((1/(distances[indices[0:k]])))\n",
    "    \n",
    "    # squared inverse weighted distance average\n",
    "    predicted_value = np.sum(train_data[indices[0:k],-1] * np.square(1/(distances[indices[0:k]]))) / np.sum(np.square(1/(distances[indices[0:k]])))\n",
    "    \n",
    "    # return the prediction\n",
    "    return predicted_value"
   ]
  },
  {
   "cell_type": "code",
   "execution_count": 7,
   "metadata": {},
   "outputs": [
    {
     "name": "stdout",
     "output_type": "stream",
     "text": [
      "R2 Score is:  0.8286449277052543\n"
     ]
    }
   ],
   "source": [
    "min_train_data = train_data[:,0:-1].min(axis = 0)\n",
    "max_train_data = train_data[:,0:-1].max(axis = 0)\n",
    "\n",
    "train_data[:,0:-1] = ( train_data[:,0:-1] - train_data[:,0:-1].min(axis = 0) ) / ( train_data[:,0:-1].max(axis = 0) - train_data[:,0:-1].min(axis = 0) )\n",
    "\n",
    "test_data[:,0:-1] = ( test_data[:, 0:-1] - min_train_data ) / ( max_train_data - min_train_data )\n",
    "\n",
    "predictions = []\n",
    "\n",
    "for i in range(len(test_data)):\n",
    "    predicted_value = predict(train_data[:,0:-1], test_data[i,0:-1])\n",
    "    predictions.append(predicted_value)\n",
    "r2_score = calculate_r2(test_data[:,-1], np.array(predictions))\n",
    "print(\"R2 Score is: \", r2_score)"
   ]
  },
  {
   "cell_type": "markdown",
   "metadata": {},
   "source": [
    "# From above two methods, it is evident that the altering the scale of the features is not improve the R squared error by much.\n",
    "\n",
    "# Let's check the correlation among the features to see if there are any weak predictors"
   ]
  },
  {
   "cell_type": "markdown",
   "metadata": {},
   "source": [
    "## Let us convert the numpy array into pandas dataframe to get better visualization"
   ]
  },
  {
   "cell_type": "code",
   "execution_count": 8,
   "metadata": {},
   "outputs": [],
   "source": [
    "train_data = np.genfromtxt('Regression/trainingData.csv', delimiter = \",\")\n",
    "test_data = np.genfromtxt('Regression/testData.csv', delimiter = \",\")"
   ]
  },
  {
   "cell_type": "code",
   "execution_count": 9,
   "metadata": {},
   "outputs": [],
   "source": [
    "df_train = pd.DataFrame(train_data)\n",
    "df_test = pd.DataFrame(test_data)"
   ]
  },
  {
   "cell_type": "code",
   "execution_count": 10,
   "metadata": {},
   "outputs": [
    {
     "data": {
      "text/html": [
       "<div>\n",
       "<style scoped>\n",
       "    .dataframe tbody tr th:only-of-type {\n",
       "        vertical-align: middle;\n",
       "    }\n",
       "\n",
       "    .dataframe tbody tr th {\n",
       "        vertical-align: top;\n",
       "    }\n",
       "\n",
       "    .dataframe thead th {\n",
       "        text-align: right;\n",
       "    }\n",
       "</style>\n",
       "<table border=\"1\" class=\"dataframe\">\n",
       "  <thead>\n",
       "    <tr style=\"text-align: right;\">\n",
       "      <th></th>\n",
       "      <th>0</th>\n",
       "      <th>1</th>\n",
       "      <th>2</th>\n",
       "      <th>3</th>\n",
       "      <th>4</th>\n",
       "      <th>5</th>\n",
       "      <th>6</th>\n",
       "      <th>7</th>\n",
       "      <th>8</th>\n",
       "      <th>9</th>\n",
       "      <th>10</th>\n",
       "      <th>11</th>\n",
       "      <th>12</th>\n",
       "    </tr>\n",
       "  </thead>\n",
       "  <tbody>\n",
       "    <tr>\n",
       "      <th>0</th>\n",
       "      <td>1.000000</td>\n",
       "      <td>-0.004362</td>\n",
       "      <td>0.007072</td>\n",
       "      <td>0.000705</td>\n",
       "      <td>0.008373</td>\n",
       "      <td>-0.011065</td>\n",
       "      <td>0.022645</td>\n",
       "      <td>-0.000628</td>\n",
       "      <td>0.014265</td>\n",
       "      <td>0.003355</td>\n",
       "      <td>-0.004684</td>\n",
       "      <td>-0.017824</td>\n",
       "      <td>0.004609</td>\n",
       "    </tr>\n",
       "    <tr>\n",
       "      <th>1</th>\n",
       "      <td>-0.004362</td>\n",
       "      <td>1.000000</td>\n",
       "      <td>-0.020603</td>\n",
       "      <td>-0.001333</td>\n",
       "      <td>-0.005931</td>\n",
       "      <td>0.008843</td>\n",
       "      <td>0.008947</td>\n",
       "      <td>-0.004167</td>\n",
       "      <td>-0.021844</td>\n",
       "      <td>0.004767</td>\n",
       "      <td>0.004464</td>\n",
       "      <td>-0.005987</td>\n",
       "      <td>-0.001219</td>\n",
       "    </tr>\n",
       "    <tr>\n",
       "      <th>2</th>\n",
       "      <td>0.007072</td>\n",
       "      <td>-0.020603</td>\n",
       "      <td>1.000000</td>\n",
       "      <td>0.000111</td>\n",
       "      <td>-0.014672</td>\n",
       "      <td>0.014021</td>\n",
       "      <td>-0.010896</td>\n",
       "      <td>-0.008521</td>\n",
       "      <td>0.000466</td>\n",
       "      <td>-0.013469</td>\n",
       "      <td>0.002297</td>\n",
       "      <td>-0.013291</td>\n",
       "      <td>-0.022593</td>\n",
       "    </tr>\n",
       "    <tr>\n",
       "      <th>3</th>\n",
       "      <td>0.000705</td>\n",
       "      <td>-0.001333</td>\n",
       "      <td>0.000111</td>\n",
       "      <td>1.000000</td>\n",
       "      <td>-0.000592</td>\n",
       "      <td>0.020930</td>\n",
       "      <td>0.003464</td>\n",
       "      <td>0.018884</td>\n",
       "      <td>-0.009665</td>\n",
       "      <td>-0.013561</td>\n",
       "      <td>0.014955</td>\n",
       "      <td>0.000111</td>\n",
       "      <td>0.006303</td>\n",
       "    </tr>\n",
       "    <tr>\n",
       "      <th>4</th>\n",
       "      <td>0.008373</td>\n",
       "      <td>-0.005931</td>\n",
       "      <td>-0.014672</td>\n",
       "      <td>-0.000592</td>\n",
       "      <td>1.000000</td>\n",
       "      <td>0.018053</td>\n",
       "      <td>0.000553</td>\n",
       "      <td>0.006604</td>\n",
       "      <td>-0.018079</td>\n",
       "      <td>0.001130</td>\n",
       "      <td>-0.007775</td>\n",
       "      <td>-0.002404</td>\n",
       "      <td>0.000415</td>\n",
       "    </tr>\n",
       "    <tr>\n",
       "      <th>5</th>\n",
       "      <td>-0.011065</td>\n",
       "      <td>0.008843</td>\n",
       "      <td>0.014021</td>\n",
       "      <td>0.020930</td>\n",
       "      <td>0.018053</td>\n",
       "      <td>1.000000</td>\n",
       "      <td>0.010928</td>\n",
       "      <td>0.009479</td>\n",
       "      <td>0.009403</td>\n",
       "      <td>-0.014863</td>\n",
       "      <td>0.013834</td>\n",
       "      <td>0.009100</td>\n",
       "      <td>0.009425</td>\n",
       "    </tr>\n",
       "    <tr>\n",
       "      <th>6</th>\n",
       "      <td>0.022645</td>\n",
       "      <td>0.008947</td>\n",
       "      <td>-0.010896</td>\n",
       "      <td>0.003464</td>\n",
       "      <td>0.000553</td>\n",
       "      <td>0.010928</td>\n",
       "      <td>1.000000</td>\n",
       "      <td>0.000829</td>\n",
       "      <td>0.004241</td>\n",
       "      <td>-0.012111</td>\n",
       "      <td>-0.014598</td>\n",
       "      <td>0.001990</td>\n",
       "      <td>0.500095</td>\n",
       "    </tr>\n",
       "    <tr>\n",
       "      <th>7</th>\n",
       "      <td>-0.000628</td>\n",
       "      <td>-0.004167</td>\n",
       "      <td>-0.008521</td>\n",
       "      <td>0.018884</td>\n",
       "      <td>0.006604</td>\n",
       "      <td>0.009479</td>\n",
       "      <td>0.000829</td>\n",
       "      <td>1.000000</td>\n",
       "      <td>-0.015647</td>\n",
       "      <td>-0.008439</td>\n",
       "      <td>0.006654</td>\n",
       "      <td>-0.010313</td>\n",
       "      <td>0.484448</td>\n",
       "    </tr>\n",
       "    <tr>\n",
       "      <th>8</th>\n",
       "      <td>0.014265</td>\n",
       "      <td>-0.021844</td>\n",
       "      <td>0.000466</td>\n",
       "      <td>-0.009665</td>\n",
       "      <td>-0.018079</td>\n",
       "      <td>0.009403</td>\n",
       "      <td>0.004241</td>\n",
       "      <td>-0.015647</td>\n",
       "      <td>1.000000</td>\n",
       "      <td>0.016315</td>\n",
       "      <td>-0.005209</td>\n",
       "      <td>-0.027966</td>\n",
       "      <td>0.152783</td>\n",
       "    </tr>\n",
       "    <tr>\n",
       "      <th>9</th>\n",
       "      <td>0.003355</td>\n",
       "      <td>0.004767</td>\n",
       "      <td>-0.013469</td>\n",
       "      <td>-0.013561</td>\n",
       "      <td>0.001130</td>\n",
       "      <td>-0.014863</td>\n",
       "      <td>-0.012111</td>\n",
       "      <td>-0.008439</td>\n",
       "      <td>0.016315</td>\n",
       "      <td>1.000000</td>\n",
       "      <td>0.013414</td>\n",
       "      <td>0.000968</td>\n",
       "      <td>0.466152</td>\n",
       "    </tr>\n",
       "    <tr>\n",
       "      <th>10</th>\n",
       "      <td>-0.004684</td>\n",
       "      <td>0.004464</td>\n",
       "      <td>0.002297</td>\n",
       "      <td>0.014955</td>\n",
       "      <td>-0.007775</td>\n",
       "      <td>0.013834</td>\n",
       "      <td>-0.014598</td>\n",
       "      <td>0.006654</td>\n",
       "      <td>-0.005209</td>\n",
       "      <td>0.013414</td>\n",
       "      <td>1.000000</td>\n",
       "      <td>-0.004695</td>\n",
       "      <td>-0.000782</td>\n",
       "    </tr>\n",
       "    <tr>\n",
       "      <th>11</th>\n",
       "      <td>-0.017824</td>\n",
       "      <td>-0.005987</td>\n",
       "      <td>-0.013291</td>\n",
       "      <td>0.000111</td>\n",
       "      <td>-0.002404</td>\n",
       "      <td>0.009100</td>\n",
       "      <td>0.001990</td>\n",
       "      <td>-0.010313</td>\n",
       "      <td>-0.027966</td>\n",
       "      <td>0.000968</td>\n",
       "      <td>-0.004695</td>\n",
       "      <td>1.000000</td>\n",
       "      <td>0.504330</td>\n",
       "    </tr>\n",
       "    <tr>\n",
       "      <th>12</th>\n",
       "      <td>0.004609</td>\n",
       "      <td>-0.001219</td>\n",
       "      <td>-0.022593</td>\n",
       "      <td>0.006303</td>\n",
       "      <td>0.000415</td>\n",
       "      <td>0.009425</td>\n",
       "      <td>0.500095</td>\n",
       "      <td>0.484448</td>\n",
       "      <td>0.152783</td>\n",
       "      <td>0.466152</td>\n",
       "      <td>-0.000782</td>\n",
       "      <td>0.504330</td>\n",
       "      <td>1.000000</td>\n",
       "    </tr>\n",
       "  </tbody>\n",
       "</table>\n",
       "</div>"
      ],
      "text/plain": [
       "          0         1         2         3         4         5         6   \\\n",
       "0   1.000000 -0.004362  0.007072  0.000705  0.008373 -0.011065  0.022645   \n",
       "1  -0.004362  1.000000 -0.020603 -0.001333 -0.005931  0.008843  0.008947   \n",
       "2   0.007072 -0.020603  1.000000  0.000111 -0.014672  0.014021 -0.010896   \n",
       "3   0.000705 -0.001333  0.000111  1.000000 -0.000592  0.020930  0.003464   \n",
       "4   0.008373 -0.005931 -0.014672 -0.000592  1.000000  0.018053  0.000553   \n",
       "5  -0.011065  0.008843  0.014021  0.020930  0.018053  1.000000  0.010928   \n",
       "6   0.022645  0.008947 -0.010896  0.003464  0.000553  0.010928  1.000000   \n",
       "7  -0.000628 -0.004167 -0.008521  0.018884  0.006604  0.009479  0.000829   \n",
       "8   0.014265 -0.021844  0.000466 -0.009665 -0.018079  0.009403  0.004241   \n",
       "9   0.003355  0.004767 -0.013469 -0.013561  0.001130 -0.014863 -0.012111   \n",
       "10 -0.004684  0.004464  0.002297  0.014955 -0.007775  0.013834 -0.014598   \n",
       "11 -0.017824 -0.005987 -0.013291  0.000111 -0.002404  0.009100  0.001990   \n",
       "12  0.004609 -0.001219 -0.022593  0.006303  0.000415  0.009425  0.500095   \n",
       "\n",
       "          7         8         9         10        11        12  \n",
       "0  -0.000628  0.014265  0.003355 -0.004684 -0.017824  0.004609  \n",
       "1  -0.004167 -0.021844  0.004767  0.004464 -0.005987 -0.001219  \n",
       "2  -0.008521  0.000466 -0.013469  0.002297 -0.013291 -0.022593  \n",
       "3   0.018884 -0.009665 -0.013561  0.014955  0.000111  0.006303  \n",
       "4   0.006604 -0.018079  0.001130 -0.007775 -0.002404  0.000415  \n",
       "5   0.009479  0.009403 -0.014863  0.013834  0.009100  0.009425  \n",
       "6   0.000829  0.004241 -0.012111 -0.014598  0.001990  0.500095  \n",
       "7   1.000000 -0.015647 -0.008439  0.006654 -0.010313  0.484448  \n",
       "8  -0.015647  1.000000  0.016315 -0.005209 -0.027966  0.152783  \n",
       "9  -0.008439  0.016315  1.000000  0.013414  0.000968  0.466152  \n",
       "10  0.006654 -0.005209  0.013414  1.000000 -0.004695 -0.000782  \n",
       "11 -0.010313 -0.027966  0.000968 -0.004695  1.000000  0.504330  \n",
       "12  0.484448  0.152783  0.466152 -0.000782  0.504330  1.000000  "
      ]
     },
     "execution_count": 10,
     "metadata": {},
     "output_type": "execute_result"
    }
   ],
   "source": [
    "#Let us check the correlation\n",
    "df_train.corr()"
   ]
  },
  {
   "cell_type": "markdown",
   "metadata": {},
   "source": [
    "## Above correlation table represents the correlation among the features.\n",
    "\n",
    "### We can see that the target variable (represented by the row number and column number 12) is having very weak correlation with the feature variables (numbered 0,1,3,4,5, and 10) which are not contributing much to the value of our target variable. Let us remove those features from our data set and check if our R2 Score improves"
   ]
  },
  {
   "cell_type": "code",
   "execution_count": 11,
   "metadata": {},
   "outputs": [],
   "source": [
    "# new_train_data = train_data[:,[2,6,7,8,9,11,12]]\n",
    "# new_test_data = test_data[:,[2,6,7,8,9,11,12]]\n",
    "\n",
    "new_train_data = train_data[:,[6,7,8,9,11,12]]\n",
    "new_test_data = test_data[:,[6,7,8,9,11,12]]"
   ]
  },
  {
   "cell_type": "code",
   "execution_count": 12,
   "metadata": {},
   "outputs": [],
   "source": [
    "def predict(training_features, query_features):\n",
    "    \n",
    "    # call calculate_distances\n",
    "    distances = calculate_distances(training_features, query_features)\n",
    "    \n",
    "    # Set the number of neighbours to consider\n",
    "    k = 3 # We can paramterize this so that while calling predict value of K can be passed as an argument to this function. Instead of 2 parameters this function will then take 3 parameters\n",
    "    \n",
    "    # use np.argsort to return indices from distances\n",
    "    indices = np.argsort(distances)\n",
    "    \n",
    "    # average the 3 nearest disances\n",
    "    #predicted_value = np.mean(train_data[indices[0:k],-1])\n",
    "    \n",
    "    # Inverse weighted distance average\n",
    "    #predicted_value = np.sum(train_data[indices[0:k],-1] * (1/(distances[indices[0:k]]))) / np.sum((1/(distances[indices[0:k]])))\n",
    "    \n",
    "    # squared inverse weighted distance average\n",
    "    predicted_value = np.sum(new_train_data[indices[0:k],-1] * np.square(1/(distances[indices[0:k]]))) / np.sum(np.square(1/(distances[indices[0:k]])))\n",
    "    \n",
    "    # return the prediction\n",
    "    return predicted_value"
   ]
  },
  {
   "cell_type": "code",
   "execution_count": 13,
   "metadata": {},
   "outputs": [
    {
     "name": "stdout",
     "output_type": "stream",
     "text": [
      "R2 Score is:  0.9611635779734792\n"
     ]
    }
   ],
   "source": [
    "predictions = []\n",
    "\n",
    "for i in range(len(new_test_data)):\n",
    "    predicted_value = predict(new_train_data[:,0:-1], new_test_data[i,0:-1])\n",
    "    predictions.append(predicted_value)\n",
    "r2_score = calculate_r2(new_test_data[:,-1], np.array(predictions))\n",
    "print(\"R2 Score is: \", r2_score)"
   ]
  },
  {
   "cell_type": "markdown",
   "metadata": {},
   "source": [
    "# Removing the weak predictors which were pulling down the performance of KMeans algorith, has improved the score significantly.. Let us now check the R2 Score for different values of K (no of neighbours)"
   ]
  },
  {
   "cell_type": "code",
   "execution_count": 14,
   "metadata": {},
   "outputs": [],
   "source": [
    "def predict(training_features, query_features, k):\n",
    "    \n",
    "    # call calculate_distances\n",
    "    distances = calculate_distances(training_features, query_features)\n",
    "    \n",
    "    # Set the number of neighbours to consider\n",
    "    #k = 2 # We can paramterize this so that while calling predict value of K can be passed as an argument to this function. Instead of 2 parameters this function will then take 3 parameters\n",
    "    \n",
    "    # use np.argsort to return indices from distances\n",
    "    indices = np.argsort(distances)\n",
    "    \n",
    "    # average the 3 nearest disances\n",
    "    #predicted_value = np.mean(train_data[indices[0:k],-1])\n",
    "    \n",
    "    # Inverse weighted distance average\n",
    "    #predicted_value = np.sum(train_data[indices[0:k],-1] * (1/(distances[indices[0:k]]))) / np.sum((1/(distances[indices[0:k]])))\n",
    "    \n",
    "    # squared inverse weighted distance average\n",
    "    predicted_value = np.sum(new_train_data[indices[0:k],-1] * np.square(1/(distances[indices[0:k]]))) / np.sum(np.square(1/(distances[indices[0:k]])))\n",
    "    \n",
    "    # return the prediction\n",
    "    return predicted_value"
   ]
  },
  {
   "cell_type": "code",
   "execution_count": 15,
   "metadata": {},
   "outputs": [
    {
     "name": "stdout",
     "output_type": "stream",
     "text": [
      "K = 1, R2_Score = 0.9286765460737724\n",
      "K = 2, R2_Score = 0.9534594790307207\n",
      "K = 3, R2_Score = 0.9611635779734792\n",
      "K = 4, R2_Score = 0.9660481252882993\n",
      "K = 5, R2_Score = 0.9682009605433861\n",
      "K = 6, R2_Score = 0.9682937694255859\n",
      "K = 7, R2_Score = 0.9692738087759513\n",
      "K = 8, R2_Score = 0.9692388281783086\n",
      "K = 9, R2_Score = 0.9694553039757106\n",
      "K = 10, R2_Score = 0.9695399682791874\n"
     ]
    }
   ],
   "source": [
    "K = [1,2,3,4,5,6,7,8,9,10]\n",
    "r2_scores = []\n",
    "for k in K:\n",
    "    predictions = []\n",
    "    for i in range(len(new_test_data)):\n",
    "        predicted_value = predict(new_train_data[:,0:-1], new_test_data[i,0:-1], k)\n",
    "        predictions.append(predicted_value)\n",
    "    r2_score = calculate_r2(new_test_data[:,-1], np.array(predictions))\n",
    "    r2_scores.append(r2_score)\n",
    "    print(\"K = {}, R2_Score = {}\".format(k, r2_score))"
   ]
  },
  {
   "cell_type": "code",
   "execution_count": 16,
   "metadata": {},
   "outputs": [
    {
     "data": {
      "image/png": "[encoded data removed]",
      "text/plain": [
       "<Figure size 432x288 with 1 Axes>"
      ]
     },
     "metadata": {
      "needs_background": "light"
     },
     "output_type": "display_data"
    }
   ],
   "source": [
    "plt.plot(K, r2_scores)\n",
    "plt.title(\"R2_Score vs K values\")\n",
    "plt.xlabel(\"K (Neighbours)\")\n",
    "plt.ylabel(\"R2 score\")\n",
    "plt.grid(True)"
   ]
  },
  {
   "cell_type": "markdown",
   "metadata": {},
   "source": [
    "# From above plot, we can see that the R2_score has increased by 1% from K = 2 to K = 4, there after we do not see much improvement in our R2_score. We can choose K = 4 (Neighbours) for this problem as the best number of nearest neighbours"
   ]
  },
  {
   "cell_type": "markdown",
   "metadata": {},
   "source": [
    "# Using Mahalanobis on selected Strong predictors"
   ]
  },
  {
   "cell_type": "code",
   "execution_count": 17,
   "metadata": {},
   "outputs": [],
   "source": [
    "train_data = np.genfromtxt('Regression/trainingData.csv', delimiter = \",\")\n",
    "test_data = np.genfromtxt('Regression/testData.csv', delimiter = \",\")\n",
    "KNNRM = KNeighborsRegressor(n_neighbors=3, algorithm = 'brute', \n",
    "                            metric='mahalanobis', metric_params={'V':np.cov(new_train_data[:,0:-1])})"
   ]
  },
  {
   "cell_type": "code",
   "execution_count": 18,
   "metadata": {},
   "outputs": [
    {
     "data": {
      "text/plain": [
       "KNeighborsRegressor(algorithm='brute', metric='mahalanobis',\n",
       "                    metric_params={'V': array([[ 0.0053048 , -0.03783644, -0.05894303, ..., -0.05608456,\n",
       "        -0.00221903,  0.00551058],\n",
       "       [-0.03783644,  0.56439696,  0.44349119, ...,  0.24860501,\n",
       "        -0.33877491,  0.0638371 ],\n",
       "       [-0.05894303,  0.44349119,  0.79474251, ...,  0.39779431,\n",
       "        -0.27049391,  0.09141051],\n",
       "       ...,\n",
       "       [-0.05608456,  0.24860501,  0.39779431, ...,  1.01016537,\n",
       "         0.59786998, -0.38187748],\n",
       "       [-0.00221903, -0.33877491, -0.27049391, ...,  0.59786998,\n",
       "         0.99719971, -0.29464167],\n",
       "       [ 0.00551058,  0.0638371 ,  0.09141051, ..., -0.38187748,\n",
       "        -0.29464167,  0.43708408]])},\n",
       "                    n_neighbors=3)"
      ]
     },
     "execution_count": 18,
     "metadata": {},
     "output_type": "execute_result"
    }
   ],
   "source": [
    "KNNRM.fit(new_train_data[:,0:-1], new_train_data[:,-1])"
   ]
  },
  {
   "cell_type": "code",
   "execution_count": 19,
   "metadata": {},
   "outputs": [
    {
     "name": "stderr",
     "output_type": "stream",
     "text": [
      "c:\\python3.7.8\\lib\\site-packages\\sklearn\\metrics\\pairwise.py:1462: FutureWarning: from version 0.25, pairwise_distances for metric='mahalanobis' will require VI to be specified if Y is passed.\n",
      "  \"specified if Y is passed.\", FutureWarning)\n"
     ]
    },
    {
     "data": {
      "text/plain": [
       "0.9606728074654239"
      ]
     },
     "execution_count": 19,
     "metadata": {},
     "output_type": "execute_result"
    }
   ],
   "source": [
    "KNNRM.score(new_test_data[:,0:-1], new_test_data[:,-1])"
   ]
  },
  {
   "cell_type": "markdown",
   "metadata": {},
   "source": [
    "# Normalization on selected strong predictors and checking its effect on KNN Regressor"
   ]
  },
  {
   "cell_type": "code",
   "execution_count": 20,
   "metadata": {},
   "outputs": [],
   "source": [
    "min_train_data = new_train_data[:,0:-1].min(axis = 0)\n",
    "max_train_data = new_train_data[:,0:-1].max(axis = 0)\n",
    "\n",
    "new_train_data[:,0:-1] = ( new_train_data[:,0:-1] - new_train_data[:,0:-1].min(axis = 0) ) / ( new_train_data[:,0:-1].max(axis = 0) - new_train_data[:,0:-1].min(axis = 0) )\n",
    "\n",
    "new_test_data[:,0:-1] = ( new_test_data[:, 0:-1] - min_train_data ) / ( max_train_data - min_train_data )"
   ]
  },
  {
   "cell_type": "code",
   "execution_count": 21,
   "metadata": {},
   "outputs": [
    {
     "name": "stdout",
     "output_type": "stream",
     "text": [
      "K = 1, R2_Score = 0.9272798660104137\n",
      "K = 2, R2_Score = 0.9533421526653921\n",
      "K = 3, R2_Score = 0.9605015448768033\n",
      "K = 4, R2_Score = 0.9651223592663756\n",
      "K = 5, R2_Score = 0.9665981111969462\n",
      "K = 6, R2_Score = 0.96776183686209\n",
      "K = 7, R2_Score = 0.9675790432065086\n",
      "K = 8, R2_Score = 0.9678005536359034\n",
      "K = 9, R2_Score = 0.9678328090476075\n",
      "K = 10, R2_Score = 0.967446664594377\n"
     ]
    }
   ],
   "source": [
    "for k in K:\n",
    "    predictions = []\n",
    "    for i in range(len(new_test_data)):\n",
    "        predicted_value = predict(new_train_data[:,0:-1], new_test_data[i,0:-1], k)\n",
    "        predictions.append(predicted_value)\n",
    "    r2_score = calculate_r2(new_test_data[:,-1], np.array(predictions))\n",
    "    r2_scores.append(r2_score)\n",
    "    print(\"K = {}, R2_Score = {}\".format(k, r2_score))"
   ]
  },
  {
   "cell_type": "markdown",
   "metadata": {},
   "source": [
    "# From above results it is safe to conclude that in the given data set, euclidean distance with inverse squared distance weights is performing much better, and that there was issue with existance of some unwanted / weak predictors which affected our model performance earlier"
   ]
  }
 ],
 "metadata": {
  "kernelspec": {
   "display_name": "Python 3",
   "language": "python",
   "name": "python3"
  },
  "language_info": {
   "codemirror_mode": {
    "name": "ipython",
    "version": 3
   },
   "file_extension": ".py",
   "mimetype": "text/x-python",
   "name": "python",
   "nbconvert_exporter": "python",
   "pygments_lexer": "ipython3",
   "version": "3.7.8"
  }
 },
 "nbformat": 4,
 "nbformat_minor": 4
}
