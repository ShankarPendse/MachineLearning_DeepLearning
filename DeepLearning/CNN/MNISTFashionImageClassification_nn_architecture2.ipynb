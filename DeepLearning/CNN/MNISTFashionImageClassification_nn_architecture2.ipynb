{
 "cells": [
  {
   "cell_type": "code",
   "execution_count": 1,
   "metadata": {
    "colab": {
     "base_uri": "https://localhost:8080/"
    },
    "executionInfo": {
     "elapsed": 2503,
     "status": "ok",
     "timestamp": 1616978665144,
     "user": {
      "displayName": "Shankar Pendse",
      "photoUrl": "",
      "userId": "07611606062666259316"
     },
     "user_tz": -60
    },
    "id": "tl9KfcjsB09Q",
    "outputId": "86976260-f0b4-4076-dbba-fafedaa5e3ad"
   },
   "outputs": [
    {
     "name": "stdout",
     "output_type": "stream",
     "text": [
      "2.3.0\n"
     ]
    }
   ],
   "source": [
    "import tensorflow as tf\n",
    "import numpy as np\n",
    "from sklearn.metrics import accuracy_score\n",
    "print(tf.__version__)"
   ]
  },
  {
   "cell_type": "code",
   "execution_count": 2,
   "metadata": {
    "colab": {
     "base_uri": "https://localhost:8080/"
    },
    "executionInfo": {
     "elapsed": 1631,
     "status": "ok",
     "timestamp": 1616978951155,
     "user": {
      "displayName": "Shankar Pendse",
      "photoUrl": "",
      "userId": "07611606062666259316"
     },
     "user_tz": -60
    },
    "id": "f1I7TLooA7uG",
    "outputId": "5ad37e37-e75c-4a7f-d978-f5f96d77e571"
   },
   "outputs": [
    {
     "name": "stdout",
     "output_type": "stream",
     "text": [
      "Shape of training features  (60000, 784)\n",
      "Shape of test features  (10000, 784)\n",
      "Shape of training labels  (10, 60000)\n",
      "Shape of testing labels  (10, 10000)\n"
     ]
    }
   ],
   "source": [
    "import tensorflow as tf\n",
    "from keras.utils import np_utils\n",
    "\n",
    "fashion_mnist = tf.keras.datasets.fashion_mnist\n",
    "\n",
    "# load the training and test data    \n",
    "(tr_x, tr_y), (te_x, te_y) = fashion_mnist.load_data()\n",
    "\n",
    "# reshape the feature data\n",
    "tr_x = tr_x.reshape(tr_x.shape[0], 784)\n",
    "te_x = te_x.reshape(te_x.shape[0], 784)\n",
    "\n",
    "# noramlise feature data\n",
    "tr_x = tr_x / 255.0\n",
    "te_x = te_x / 255.0\n",
    "\n",
    "print( \"Shape of training features \", tr_x.shape)\n",
    "print( \"Shape of test features \", te_x.shape)\n",
    "\n",
    "\n",
    "# one hot encode the training labels and get the transpose\n",
    "tr_y = np_utils.to_categorical(tr_y,10)\n",
    "tr_y = tr_y.T\n",
    "print (\"Shape of training labels \", tr_y.shape)\n",
    "\n",
    "# one hot encode the test labels and get the transpose\n",
    "te_y = np_utils.to_categorical(te_y,10)\n",
    "te_y = te_y.T\n",
    "print (\"Shape of testing labels \", te_y.shape)"
   ]
  },
  {
   "cell_type": "code",
   "execution_count": 3,
   "metadata": {
    "executionInfo": {
     "elapsed": 5526,
     "status": "ok",
     "timestamp": 1616978957640,
     "user": {
      "displayName": "Shankar Pendse",
      "photoUrl": "",
      "userId": "07611606062666259316"
     },
     "user_tz": -60
    },
    "id": "6GEnhF8Ff9CP"
   },
   "outputs": [],
   "source": [
    "# Converting the numpy arrays to tensors\n",
    "tr_x = tf.convert_to_tensor(tr_x, dtype=tf.float64)\n",
    "tr_y = tf.convert_to_tensor(tr_y, dtype=tf.float64)\n",
    "te_x = tf.convert_to_tensor(te_x, dtype=tf.float64)\n",
    "te_y = tf.convert_to_tensor(te_y, dtype=tf.float64)"
   ]
  },
  {
   "cell_type": "code",
   "execution_count": 4,
   "metadata": {
    "executionInfo": {
     "elapsed": 549,
     "status": "ok",
     "timestamp": 1616978960025,
     "user": {
      "displayName": "Shankar Pendse",
      "photoUrl": "",
      "userId": "07611606062666259316"
     },
     "user_tz": -60
    },
    "id": "YJfviVH2PKQc"
   },
   "outputs": [],
   "source": [
    "# Implementation of softmax\n",
    "def softmax(previous_activations):\n",
    "    t = tf.cast(tf.exp(previous_activations), tf.float64) # Numerator part of the softmax (exp(x))\n",
    "    pred_probabilities = tf.cast(t / tf.reduce_sum(t, axis = 0), tf.float64) # Summing along the rows (each column represents one data point)\n",
    "    return pred_probabilities"
   ]
  },
  {
   "cell_type": "code",
   "execution_count": 5,
   "metadata": {
    "executionInfo": {
     "elapsed": 478,
     "status": "ok",
     "timestamp": 1616978962689,
     "user": {
      "displayName": "Shankar Pendse",
      "photoUrl": "",
      "userId": "07611606062666259316"
     },
     "user_tz": -60
    },
    "id": "MPjDkI98ajEx"
   },
   "outputs": [],
   "source": [
    "def forward_pass(data, W1, b1, W2, b2, W3, b3):\n",
    "    # Push the data through first hidden layer of the network and applying relu activation on it\n",
    "    hypothesis_hidden_layer1 = tf.cast(tf.matmul(W1, tf.transpose(data)) + b1, tf.float64)\n",
    "    activations_hidden_layer1 = tf.cast(tf.nn.relu(hypothesis_hidden_layer1), tf.float64)\n",
    "\n",
    "    # Push the ouput of hidden layer 1 through the hidden layer2 with relu activation function\n",
    "    hypothesis_hidden_layer2 = tf.cast(tf.matmul(W2, activations_hidden_layer1) + b2, tf.float64)\n",
    "    activations_hidden_layer2 = tf.cast(tf.nn.relu(hypothesis_hidden_layer2), tf.float64)\n",
    "\n",
    "    # Push the ouput of hidden layer 2 through the output layer with softmax activation function\n",
    "    hypothesis_output_layer = tf.cast(tf.matmul(W3, activations_hidden_layer2) + b3, tf.float64)\n",
    "    class_probabilities = tf.cast(softmax(hypothesis_output_layer), tf.float64)\n",
    "    \n",
    "    # returning the predictions\n",
    "    return class_probabilities"
   ]
  },
  {
   "cell_type": "code",
   "execution_count": 6,
   "metadata": {
    "executionInfo": {
     "elapsed": 519,
     "status": "ok",
     "timestamp": 1616978968634,
     "user": {
      "displayName": "Shankar Pendse",
      "photoUrl": "",
      "userId": "07611606062666259316"
     },
     "user_tz": -60
    },
    "id": "oEMpoIi9dcm9"
   },
   "outputs": [],
   "source": [
    "def cross_entropy(_predictions, _true_labels):\n",
    "    # Computing negative log likelihood, adding a small number within the log function to avoid log(0)\n",
    "    loss = tf.cast(tf.reduce_mean(-tf.reduce_sum(_true_labels * tf.math.log(_predictions+1e-7), axis=0)), tf.float64)\n",
    "    return loss"
   ]
  },
  {
   "cell_type": "code",
   "execution_count": 7,
   "metadata": {
    "executionInfo": {
     "elapsed": 494,
     "status": "ok",
     "timestamp": 1616978973621,
     "user": {
      "displayName": "Shankar Pendse",
      "photoUrl": "",
      "userId": "07611606062666259316"
     },
     "user_tz": -60
    },
    "id": "hPza-0UkfEh0"
   },
   "outputs": [],
   "source": [
    "def calculate_accuracy(true_labels, predictions):\n",
    "    predictions = tf.round(predictions) # Rounding off the decimal representation of softmax output to nearest integer(>0.5 to 1 and <0.5 to 0)\n",
    "    \n",
    "    # argmax to get the index of the predicted array, axis = 0 to get the index for each data point prediction\n",
    "    accuracy = tf.cast(accuracy_score(np.argmax(predictions, axis = 0), np.argmax(true_labels, axis = 0)), tf.float64)\n",
    "    return accuracy"
   ]
  },
  {
   "cell_type": "code",
   "execution_count": 8,
   "metadata": {
    "executionInfo": {
     "elapsed": 660,
     "status": "ok",
     "timestamp": 1616978975804,
     "user": {
      "displayName": "Shankar Pendse",
      "photoUrl": "",
      "userId": "07611606062666259316"
     },
     "user_tz": -60
    },
    "id": "QaKEsjJKj0Hq"
   },
   "outputs": [],
   "source": [
    "# lists to store the loss and accuracy for train and test data\n",
    "tr_loss = []\n",
    "te_loss = []\n",
    "tr_accuracy = []\n",
    "te_accuracy = []\n",
    "\n",
    "# Function to iterate and update the weigths and bias values using adam optimizer\n",
    "def train(tr_x, W1, b1, W2, b2, W3, b3, tr_y, te_x, te_y):\n",
    "    max_iterations = 1000\n",
    "    adam_optimizer = tf.keras.optimizers.Adam(learning_rate=0.001)\n",
    "    \n",
    "    for i in range(max_iterations):\n",
    "        # Record the computation\n",
    "        with tf.GradientTape() as tape:\n",
    "            predictions = forward_pass(tr_x, W1, b1, W2, b2, W3, b3)\n",
    "            train_loss = cross_entropy(predictions, tr_y)\n",
    "\n",
    "        # Calculate the gradients\n",
    "        gradients = tape.gradient(train_loss, [W1, b1, W2, b2, W3, b3])\n",
    "        train_accuracy = calculate_accuracy(tr_y, predictions)\n",
    "\n",
    "        test_predictions = forward_pass(te_x, W1, b1, W2, b2, W3, b3)\n",
    "        test_loss = cross_entropy(test_predictions, te_y)\n",
    "        test_accuracy = calculate_accuracy(te_y, test_predictions)\n",
    "        \n",
    "        tr_loss.append(train_loss)\n",
    "        te_loss.append(test_loss)\n",
    "\n",
    "        tr_accuracy.append(train_accuracy)\n",
    "        te_accuracy.append(test_accuracy)\n",
    "\n",
    "        # update the weights and bias values as per calculated gradients\n",
    "        adam_optimizer.apply_gradients(zip(gradients, [W1, b1, W2, b2, W3, b3]))\n",
    "        \n",
    "        print(\"Iteraions {}: train_loss: {} train_accuracy: {} test_loss: {} test_accuracy: {}\".format(i, train_loss, train_accuracy, test_loss, test_accuracy))"
   ]
  },
  {
   "cell_type": "code",
   "execution_count": 9,
   "metadata": {
    "executionInfo": {
     "elapsed": 483,
     "status": "ok",
     "timestamp": 1616978983351,
     "user": {
      "displayName": "Shankar Pendse",
      "photoUrl": "",
      "userId": "07611606062666259316"
     },
     "user_tz": -60
    },
    "id": "ASGYORplX9-K"
   },
   "outputs": [],
   "source": [
    "# Defining the model\n",
    "no_of_features = tr_x.shape[1]\n",
    "no_of_neurons_hidden_layer1 = 300\n",
    "no_of_neurons_hidden_layer2 = 100\n",
    "no_of_output_units = 10\n",
    "\n",
    "# Declaring weights and bias for the NN\n",
    "W1 = tf.Variable(tf.random.normal(shape=(no_of_neurons_hidden_layer1, no_of_features), seed=0, dtype=tf.float64) * 0.01)\n",
    "b1 = tf.Variable([0], dtype=tf.float64)\n",
    "\n",
    "W2 = tf.Variable(tf.random.normal(shape=(no_of_neurons_hidden_layer2, no_of_neurons_hidden_layer1), seed=0, dtype=tf.float64) * 0.01)\n",
    "b2 = tf.Variable([0], dtype=tf.float64)\n",
    "\n",
    "W3 = tf.Variable(tf.random.normal(shape=(no_of_output_units, no_of_neurons_hidden_layer2), seed=0, dtype=tf.float64) * 0.01)\n",
    "b3 = tf.Variable([0], dtype=tf.float64)"
   ]
  },
  {
   "cell_type": "code",
   "execution_count": 17,
   "metadata": {
    "colab": {
     "base_uri": "https://localhost:8080/"
    },
    "executionInfo": {
     "elapsed": 397252,
     "status": "ok",
     "timestamp": 1616979393236,
     "user": {
      "displayName": "Shankar Pendse",
      "photoUrl": "",
      "userId": "07611606062666259316"
     },
     "user_tz": -60
    },
    "id": "ztcPLfZoSt0W",
    "outputId": "975eab00-3a5c-42b0-affd-e7913dc9154a",
    "scrolled": true
   },
   "outputs": [
    {
     "name": "stdout",
     "output_type": "stream",
     "text": [
      "Iteraions 0: train_loss: 2.3025705562061978 train_accuracy: 0.1 test_loss: 2.3025653557555805 test_accuracy: 0.1\n",
      "Iteraions 1: train_loss: 2.299457030884008 train_accuracy: 0.1 test_loss: 2.299463112088303 test_accuracy: 0.1\n",
      "Iteraions 2: train_loss: 2.2936570666728673 train_accuracy: 0.1 test_loss: 2.293674709536964 test_accuracy: 0.1\n",
      "Iteraions 3: train_loss: 2.283829050544252 train_accuracy: 0.1 test_loss: 2.2838773069304428 test_accuracy: 0.1\n",
      "Iteraions 4: train_loss: 2.26885085731762 train_accuracy: 0.1 test_loss: 2.268955541215196 test_accuracy: 0.1\n",
      "Iteraions 5: train_loss: 2.2470377608010352 train_accuracy: 0.1 test_loss: 2.2472251297064125 test_accuracy: 0.1\n",
      "Iteraions 6: train_loss: 2.21688015559587 train_accuracy: 0.1 test_loss: 2.2171835161597295 test_accuracy: 0.1\n",
      "Iteraions 7: train_loss: 2.1774419169627075 train_accuracy: 0.1 test_loss: 2.177901647432932 test_accuracy: 0.1\n",
      "Iteraions 8: train_loss: 2.127893451591306 train_accuracy: 0.1 test_loss: 2.128562399838693 test_accuracy: 0.1\n",
      "Iteraions 9: train_loss: 2.0680905684990236 train_accuracy: 0.1 test_loss: 2.0690498683499916 test_accuracy: 0.1\n",
      "Iteraions 10: train_loss: 1.9991114276392927 train_accuracy: 0.1 test_loss: 2.0004648290526363 test_accuracy: 0.1\n",
      "Iteraions 11: train_loss: 1.9227565668110969 train_accuracy: 0.1 test_loss: 1.924602362444583 test_accuracy: 0.1\n",
      "Iteraions 12: train_loss: 1.8411902581800406 train_accuracy: 0.1 test_loss: 1.8435842138024419 test_accuracy: 0.1\n",
      "Iteraions 13: train_loss: 1.7577144141780399 train_accuracy: 0.1 test_loss: 1.7606254443698492 test_accuracy: 0.1\n",
      "Iteraions 14: train_loss: 1.6770621609658478 train_accuracy: 0.10748333333333333 test_loss: 1.6803870257933202 test_accuracy: 0.1075\n",
      "Iteraions 15: train_loss: 1.6024447039835403 train_accuracy: 0.13165 test_loss: 1.6060668758964494 test_accuracy: 0.132\n",
      "Iteraions 16: train_loss: 1.533058219037479 train_accuracy: 0.14916666666666667 test_loss: 1.5369713608451723 test_accuracy: 0.1475\n",
      "Iteraions 17: train_loss: 1.4676195201503088 train_accuracy: 0.16135 test_loss: 1.4719749393309087 test_accuracy: 0.1576\n",
      "Iteraions 18: train_loss: 1.4067785035964204 train_accuracy: 0.16093333333333334 test_loss: 1.4118343758878389 test_accuracy: 0.1585\n",
      "Iteraions 19: train_loss: 1.3525811801949519 train_accuracy: 0.15383333333333332 test_loss: 1.3585248226696574 test_accuracy: 0.154\n",
      "Iteraions 20: train_loss: 1.3043830847193458 train_accuracy: 0.15456666666666666 test_loss: 1.3111868497078225 test_accuracy: 0.155\n",
      "Iteraions 21: train_loss: 1.25903682339856 train_accuracy: 0.16911666666666667 test_loss: 1.2665968901317854 test_accuracy: 0.1678\n",
      "Iteraions 22: train_loss: 1.2146654629304585 train_accuracy: 0.20073333333333335 test_loss: 1.2229442845678922 test_accuracy: 0.1977\n",
      "Iteraions 23: train_loss: 1.1756934548689812 train_accuracy: 0.23208333333333334 test_loss: 1.1849282324476929 test_accuracy: 0.2309\n",
      "Iteraions 24: train_loss: 1.1453660181486658 train_accuracy: 0.26361666666666667 test_loss: 1.1559364476978087 test_accuracy: 0.2624\n",
      "Iteraions 25: train_loss: 1.115301891440693 train_accuracy: 0.29123333333333334 test_loss: 1.1274998869140105 test_accuracy: 0.2902\n",
      "Iteraions 26: train_loss: 1.0842901207124243 train_accuracy: 0.32216666666666666 test_loss: 1.0978992964457333 test_accuracy: 0.3183\n",
      "Iteraions 27: train_loss: 1.05913831636064 train_accuracy: 0.35591666666666666 test_loss: 1.0736093323951819 test_accuracy: 0.3522\n",
      "Iteraions 28: train_loss: 1.0359205332817687 train_accuracy: 0.38521666666666665 test_loss: 1.051186111891645 test_accuracy: 0.3841\n",
      "Iteraions 29: train_loss: 1.013013822234208 train_accuracy: 0.40763333333333335 test_loss: 1.0292247574145175 test_accuracy: 0.405\n",
      "Iteraions 30: train_loss: 0.9910125741812688 train_accuracy: 0.4256666666666667 test_loss: 1.0085748975014277 test_accuracy: 0.423\n",
      "Iteraions 31: train_loss: 0.9720178201559938 train_accuracy: 0.4475166666666667 test_loss: 0.9910565665613028 test_accuracy: 0.4435\n",
      "Iteraions 32: train_loss: 0.9528830189289186 train_accuracy: 0.46498333333333336 test_loss: 0.973028070664118 test_accuracy: 0.4607\n",
      "Iteraions 33: train_loss: 0.9359031632166368 train_accuracy: 0.47731666666666667 test_loss: 0.9565197379984729 test_accuracy: 0.4707\n",
      "Iteraions 34: train_loss: 0.9201074414763083 train_accuracy: 0.4968166666666667 test_loss: 0.9410046987462338 test_accuracy: 0.491\n",
      "Iteraions 35: train_loss: 0.9051289173084801 train_accuracy: 0.5200833333333333 test_loss: 0.9265953914338594 test_accuracy: 0.5128\n",
      "Iteraions 36: train_loss: 0.8915561926784769 train_accuracy: 0.5300833333333334 test_loss: 0.9140491777936053 test_accuracy: 0.5218\n",
      "Iteraions 37: train_loss: 0.8798884433994868 train_accuracy: 0.5279166666666667 test_loss: 0.9030453301905756 test_accuracy: 0.5193\n",
      "Iteraions 38: train_loss: 0.8679763075289588 train_accuracy: 0.5516833333333333 test_loss: 0.891657515427273 test_accuracy: 0.5445\n",
      "Iteraions 39: train_loss: 0.8589068048326054 train_accuracy: 0.5567333333333333 test_loss: 0.8816216250527821 test_accuracy: 0.5485\n",
      "Iteraions 40: train_loss: 0.849554555860211 train_accuracy: 0.56195 test_loss: 0.8721457366025319 test_accuracy: 0.5552\n",
      "Iteraions 41: train_loss: 0.8390080482873739 train_accuracy: 0.5659833333333333 test_loss: 0.861642714818113 test_accuracy: 0.5604\n",
      "Iteraions 42: train_loss: 0.8305147133878188 train_accuracy: 0.58245 test_loss: 0.8542691715082926 test_accuracy: 0.5751\n",
      "Iteraions 43: train_loss: 0.8225983384824151 train_accuracy: 0.5834833333333334 test_loss: 0.8471914879010981 test_accuracy: 0.5759\n",
      "Iteraions 44: train_loss: 0.8137793794637934 train_accuracy: 0.5817333333333333 test_loss: 0.8374932605150248 test_accuracy: 0.5751\n",
      "Iteraions 45: train_loss: 0.8042082921976109 train_accuracy: 0.5987666666666667 test_loss: 0.8273582006418221 test_accuracy: 0.5918\n",
      "Iteraions 46: train_loss: 0.7955041465803235 train_accuracy: 0.6008333333333333 test_loss: 0.8186337591010614 test_accuracy: 0.5946\n",
      "Iteraions 47: train_loss: 0.7867760371547933 train_accuracy: 0.59885 test_loss: 0.8097169029715523 test_accuracy: 0.5924\n",
      "Iteraions 48: train_loss: 0.7765106001582399 train_accuracy: 0.60895 test_loss: 0.7994865921999873 test_accuracy: 0.6019\n",
      "Iteraions 49: train_loss: 0.7677528226239714 train_accuracy: 0.61545 test_loss: 0.7907448049037045 test_accuracy: 0.6092\n",
      "Iteraions 50: train_loss: 0.7585710599224088 train_accuracy: 0.6157166666666667 test_loss: 0.7815535585659006 test_accuracy: 0.6128\n",
      "Iteraions 51: train_loss: 0.7490384711515276 train_accuracy: 0.6221666666666666 test_loss: 0.7724882696088253 test_accuracy: 0.6175\n",
      "Iteraions 52: train_loss: 0.7407480940753303 train_accuracy: 0.6318166666666667 test_loss: 0.7643201117330526 test_accuracy: 0.6265\n",
      "Iteraions 53: train_loss: 0.7322094576933387 train_accuracy: 0.6320166666666667 test_loss: 0.755445773120543 test_accuracy: 0.6281\n",
      "Iteraions 54: train_loss: 0.7242591161070513 train_accuracy: 0.6334166666666666 test_loss: 0.7476450725215358 test_accuracy: 0.6302\n",
      "Iteraions 55: train_loss: 0.7167804881528362 train_accuracy: 0.6475 test_loss: 0.7404539849597691 test_accuracy: 0.6436\n",
      "Iteraions 56: train_loss: 0.7093368548930336 train_accuracy: 0.65065 test_loss: 0.7333021073204511 test_accuracy: 0.6464\n",
      "Iteraions 57: train_loss: 0.7027695722294779 train_accuracy: 0.6472666666666667 test_loss: 0.7271587024365421 test_accuracy: 0.6426\n",
      "Iteraions 58: train_loss: 0.6959080965465929 train_accuracy: 0.6626833333333333 test_loss: 0.7203460440281721 test_accuracy: 0.6551\n",
      "Iteraions 59: train_loss: 0.6891127637942175 train_accuracy: 0.6647333333333333 test_loss: 0.7138389114995174 test_accuracy: 0.6577\n",
      "Iteraions 60: train_loss: 0.6832441270702454 train_accuracy: 0.6621333333333334 test_loss: 0.7084024264489168 test_accuracy: 0.6558\n",
      "Iteraions 61: train_loss: 0.6768866546203829 train_accuracy: 0.6759666666666667 test_loss: 0.7020522039238254 test_accuracy: 0.6691\n",
      "Iteraions 62: train_loss: 0.6704637128182847 train_accuracy: 0.6763833333333333 test_loss: 0.6959760068452235 test_accuracy: 0.6718\n",
      "Iteraions 63: train_loss: 0.6647102262438225 train_accuracy: 0.6775166666666667 test_loss: 0.6904989028770017 test_accuracy: 0.6724\n",
      "Iteraions 64: train_loss: 0.6586488363391014 train_accuracy: 0.6873666666666667 test_loss: 0.6844240018874035 test_accuracy: 0.6809\n"
     ]
    },
    {
     "name": "stdout",
     "output_type": "stream",
     "text": [
      "Iteraions 65: train_loss: 0.6528397507632249 train_accuracy: 0.6875166666666667 test_loss: 0.6789829155878798 test_accuracy: 0.6817\n",
      "Iteraions 66: train_loss: 0.6473289500949779 train_accuracy: 0.6931666666666667 test_loss: 0.6738229191987656 test_accuracy: 0.6837\n",
      "Iteraions 67: train_loss: 0.6413664543060368 train_accuracy: 0.6968833333333333 test_loss: 0.6680696203609757 test_accuracy: 0.6891\n",
      "Iteraions 68: train_loss: 0.6358037355055208 train_accuracy: 0.7003333333333334 test_loss: 0.6627959251143902 test_accuracy: 0.6912\n",
      "Iteraions 69: train_loss: 0.630617645672649 train_accuracy: 0.7025 test_loss: 0.6579440391840886 test_accuracy: 0.6936\n",
      "Iteraions 70: train_loss: 0.6252021214171657 train_accuracy: 0.70555 test_loss: 0.652533041417634 test_accuracy: 0.6966\n",
      "Iteraions 71: train_loss: 0.6199344873703949 train_accuracy: 0.7118166666666667 test_loss: 0.6474325559698134 test_accuracy: 0.7012\n",
      "Iteraions 72: train_loss: 0.6149555311809796 train_accuracy: 0.7102833333333334 test_loss: 0.6430287219297476 test_accuracy: 0.6993\n",
      "Iteraions 73: train_loss: 0.6099020420562081 train_accuracy: 0.7179666666666666 test_loss: 0.6380841650868574 test_accuracy: 0.7077\n",
      "Iteraions 74: train_loss: 0.6048177851225223 train_accuracy: 0.7172833333333334 test_loss: 0.6332950593688834 test_accuracy: 0.7044\n",
      "Iteraions 75: train_loss: 0.6000402716020939 train_accuracy: 0.7215666666666667 test_loss: 0.6286252942666655 test_accuracy: 0.7099\n",
      "Iteraions 76: train_loss: 0.5952977355224777 train_accuracy: 0.7234166666666667 test_loss: 0.6239364623765598 test_accuracy: 0.7108\n",
      "Iteraions 77: train_loss: 0.5904866402115173 train_accuracy: 0.72675 test_loss: 0.6194131378860694 test_accuracy: 0.713\n",
      "Iteraions 78: train_loss: 0.5857864038807148 train_accuracy: 0.7281666666666666 test_loss: 0.6147498015097426 test_accuracy: 0.7151\n",
      "Iteraions 79: train_loss: 0.5812859264451715 train_accuracy: 0.7318333333333333 test_loss: 0.6102225249900359 test_accuracy: 0.7184\n",
      "Iteraions 80: train_loss: 0.5768053540651783 train_accuracy: 0.7329666666666667 test_loss: 0.606121708163601 test_accuracy: 0.7185\n",
      "Iteraions 81: train_loss: 0.5723106218617755 train_accuracy: 0.7367833333333333 test_loss: 0.6016020469436715 test_accuracy: 0.7244\n",
      "Iteraions 82: train_loss: 0.5680709638144763 train_accuracy: 0.7366 test_loss: 0.5976160528515659 test_accuracy: 0.7229\n",
      "Iteraions 83: train_loss: 0.5643230519647463 train_accuracy: 0.7424 test_loss: 0.5940074582538533 test_accuracy: 0.7305\n",
      "Iteraions 84: train_loss: 0.5615758865762924 train_accuracy: 0.7377 test_loss: 0.5915183147583839 test_accuracy: 0.7245\n",
      "Iteraions 85: train_loss: 0.5600919864749843 train_accuracy: 0.7483833333333333 test_loss: 0.5901782859202079 test_accuracy: 0.7347\n",
      "Iteraions 86: train_loss: 0.5577925565205804 train_accuracy: 0.7394166666666667 test_loss: 0.5883331937400218 test_accuracy: 0.7221\n",
      "Iteraions 87: train_loss: 0.5505415745530149 train_accuracy: 0.75145 test_loss: 0.5807625604979484 test_accuracy: 0.7397\n",
      "Iteraions 88: train_loss: 0.5446235353048287 train_accuracy: 0.7529833333333333 test_loss: 0.5754646004963216 test_accuracy: 0.7384\n",
      "Iteraions 89: train_loss: 0.5438674980763711 train_accuracy: 0.74915 test_loss: 0.5749832303672067 test_accuracy: 0.7339\n",
      "Iteraions 90: train_loss: 0.5406029799416715 train_accuracy: 0.7572666666666666 test_loss: 0.5716504642657737 test_accuracy: 0.7428\n",
      "Iteraions 91: train_loss: 0.5345157602120514 train_accuracy: 0.758 test_loss: 0.5662435774648064 test_accuracy: 0.7429\n",
      "Iteraions 92: train_loss: 0.5323194352672113 train_accuracy: 0.7575333333333333 test_loss: 0.5641836218339851 test_accuracy: 0.7424\n",
      "Iteraions 93: train_loss: 0.5300723875693361 train_accuracy: 0.7643 test_loss: 0.5619478323079602 test_accuracy: 0.7483\n",
      "Iteraions 94: train_loss: 0.525062169597168 train_accuracy: 0.7636333333333334 test_loss: 0.5573537760006837 test_accuracy: 0.7484\n",
      "Iteraions 95: train_loss: 0.5223462973330176 train_accuracy: 0.7644333333333333 test_loss: 0.5547128724569749 test_accuracy: 0.7487\n",
      "Iteraions 96: train_loss: 0.5202137817207922 train_accuracy: 0.7701666666666667 test_loss: 0.5529645766270808 test_accuracy: 0.7539\n",
      "Iteraions 97: train_loss: 0.5158220042692325 train_accuracy: 0.7692833333333333 test_loss: 0.5486587012993174 test_accuracy: 0.7548\n",
      "Iteraions 98: train_loss: 0.5131573183092378 train_accuracy: 0.7712833333333333 test_loss: 0.5458710455802412 test_accuracy: 0.7552\n",
      "Iteraions 99: train_loss: 0.5111230996408581 train_accuracy: 0.7754833333333333 test_loss: 0.5445312018261657 test_accuracy: 0.7604\n",
      "Iteraions 100: train_loss: 0.5069471555715659 train_accuracy: 0.7750666666666667 test_loss: 0.5401396602834242 test_accuracy: 0.7597\n",
      "Iteraions 101: train_loss: 0.5042663854669827 train_accuracy: 0.7767833333333334 test_loss: 0.5374188530758178 test_accuracy: 0.763\n",
      "Iteraions 102: train_loss: 0.5023698953136315 train_accuracy: 0.7804833333333333 test_loss: 0.5361486897690588 test_accuracy: 0.7662\n",
      "Iteraions 103: train_loss: 0.49868880704906404 train_accuracy: 0.78035 test_loss: 0.5320488685519702 test_accuracy: 0.7666\n",
      "Iteraions 104: train_loss: 0.49587413657863155 train_accuracy: 0.78185 test_loss: 0.5295576422858698 test_accuracy: 0.7674\n",
      "Iteraions 105: train_loss: 0.4938159801661764 train_accuracy: 0.7856 test_loss: 0.5275880085209674 test_accuracy: 0.7712\n",
      "Iteraions 106: train_loss: 0.4905856143642765 train_accuracy: 0.7852 test_loss: 0.5244273241164482 test_accuracy: 0.7705\n",
      "Iteraions 107: train_loss: 0.4877152076718903 train_accuracy: 0.7871666666666667 test_loss: 0.5215516776446554 test_accuracy: 0.7744\n",
      "Iteraions 108: train_loss: 0.4856517795515455 train_accuracy: 0.7892333333333333 test_loss: 0.5198332162323533 test_accuracy: 0.7766\n",
      "Iteraions 109: train_loss: 0.48282725922016206 train_accuracy: 0.7894166666666667 test_loss: 0.5169014557966591 test_accuracy: 0.776\n",
      "Iteraions 110: train_loss: 0.4799459819279027 train_accuracy: 0.7919 test_loss: 0.5142519096447646 test_accuracy: 0.7785\n",
      "Iteraions 111: train_loss: 0.4777741071522817 train_accuracy: 0.7940666666666667 test_loss: 0.5122822229082029 test_accuracy: 0.7811\n",
      "Iteraions 112: train_loss: 0.47537470933148823 train_accuracy: 0.7939333333333334 test_loss: 0.5097762142822488 test_accuracy: 0.7806\n",
      "Iteraions 113: train_loss: 0.4726164991869731 train_accuracy: 0.7969166666666667 test_loss: 0.5073627511506393 test_accuracy: 0.7827\n",
      "Iteraions 114: train_loss: 0.4702563891734166 train_accuracy: 0.7985 test_loss: 0.5050636087429643 test_accuracy: 0.785\n",
      "Iteraions 115: train_loss: 0.46821522990179476 train_accuracy: 0.7980833333333334 test_loss: 0.5031633744250312 test_accuracy: 0.7842\n",
      "Iteraions 116: train_loss: 0.46610968241904716 train_accuracy: 0.8011 test_loss: 0.5009944146442751 test_accuracy: 0.788\n",
      "Iteraions 117: train_loss: 0.46502337197870863 train_accuracy: 0.8007166666666666 test_loss: 0.5008363244039808 test_accuracy: 0.7855\n",
      "Iteraions 118: train_loss: 0.4692228342914544 train_accuracy: 0.8003333333333333 test_loss: 0.5035908396604672 test_accuracy: 0.7873\n",
      "Iteraions 119: train_loss: 0.47345144848912074 train_accuracy: 0.7981666666666667 test_loss: 0.5108688610968597 test_accuracy: 0.7827\n",
      "Iteraions 120: train_loss: 0.47136256286429634 train_accuracy: 0.8013833333333333 test_loss: 0.5057663048007105 test_accuracy: 0.7883\n",
      "Iteraions 121: train_loss: 0.45643127672788253 train_accuracy: 0.8054833333333333 test_loss: 0.4914925706989228 test_accuracy: 0.7918\n",
      "Iteraions 122: train_loss: 0.47110795608157846 train_accuracy: 0.80065 test_loss: 0.5088809844157403 test_accuracy: 0.7839\n",
      "Iteraions 123: train_loss: 0.4660376168238996 train_accuracy: 0.8043166666666667 test_loss: 0.5007210463387812 test_accuracy: 0.7908\n",
      "Iteraions 124: train_loss: 0.45823864019978794 train_accuracy: 0.8058166666666666 test_loss: 0.4927678017787706 test_accuracy: 0.7938\n",
      "Iteraions 125: train_loss: 0.46763262489259433 train_accuracy: 0.8027833333333333 test_loss: 0.5054700943594653 test_accuracy: 0.7854\n",
      "Iteraions 126: train_loss: 0.4510026378501334 train_accuracy: 0.81145 test_loss: 0.48679138104328196 test_accuracy: 0.7968\n",
      "Iteraions 127: train_loss: 0.45967761508570254 train_accuracy: 0.8062333333333334 test_loss: 0.49435278110631437 test_accuracy: 0.7944\n",
      "Iteraions 128: train_loss: 0.44657279275637896 train_accuracy: 0.8117666666666666 test_loss: 0.48233593334555064 test_accuracy: 0.7965\n"
     ]
    },
    {
     "name": "stdout",
     "output_type": "stream",
     "text": [
      "Iteraions 129: train_loss: 0.45508345058719607 train_accuracy: 0.8111333333333334 test_loss: 0.49267704564259 test_accuracy: 0.7951\n",
      "Iteraions 130: train_loss: 0.4454366136143822 train_accuracy: 0.8133333333333334 test_loss: 0.48091093784883887 test_accuracy: 0.7998\n",
      "Iteraions 131: train_loss: 0.4504810779120859 train_accuracy: 0.8099 test_loss: 0.485498733249991 test_accuracy: 0.799\n",
      "Iteraions 132: train_loss: 0.4429887544484252 train_accuracy: 0.8152166666666667 test_loss: 0.47958890810349275 test_accuracy: 0.7989\n",
      "Iteraions 133: train_loss: 0.44582859942584396 train_accuracy: 0.8150833333333334 test_loss: 0.48316114356439666 test_accuracy: 0.7992\n",
      "Iteraions 134: train_loss: 0.44114087236561383 train_accuracy: 0.8148333333333333 test_loss: 0.4766629324452834 test_accuracy: 0.8003\n",
      "Iteraions 135: train_loss: 0.44188652692790464 train_accuracy: 0.8148333333333333 test_loss: 0.47731500030905816 test_accuracy: 0.802\n",
      "Iteraions 136: train_loss: 0.43874877741344814 train_accuracy: 0.8176833333333333 test_loss: 0.4756411985339821 test_accuracy: 0.8021\n",
      "Iteraions 137: train_loss: 0.4386099014746471 train_accuracy: 0.8174833333333333 test_loss: 0.47568651880131235 test_accuracy: 0.8023\n",
      "Iteraions 138: train_loss: 0.4366208960179415 train_accuracy: 0.81715 test_loss: 0.47240257190981566 test_accuracy: 0.8031\n",
      "Iteraions 139: train_loss: 0.4356591140363431 train_accuracy: 0.8178833333333333 test_loss: 0.47161716434979706 test_accuracy: 0.805\n",
      "Iteraions 140: train_loss: 0.4340552268265766 train_accuracy: 0.81955 test_loss: 0.47115904071408393 test_accuracy: 0.8033\n",
      "Iteraions 141: train_loss: 0.4327678640854936 train_accuracy: 0.81975 test_loss: 0.469807581395757 test_accuracy: 0.803\n",
      "Iteraions 142: train_loss: 0.4320001416937479 train_accuracy: 0.8197 test_loss: 0.4682206857365669 test_accuracy: 0.8054\n",
      "Iteraions 143: train_loss: 0.4301817043974354 train_accuracy: 0.8208333333333333 test_loss: 0.46665137295184267 test_accuracy: 0.8064\n",
      "Iteraions 144: train_loss: 0.4298589398982059 train_accuracy: 0.8210833333333334 test_loss: 0.46725801272663664 test_accuracy: 0.8049\n",
      "Iteraions 145: train_loss: 0.4274919189773261 train_accuracy: 0.8218333333333333 test_loss: 0.4646708911470417 test_accuracy: 0.8059\n",
      "Iteraions 146: train_loss: 0.42760466873431663 train_accuracy: 0.82195 test_loss: 0.46419972152846495 test_accuracy: 0.8075\n",
      "Iteraions 147: train_loss: 0.42525766448264873 train_accuracy: 0.82265 test_loss: 0.4621689299873173 test_accuracy: 0.808\n",
      "Iteraions 148: train_loss: 0.42548283130379133 train_accuracy: 0.8231333333333334 test_loss: 0.46316205388096315 test_accuracy: 0.8073\n",
      "Iteraions 149: train_loss: 0.4230562694580138 train_accuracy: 0.8238166666666666 test_loss: 0.46033968983244705 test_accuracy: 0.8076\n",
      "Iteraions 150: train_loss: 0.42326440124550385 train_accuracy: 0.8239166666666666 test_loss: 0.46012701827969504 test_accuracy: 0.8089\n",
      "Iteraions 151: train_loss: 0.42096354665115965 train_accuracy: 0.8247333333333333 test_loss: 0.4583526822447904 test_accuracy: 0.8082\n",
      "Iteraions 152: train_loss: 0.42107501291238014 train_accuracy: 0.8251333333333334 test_loss: 0.45895517263271757 test_accuracy: 0.8083\n",
      "Iteraions 153: train_loss: 0.41904986018626733 train_accuracy: 0.8254666666666667 test_loss: 0.4563746660570611 test_accuracy: 0.8086\n",
      "Iteraions 154: train_loss: 0.4187805654013347 train_accuracy: 0.8261166666666667 test_loss: 0.4559927345346656 test_accuracy: 0.8109\n",
      "Iteraions 155: train_loss: 0.4172075183830228 train_accuracy: 0.82675 test_loss: 0.4550179019088828 test_accuracy: 0.8096\n",
      "Iteraions 156: train_loss: 0.4165686859077152 train_accuracy: 0.8267166666666667 test_loss: 0.4544660837011117 test_accuracy: 0.8105\n",
      "Iteraions 157: train_loss: 0.4154070931048153 train_accuracy: 0.8272333333333334 test_loss: 0.45285724042037984 test_accuracy: 0.8121\n",
      "Iteraions 158: train_loss: 0.4144025722868008 train_accuracy: 0.8282333333333334 test_loss: 0.45201253828199023 test_accuracy: 0.8127\n",
      "Iteraions 159: train_loss: 0.41358931242411356 train_accuracy: 0.8280166666666666 test_loss: 0.45165363982526996 test_accuracy: 0.812\n",
      "Iteraions 160: train_loss: 0.41229293632339586 train_accuracy: 0.8285333333333333 test_loss: 0.4502235721804718 test_accuracy: 0.8124\n",
      "Iteraions 161: train_loss: 0.4117070447263992 train_accuracy: 0.8298 test_loss: 0.44939374561513484 test_accuracy: 0.8144\n",
      "Iteraions 162: train_loss: 0.4103487399898504 train_accuracy: 0.8301833333333334 test_loss: 0.44831526269706445 test_accuracy: 0.8135\n",
      "Iteraions 163: train_loss: 0.4097725179035399 train_accuracy: 0.8302666666666667 test_loss: 0.4480637505505617 test_accuracy: 0.8142\n",
      "Iteraions 164: train_loss: 0.4085093964247764 train_accuracy: 0.8312333333333334 test_loss: 0.44653451380440384 test_accuracy: 0.8145\n",
      "Iteraions 165: train_loss: 0.40777595119737947 train_accuracy: 0.8313666666666667 test_loss: 0.4457387067897511 test_accuracy: 0.8145\n",
      "Iteraions 166: train_loss: 0.4067377365522516 train_accuracy: 0.83235 test_loss: 0.4451396529857099 test_accuracy: 0.8158\n",
      "Iteraions 167: train_loss: 0.4057644304402502 train_accuracy: 0.8328666666666666 test_loss: 0.44418804272304296 test_accuracy: 0.8162\n",
      "Iteraions 168: train_loss: 0.4049673904608666 train_accuracy: 0.8327833333333333 test_loss: 0.4431397730022989 test_accuracy: 0.8163\n",
      "Iteraions 169: train_loss: 0.4038497956138576 train_accuracy: 0.8336333333333333 test_loss: 0.4423068230339796 test_accuracy: 0.8175\n",
      "Iteraions 170: train_loss: 0.40310914365405875 train_accuracy: 0.8337833333333333 test_loss: 0.44181239386106297 test_accuracy: 0.818\n",
      "Iteraions 171: train_loss: 0.4020338971093945 train_accuracy: 0.8343166666666667 test_loss: 0.44054064831508405 test_accuracy: 0.8182\n",
      "Iteraions 172: train_loss: 0.40119291751162606 train_accuracy: 0.8348833333333333 test_loss: 0.4397444066332733 test_accuracy: 0.8191\n",
      "Iteraions 173: train_loss: 0.40027181524056415 train_accuracy: 0.8353 test_loss: 0.43908975146881424 test_accuracy: 0.8186\n",
      "Iteraions 174: train_loss: 0.3992817576793151 train_accuracy: 0.83595 test_loss: 0.43809767398174837 test_accuracy: 0.8194\n",
      "Iteraions 175: train_loss: 0.39846926736667687 train_accuracy: 0.8359 test_loss: 0.4371757138590583 test_accuracy: 0.8203\n",
      "Iteraions 176: train_loss: 0.3974556157726952 train_accuracy: 0.8365833333333333 test_loss: 0.43638108935988 test_accuracy: 0.8191\n",
      "Iteraions 177: train_loss: 0.3966068126757259 train_accuracy: 0.8370666666666666 test_loss: 0.43571949577570884 test_accuracy: 0.8203\n",
      "Iteraions 178: train_loss: 0.3956797620762109 train_accuracy: 0.837 test_loss: 0.4346510277928592 test_accuracy: 0.8206\n",
      "Iteraions 179: train_loss: 0.39472770858454703 train_accuracy: 0.8376166666666667 test_loss: 0.4338680769926979 test_accuracy: 0.821\n",
      "Iteraions 180: train_loss: 0.3938807715090066 train_accuracy: 0.8380166666666666 test_loss: 0.43322656404241416 test_accuracy: 0.8212\n",
      "Iteraions 181: train_loss: 0.3929085353862435 train_accuracy: 0.8384666666666667 test_loss: 0.432215075077858 test_accuracy: 0.8222\n",
      "Iteraions 182: train_loss: 0.3920164076429543 train_accuracy: 0.8389333333333333 test_loss: 0.4313755078534898 test_accuracy: 0.8221\n",
      "Iteraions 183: train_loss: 0.39112171277909086 train_accuracy: 0.8395833333333333 test_loss: 0.4307226442983566 test_accuracy: 0.8218\n",
      "Iteraions 184: train_loss: 0.3901635231310863 train_accuracy: 0.8399166666666666 test_loss: 0.42977643703339335 test_accuracy: 0.8228\n",
      "Iteraions 185: train_loss: 0.38929069859365334 train_accuracy: 0.8402666666666667 test_loss: 0.4289543870745289 test_accuracy: 0.8235\n",
      "Iteraions 186: train_loss: 0.38836292093625624 train_accuracy: 0.8408333333333333 test_loss: 0.4281960904570417 test_accuracy: 0.8235\n",
      "Iteraions 187: train_loss: 0.3874339473229821 train_accuracy: 0.8415166666666667 test_loss: 0.42732823048786156 test_accuracy: 0.8244\n",
      "Iteraions 188: train_loss: 0.38654757482107394 train_accuracy: 0.8419333333333333 test_loss: 0.42644738616544275 test_accuracy: 0.8253\n",
      "Iteraions 189: train_loss: 0.3856166555709718 train_accuracy: 0.84285 test_loss: 0.425772540083619 test_accuracy: 0.8251\n",
      "Iteraions 190: train_loss: 0.38471571076698435 train_accuracy: 0.8429666666666666 test_loss: 0.4248173481360634 test_accuracy: 0.8254\n",
      "Iteraions 191: train_loss: 0.3838620211619266 train_accuracy: 0.8435666666666667 test_loss: 0.4242293167690714 test_accuracy: 0.8269\n"
     ]
    },
    {
     "name": "stdout",
     "output_type": "stream",
     "text": [
      "Iteraions 192: train_loss: 0.3830242107692934 train_accuracy: 0.8435833333333334 test_loss: 0.423317633043724 test_accuracy: 0.8259\n",
      "Iteraions 193: train_loss: 0.3823194249111583 train_accuracy: 0.8444 test_loss: 0.4230669639403377 test_accuracy: 0.8271\n",
      "Iteraions 194: train_loss: 0.3817695123532423 train_accuracy: 0.8436333333333333 test_loss: 0.42213825241503045 test_accuracy: 0.8266\n",
      "Iteraions 195: train_loss: 0.381438761804411 train_accuracy: 0.84525 test_loss: 0.42261970746491606 test_accuracy: 0.8284\n",
      "Iteraions 196: train_loss: 0.3812105616902723 train_accuracy: 0.84315 test_loss: 0.42165151708793175 test_accuracy: 0.8258\n",
      "Iteraions 197: train_loss: 0.3808744770798835 train_accuracy: 0.8459333333333333 test_loss: 0.422318349451448 test_accuracy: 0.8289\n",
      "Iteraions 198: train_loss: 0.37983115892131475 train_accuracy: 0.84365 test_loss: 0.4204975041967056 test_accuracy: 0.8274\n",
      "Iteraions 199: train_loss: 0.3781377239081656 train_accuracy: 0.8467 test_loss: 0.4196221284984409 test_accuracy: 0.8301\n",
      "Iteraions 200: train_loss: 0.37630323910591057 train_accuracy: 0.8462833333333334 test_loss: 0.4172754489752449 test_accuracy: 0.8287\n",
      "Iteraions 201: train_loss: 0.37510268873711344 train_accuracy: 0.8474 test_loss: 0.4164313538479775 test_accuracy: 0.8308\n",
      "Iteraions 202: train_loss: 0.374655046047534 train_accuracy: 0.848 test_loss: 0.41628324589873483 test_accuracy: 0.8315\n",
      "Iteraions 203: train_loss: 0.3744875679545482 train_accuracy: 0.8465333333333334 test_loss: 0.41565132396980126 test_accuracy: 0.8294\n",
      "Iteraions 204: train_loss: 0.37406839174353695 train_accuracy: 0.8488 test_loss: 0.4161108412344689 test_accuracy: 0.8319\n",
      "Iteraions 205: train_loss: 0.3730473448004974 train_accuracy: 0.8471333333333333 test_loss: 0.41445226489990944 test_accuracy: 0.8316\n",
      "Iteraions 206: train_loss: 0.3716598959586389 train_accuracy: 0.8491333333333333 test_loss: 0.41369189239186854 test_accuracy: 0.8337\n",
      "Iteraions 207: train_loss: 0.3703174231700358 train_accuracy: 0.84915 test_loss: 0.4120918255104596 test_accuracy: 0.8333\n",
      "Iteraions 208: train_loss: 0.36938740211521753 train_accuracy: 0.8496833333333333 test_loss: 0.41134401970899453 test_accuracy: 0.8339\n",
      "Iteraions 209: train_loss: 0.368833011590326 train_accuracy: 0.8504666666666667 test_loss: 0.4110208741811515 test_accuracy: 0.8344\n",
      "Iteraions 210: train_loss: 0.3684027102873562 train_accuracy: 0.8494666666666667 test_loss: 0.410315013218889 test_accuracy: 0.8333\n",
      "Iteraions 211: train_loss: 0.3678689581176696 train_accuracy: 0.8510833333333333 test_loss: 0.41048999886977483 test_accuracy: 0.8351\n",
      "Iteraions 212: train_loss: 0.3670981317180146 train_accuracy: 0.8497333333333333 test_loss: 0.4091594591590779 test_accuracy: 0.8338\n",
      "Iteraions 213: train_loss: 0.36618745475407094 train_accuracy: 0.8516 test_loss: 0.4089591467657843 test_accuracy: 0.8356\n",
      "Iteraions 214: train_loss: 0.3651280692520884 train_accuracy: 0.8506 test_loss: 0.40758967377690414 test_accuracy: 0.8349\n",
      "Iteraions 215: train_loss: 0.36404041143221727 train_accuracy: 0.85235 test_loss: 0.4069046281235771 test_accuracy: 0.8359\n",
      "Iteraions 216: train_loss: 0.36308931132104116 train_accuracy: 0.8521666666666666 test_loss: 0.40584563140510094 test_accuracy: 0.8361\n",
      "Iteraions 217: train_loss: 0.36231461720452907 train_accuracy: 0.8524833333333334 test_loss: 0.40523242502928297 test_accuracy: 0.8361\n",
      "Iteraions 218: train_loss: 0.3616584455032503 train_accuracy: 0.8531166666666666 test_loss: 0.40480093907122394 test_accuracy: 0.8362\n",
      "Iteraions 219: train_loss: 0.36111016738386054 train_accuracy: 0.8522666666666666 test_loss: 0.4039843320064051 test_accuracy: 0.8367\n",
      "Iteraions 220: train_loss: 0.3606025977957689 train_accuracy: 0.85375 test_loss: 0.4040683384590486 test_accuracy: 0.8363\n",
      "Iteraions 221: train_loss: 0.36008830151853793 train_accuracy: 0.85255 test_loss: 0.4030462346690664 test_accuracy: 0.8362\n",
      "Iteraions 222: train_loss: 0.3595641687773995 train_accuracy: 0.8544666666666667 test_loss: 0.40332992798941514 test_accuracy: 0.8374\n",
      "Iteraions 223: train_loss: 0.35896110402632037 train_accuracy: 0.8527833333333333 test_loss: 0.4021413881502343 test_accuracy: 0.8368\n",
      "Iteraions 224: train_loss: 0.3582188173772107 train_accuracy: 0.85505 test_loss: 0.40225568269273665 test_accuracy: 0.8371\n",
      "Iteraions 225: train_loss: 0.3572732668107127 train_accuracy: 0.85345 test_loss: 0.4006550269754969 test_accuracy: 0.8372\n",
      "Iteraions 226: train_loss: 0.3562471165646036 train_accuracy: 0.8557333333333333 test_loss: 0.4003982525474975 test_accuracy: 0.8379\n",
      "Iteraions 227: train_loss: 0.3552033405892848 train_accuracy: 0.8547666666666667 test_loss: 0.3989572004660539 test_accuracy: 0.8383\n",
      "Iteraions 228: train_loss: 0.3542228617941733 train_accuracy: 0.8561166666666666 test_loss: 0.3984792512734587 test_accuracy: 0.8385\n",
      "Iteraions 229: train_loss: 0.35333690311643295 train_accuracy: 0.8558666666666667 test_loss: 0.39752868574784483 test_accuracy: 0.8391\n",
      "Iteraions 230: train_loss: 0.3525412994520986 train_accuracy: 0.8566833333333334 test_loss: 0.39700214055122196 test_accuracy: 0.8392\n",
      "Iteraions 231: train_loss: 0.3518104496452349 train_accuracy: 0.8567166666666667 test_loss: 0.39643564291623845 test_accuracy: 0.8393\n",
      "Iteraions 232: train_loss: 0.3511342271389917 train_accuracy: 0.85695 test_loss: 0.39578659488830675 test_accuracy: 0.8393\n",
      "Iteraions 233: train_loss: 0.35052098455643693 train_accuracy: 0.8578833333333333 test_loss: 0.3955663390387379 test_accuracy: 0.8396\n",
      "Iteraions 234: train_loss: 0.34998142271849336 train_accuracy: 0.8572333333333333 test_loss: 0.39481622641303393 test_accuracy: 0.8398\n",
      "Iteraions 235: train_loss: 0.34958898217094053 train_accuracy: 0.8589166666666667 test_loss: 0.3950458539172174 test_accuracy: 0.8403\n",
      "Iteraions 236: train_loss: 0.34941578045512905 train_accuracy: 0.8568833333333333 test_loss: 0.39439482607228593 test_accuracy: 0.8392\n",
      "Iteraions 237: train_loss: 0.3496557781883695 train_accuracy: 0.8591166666666666 test_loss: 0.3956896871777658 test_accuracy: 0.8406\n",
      "Iteraions 238: train_loss: 0.35019711320692704 train_accuracy: 0.85565 test_loss: 0.3952397976504405 test_accuracy: 0.8375\n",
      "Iteraions 239: train_loss: 0.35090815918318163 train_accuracy: 0.8592833333333333 test_loss: 0.39755791912631766 test_accuracy: 0.8401\n",
      "Iteraions 240: train_loss: 0.35043846586305244 train_accuracy: 0.8547666666666667 test_loss: 0.395627553068656 test_accuracy: 0.837\n",
      "Iteraions 241: train_loss: 0.34836919541961725 train_accuracy: 0.8601333333333333 test_loss: 0.3951474979796048 test_accuracy: 0.8412\n",
      "Iteraions 242: train_loss: 0.345279518738546 train_accuracy: 0.8585 test_loss: 0.39108834598553993 test_accuracy: 0.8398\n",
      "Iteraions 243: train_loss: 0.34344557483004107 train_accuracy: 0.86035 test_loss: 0.3897552976933714 test_accuracy: 0.8409\n",
      "Iteraions 244: train_loss: 0.34358522434913275 train_accuracy: 0.8612333333333333 test_loss: 0.3903992477801618 test_accuracy: 0.8418\n",
      "Iteraions 245: train_loss: 0.344432566308088 train_accuracy: 0.8587 test_loss: 0.3906469924292994 test_accuracy: 0.8402\n",
      "Iteraions 246: train_loss: 0.34437085196889616 train_accuracy: 0.8615 test_loss: 0.3918306152145768 test_accuracy: 0.8423\n",
      "Iteraions 247: train_loss: 0.3426929310505348 train_accuracy: 0.8593666666666666 test_loss: 0.3892995601348091 test_accuracy: 0.8407\n",
      "Iteraions 248: train_loss: 0.34064551727858533 train_accuracy: 0.8625833333333334 test_loss: 0.38801814994241723 test_accuracy: 0.8416\n",
      "Iteraions 249: train_loss: 0.3396715564345719 train_accuracy: 0.8622 test_loss: 0.38704267441795426 test_accuracy: 0.8414\n",
      "Iteraions 250: train_loss: 0.339841403396325 train_accuracy: 0.86135 test_loss: 0.387018431801006 test_accuracy: 0.8412\n",
      "Iteraions 251: train_loss: 0.3400122858336189 train_accuracy: 0.8632666666666666 test_loss: 0.3880760178514338 test_accuracy: 0.8431\n",
      "Iteraions 252: train_loss: 0.33921411329497353 train_accuracy: 0.8614833333333334 test_loss: 0.38658855254393426 test_accuracy: 0.8417\n",
      "Iteraions 253: train_loss: 0.33775453286055274 train_accuracy: 0.8638333333333333 test_loss: 0.38594872938347036 test_accuracy: 0.8432\n",
      "Iteraions 254: train_loss: 0.3365405324028695 train_accuracy: 0.8634666666666667 test_loss: 0.3846262265032222 test_accuracy: 0.8423\n",
      "Iteraions 255: train_loss: 0.33610153611618937 train_accuracy: 0.86365 test_loss: 0.38426229875625184 test_accuracy: 0.8423\n"
     ]
    },
    {
     "name": "stdout",
     "output_type": "stream",
     "text": [
      "Iteraions 256: train_loss: 0.3360739040904981 train_accuracy: 0.8645666666666667 test_loss: 0.38486358935978326 test_accuracy: 0.8436\n",
      "Iteraions 257: train_loss: 0.33577823625365183 train_accuracy: 0.8634333333333334 test_loss: 0.38413500077425705 test_accuracy: 0.8432\n",
      "Iteraions 258: train_loss: 0.3349465563218451 train_accuracy: 0.8650833333333333 test_loss: 0.3841056781612788 test_accuracy: 0.8435\n",
      "Iteraions 259: train_loss: 0.3338220579806509 train_accuracy: 0.8643833333333333 test_loss: 0.3826438338163689 test_accuracy: 0.8439\n",
      "Iteraions 260: train_loss: 0.3328778155771396 train_accuracy: 0.86555 test_loss: 0.3821215573925411 test_accuracy: 0.8437\n",
      "Iteraions 261: train_loss: 0.3323233055969793 train_accuracy: 0.86605 test_loss: 0.38178313541320325 test_accuracy: 0.8445\n",
      "Iteraions 262: train_loss: 0.33201960237686495 train_accuracy: 0.865 test_loss: 0.3813788591623045 test_accuracy: 0.8441\n",
      "Iteraions 263: train_loss: 0.3316932943025244 train_accuracy: 0.86645 test_loss: 0.38173833114192857 test_accuracy: 0.8451\n",
      "Iteraions 264: train_loss: 0.33114279755807996 train_accuracy: 0.86505 test_loss: 0.3808384392587841 test_accuracy: 0.8443\n",
      "Iteraions 265: train_loss: 0.3303872145128695 train_accuracy: 0.8669833333333333 test_loss: 0.3807691936933494 test_accuracy: 0.8455\n",
      "Iteraions 266: train_loss: 0.3295365925106233 train_accuracy: 0.8659166666666667 test_loss: 0.37971439326888096 test_accuracy: 0.8449\n",
      "Iteraions 267: train_loss: 0.3287402098888729 train_accuracy: 0.8671333333333333 test_loss: 0.3793300380981209 test_accuracy: 0.8458\n",
      "Iteraions 268: train_loss: 0.32807884050914204 train_accuracy: 0.8669333333333333 test_loss: 0.37880673712833995 test_accuracy: 0.8464\n",
      "Iteraions 269: train_loss: 0.327548769402622 train_accuracy: 0.86665 test_loss: 0.3783822332954246 test_accuracy: 0.8459\n",
      "Iteraions 270: train_loss: 0.32709822590606574 train_accuracy: 0.86775 test_loss: 0.37835653052027574 test_accuracy: 0.8471\n",
      "Iteraions 271: train_loss: 0.3266808873867056 train_accuracy: 0.8665666666666667 test_loss: 0.37782422497396084 test_accuracy: 0.8457\n",
      "Iteraions 272: train_loss: 0.3262623683474696 train_accuracy: 0.8684166666666666 test_loss: 0.37803868034234867 test_accuracy: 0.8474\n",
      "Iteraions 273: train_loss: 0.3258053003478704 train_accuracy: 0.8668333333333333 test_loss: 0.3773340098400651 test_accuracy: 0.8458\n",
      "Iteraions 274: train_loss: 0.32532693480270936 train_accuracy: 0.8689333333333333 test_loss: 0.37755016117677903 test_accuracy: 0.848\n",
      "Iteraions 275: train_loss: 0.3247648998109734 train_accuracy: 0.8671833333333333 test_loss: 0.37671032763933765 test_accuracy: 0.8463\n",
      "Iteraions 276: train_loss: 0.3241717866812468 train_accuracy: 0.8693 test_loss: 0.37681430797246634 test_accuracy: 0.8482\n",
      "Iteraions 277: train_loss: 0.3235073897070497 train_accuracy: 0.8678333333333333 test_loss: 0.37587327825697914 test_accuracy: 0.8466\n",
      "Iteraions 278: train_loss: 0.3228433988369059 train_accuracy: 0.86985 test_loss: 0.3758500719060279 test_accuracy: 0.8478\n",
      "Iteraions 279: train_loss: 0.32217275679786217 train_accuracy: 0.8686833333333334 test_loss: 0.3749682062984069 test_accuracy: 0.8466\n",
      "Iteraions 280: train_loss: 0.32153509636731015 train_accuracy: 0.8703166666666666 test_loss: 0.37491503971883594 test_accuracy: 0.8483\n",
      "Iteraions 281: train_loss: 0.3209285695167169 train_accuracy: 0.8691333333333333 test_loss: 0.3741648279149008 test_accuracy: 0.8471\n",
      "Iteraions 282: train_loss: 0.3203659756437008 train_accuracy: 0.8707166666666667 test_loss: 0.37416825756206 test_accuracy: 0.8482\n",
      "Iteraions 283: train_loss: 0.319832866811882 train_accuracy: 0.8698 test_loss: 0.37351888657719673 test_accuracy: 0.8475\n",
      "Iteraions 284: train_loss: 0.3193551116479465 train_accuracy: 0.8710833333333333 test_loss: 0.37358926743875387 test_accuracy: 0.8486\n",
      "Iteraions 285: train_loss: 0.31892333815131635 train_accuracy: 0.87025 test_loss: 0.37297119889439917 test_accuracy: 0.848\n",
      "Iteraions 286: train_loss: 0.3186016416559044 train_accuracy: 0.87095 test_loss: 0.3733092317004923 test_accuracy: 0.849\n",
      "Iteraions 287: train_loss: 0.3183603448335644 train_accuracy: 0.8702833333333333 test_loss: 0.3727398292550706 test_accuracy: 0.8483\n",
      "Iteraions 288: train_loss: 0.31835623579120065 train_accuracy: 0.8714666666666666 test_loss: 0.3735871727241609 test_accuracy: 0.8497\n",
      "Iteraions 289: train_loss: 0.3184079793443208 train_accuracy: 0.8695333333333334 test_loss: 0.3730414601854403 test_accuracy: 0.8471\n",
      "Iteraions 290: train_loss: 0.318779621554859 train_accuracy: 0.8717333333333334 test_loss: 0.37458526851024854 test_accuracy: 0.8508\n",
      "Iteraions 291: train_loss: 0.31877718426234664 train_accuracy: 0.86915 test_loss: 0.3736712621663472 test_accuracy: 0.8476\n",
      "Iteraions 292: train_loss: 0.3187438260136156 train_accuracy: 0.8723166666666666 test_loss: 0.3750885600334681 test_accuracy: 0.8509\n",
      "Iteraions 293: train_loss: 0.31811386744666414 train_accuracy: 0.8692333333333333 test_loss: 0.3734115019040678 test_accuracy: 0.8484\n",
      "Iteraions 294: train_loss: 0.31776727828207973 train_accuracy: 0.8729 test_loss: 0.3744583512216741 test_accuracy: 0.8515\n",
      "Iteraions 295: train_loss: 0.3173201399415137 train_accuracy: 0.86985 test_loss: 0.3732921470740948 test_accuracy: 0.8482\n",
      "Iteraions 296: train_loss: 0.3176658544490792 train_accuracy: 0.8724333333333333 test_loss: 0.37455222110271463 test_accuracy: 0.8522\n",
      "Iteraions 297: train_loss: 0.31514451800558735 train_accuracy: 0.87165 test_loss: 0.37180999808462506 test_accuracy: 0.8506\n",
      "Iteraions 298: train_loss: 0.3132980843484467 train_accuracy: 0.8727333333333334 test_loss: 0.37007160757673885 test_accuracy: 0.8506\n",
      "Iteraions 299: train_loss: 0.3126158969709793 train_accuracy: 0.8745666666666667 test_loss: 0.3700019803462603 test_accuracy: 0.8509\n",
      "Iteraions 300: train_loss: 0.3131507598315545 train_accuracy: 0.8721666666666666 test_loss: 0.37004354747498247 test_accuracy: 0.8492\n",
      "Iteraions 301: train_loss: 0.31361764765338906 train_accuracy: 0.8748833333333333 test_loss: 0.37156898925036946 test_accuracy: 0.8523\n",
      "Iteraions 302: train_loss: 0.31188013585473684 train_accuracy: 0.8726833333333334 test_loss: 0.36928931497559 test_accuracy: 0.8516\n",
      "Iteraions 303: train_loss: 0.3100507628607008 train_accuracy: 0.8747833333333334 test_loss: 0.3679205750682405 test_accuracy: 0.8522\n",
      "Iteraions 304: train_loss: 0.30928942448326857 train_accuracy: 0.8755333333333334 test_loss: 0.367449020199875 test_accuracy: 0.8521\n",
      "Iteraions 305: train_loss: 0.30987970219298333 train_accuracy: 0.8737166666666667 test_loss: 0.36772113012412116 test_accuracy: 0.8509\n",
      "Iteraions 306: train_loss: 0.3103616130973606 train_accuracy: 0.8759166666666667 test_loss: 0.36914909974028887 test_accuracy: 0.8525\n",
      "Iteraions 307: train_loss: 0.30920366766370516 train_accuracy: 0.8739333333333333 test_loss: 0.3673942174731813 test_accuracy: 0.852\n",
      "Iteraions 308: train_loss: 0.307560704569173 train_accuracy: 0.8764333333333333 test_loss: 0.3663670532103083 test_accuracy: 0.8529\n",
      "Iteraions 309: train_loss: 0.3066800310411765 train_accuracy: 0.8763 test_loss: 0.3655445600301179 test_accuracy: 0.8532\n",
      "Iteraions 310: train_loss: 0.30683986118389533 train_accuracy: 0.8756166666666667 test_loss: 0.36569787202821 test_accuracy: 0.8521\n",
      "Iteraions 311: train_loss: 0.30711442406068323 train_accuracy: 0.8769333333333333 test_loss: 0.3666547586651248 test_accuracy: 0.8531\n",
      "Iteraions 312: train_loss: 0.3064490764281585 train_accuracy: 0.8752666666666666 test_loss: 0.3656247610968705 test_accuracy: 0.8528\n",
      "Iteraions 313: train_loss: 0.3053807658210324 train_accuracy: 0.87735 test_loss: 0.3652513809367565 test_accuracy: 0.8531\n",
      "Iteraions 314: train_loss: 0.3046014838156772 train_accuracy: 0.8769 test_loss: 0.3643314926401348 test_accuracy: 0.8531\n",
      "Iteraions 315: train_loss: 0.3043840879100613 train_accuracy: 0.87655 test_loss: 0.3644018195371959 test_accuracy: 0.8535\n",
      "Iteraions 316: train_loss: 0.3043255804582093 train_accuracy: 0.8773833333333333 test_loss: 0.36463911373575736 test_accuracy: 0.8544\n",
      "Iteraions 317: train_loss: 0.3037585711881006 train_accuracy: 0.8768333333333334 test_loss: 0.36404341913565824 test_accuracy: 0.8538\n",
      "Iteraions 318: train_loss: 0.30294968431539593 train_accuracy: 0.8780333333333333 test_loss: 0.363651819315581 test_accuracy: 0.8548\n",
      "Iteraions 319: train_loss: 0.3021630480701693 train_accuracy: 0.8778166666666667 test_loss: 0.36285150088075036 test_accuracy: 0.8539\n"
     ]
    },
    {
     "name": "stdout",
     "output_type": "stream",
     "text": [
      "Iteraions 320: train_loss: 0.3017419293784918 train_accuracy: 0.8777333333333334 test_loss: 0.3627209851529359 test_accuracy: 0.8539\n",
      "Iteraions 321: train_loss: 0.30158648104734803 train_accuracy: 0.8784833333333333 test_loss: 0.36279826478696187 test_accuracy: 0.8545\n",
      "Iteraions 322: train_loss: 0.30134455560698753 train_accuracy: 0.8778 test_loss: 0.3626675622672168 test_accuracy: 0.8542\n",
      "Iteraions 323: train_loss: 0.3009311006196251 train_accuracy: 0.8784833333333333 test_loss: 0.3625431090994125 test_accuracy: 0.8548\n",
      "Iteraions 324: train_loss: 0.30026054157492765 train_accuracy: 0.8785333333333334 test_loss: 0.36204038349844936 test_accuracy: 0.8549\n",
      "Iteraions 325: train_loss: 0.29961626795296953 train_accuracy: 0.8788666666666667 test_loss: 0.3614805377646918 test_accuracy: 0.8549\n",
      "Iteraions 326: train_loss: 0.2991480126133918 train_accuracy: 0.8795833333333334 test_loss: 0.3614295940449336 test_accuracy: 0.855\n",
      "Iteraions 327: train_loss: 0.2988911093676754 train_accuracy: 0.8786833333333334 test_loss: 0.3610121377066044 test_accuracy: 0.8548\n",
      "Iteraions 328: train_loss: 0.2987925777047486 train_accuracy: 0.8797833333333334 test_loss: 0.36164817788912806 test_accuracy: 0.855\n",
      "Iteraions 329: train_loss: 0.2987683338814688 train_accuracy: 0.8783166666666666 test_loss: 0.3612348522028435 test_accuracy: 0.8536\n",
      "Iteraions 330: train_loss: 0.29882063980889384 train_accuracy: 0.8802833333333333 test_loss: 0.3622520770828867 test_accuracy: 0.8558\n",
      "Iteraions 331: train_loss: 0.298940114479914 train_accuracy: 0.8783833333333333 test_loss: 0.36178632653885234 test_accuracy: 0.8537\n",
      "Iteraions 332: train_loss: 0.2993007003267257 train_accuracy: 0.8796833333333334 test_loss: 0.363306806532404 test_accuracy: 0.855\n",
      "Iteraions 333: train_loss: 0.29952334396672514 train_accuracy: 0.8775 test_loss: 0.3627110079863748 test_accuracy: 0.8532\n",
      "Iteraions 334: train_loss: 0.29980751031580183 train_accuracy: 0.8790666666666667 test_loss: 0.3643115955725347 test_accuracy: 0.8554\n",
      "Iteraions 335: train_loss: 0.2985195499080757 train_accuracy: 0.8779833333333333 test_loss: 0.36217040383701943 test_accuracy: 0.8539\n",
      "Iteraions 336: train_loss: 0.29663963522672143 train_accuracy: 0.8803166666666666 test_loss: 0.3612795646737201 test_accuracy: 0.8571\n",
      "Iteraions 337: train_loss: 0.2944039214364744 train_accuracy: 0.8811833333333333 test_loss: 0.3587983998739271 test_accuracy: 0.8574\n",
      "Iteraions 338: train_loss: 0.29336457551974915 train_accuracy: 0.8816333333333334 test_loss: 0.35802035169676083 test_accuracy: 0.8566\n",
      "Iteraions 339: train_loss: 0.2936633504465694 train_accuracy: 0.8814833333333333 test_loss: 0.3589787298397745 test_accuracy: 0.8581\n",
      "Iteraions 340: train_loss: 0.29440084631061364 train_accuracy: 0.88035 test_loss: 0.3593579901382987 test_accuracy: 0.8557\n",
      "Iteraions 341: train_loss: 0.294796810077022 train_accuracy: 0.8811333333333333 test_loss: 0.3606834468756224 test_accuracy: 0.8571\n",
      "Iteraions 342: train_loss: 0.2937933917022116 train_accuracy: 0.8808 test_loss: 0.35918747260631023 test_accuracy: 0.8559\n",
      "Iteraions 343: train_loss: 0.2922565834760154 train_accuracy: 0.8822666666666666 test_loss: 0.3583396527266382 test_accuracy: 0.8586\n",
      "Iteraions 344: train_loss: 0.29078733839680365 train_accuracy: 0.8823 test_loss: 0.3566103230694512 test_accuracy: 0.8585\n",
      "Iteraions 345: train_loss: 0.29021044712122845 train_accuracy: 0.8829666666666667 test_loss: 0.35639827831533555 test_accuracy: 0.8595\n",
      "Iteraions 346: train_loss: 0.2903547000342241 train_accuracy: 0.8827166666666667 test_loss: 0.3568681793267838 test_accuracy: 0.8585\n",
      "Iteraions 347: train_loss: 0.290422495884874 train_accuracy: 0.8822166666666666 test_loss: 0.35682672584913766 test_accuracy: 0.8577\n",
      "Iteraions 348: train_loss: 0.2899950016515516 train_accuracy: 0.88285 test_loss: 0.3570645392052289 test_accuracy: 0.8596\n",
      "Iteraions 349: train_loss: 0.28899688264847434 train_accuracy: 0.8830166666666667 test_loss: 0.3558458754333203 test_accuracy: 0.8583\n",
      "Iteraions 350: train_loss: 0.28802458801229713 train_accuracy: 0.8836833333333334 test_loss: 0.3554269101237137 test_accuracy: 0.8588\n",
      "Iteraions 351: train_loss: 0.28743143338655247 train_accuracy: 0.88395 test_loss: 0.3548169790693581 test_accuracy: 0.8596\n",
      "Iteraions 352: train_loss: 0.2872637951647399 train_accuracy: 0.8838666666666667 test_loss: 0.3549646062449617 test_accuracy: 0.8592\n",
      "Iteraions 353: train_loss: 0.2872192107994737 train_accuracy: 0.88375 test_loss: 0.3552040707028012 test_accuracy: 0.8605\n",
      "Iteraions 354: train_loss: 0.28707130009930154 train_accuracy: 0.8839333333333333 test_loss: 0.3551686750027754 test_accuracy: 0.8592\n",
      "Iteraions 355: train_loss: 0.2865553038086926 train_accuracy: 0.8841666666666667 test_loss: 0.3549281680681808 test_accuracy: 0.8613\n",
      "Iteraions 356: train_loss: 0.2859986455128403 train_accuracy: 0.8840833333333333 test_loss: 0.35458539872802675 test_accuracy: 0.8598\n",
      "Iteraions 357: train_loss: 0.28541544473528413 train_accuracy: 0.8843 test_loss: 0.3540180916256034 test_accuracy: 0.8602\n",
      "Iteraions 358: train_loss: 0.285247687905499 train_accuracy: 0.88515 test_loss: 0.3544679485515483 test_accuracy: 0.8603\n",
      "Iteraions 359: train_loss: 0.28539758365157186 train_accuracy: 0.88445 test_loss: 0.3542626050994656 test_accuracy: 0.8585\n",
      "Iteraions 360: train_loss: 0.28580301917015727 train_accuracy: 0.8849833333333333 test_loss: 0.3557057486287011 test_accuracy: 0.8594\n",
      "Iteraions 361: train_loss: 0.2861190924064381 train_accuracy: 0.8836333333333334 test_loss: 0.3553501421428298 test_accuracy: 0.8574\n",
      "Iteraions 362: train_loss: 0.2860146486507036 train_accuracy: 0.8850166666666667 test_loss: 0.35644233508287326 test_accuracy: 0.8591\n",
      "Iteraions 363: train_loss: 0.2851597020085797 train_accuracy: 0.8844166666666666 test_loss: 0.35486322397832765 test_accuracy: 0.8574\n",
      "Iteraions 364: train_loss: 0.2837368044998775 train_accuracy: 0.88595 test_loss: 0.35443044357709896 test_accuracy: 0.8608\n",
      "Iteraions 365: train_loss: 0.28208635503465546 train_accuracy: 0.88615 test_loss: 0.3523759100493928 test_accuracy: 0.8604\n",
      "Iteraions 366: train_loss: 0.280994334392785 train_accuracy: 0.88645 test_loss: 0.35175968225062754 test_accuracy: 0.8607\n",
      "Iteraions 367: train_loss: 0.2805589806177208 train_accuracy: 0.88665 test_loss: 0.351593404798461 test_accuracy: 0.8617\n",
      "Iteraions 368: train_loss: 0.2805696430980562 train_accuracy: 0.88635 test_loss: 0.35152554667826585 test_accuracy: 0.8596\n",
      "Iteraions 369: train_loss: 0.2806645757551878 train_accuracy: 0.88695 test_loss: 0.35242049282422655 test_accuracy: 0.8618\n",
      "Iteraions 370: train_loss: 0.28049761999643236 train_accuracy: 0.88585 test_loss: 0.35188088334898987 test_accuracy: 0.8595\n",
      "Iteraions 371: train_loss: 0.28011403184853306 train_accuracy: 0.8872333333333333 test_loss: 0.35233262824070155 test_accuracy: 0.8617\n",
      "Iteraions 372: train_loss: 0.27950537348081417 train_accuracy: 0.8867333333333334 test_loss: 0.351475600224184 test_accuracy: 0.8604\n",
      "Iteraions 373: train_loss: 0.2790340498712303 train_accuracy: 0.8872833333333333 test_loss: 0.3514714897123539 test_accuracy: 0.8612\n",
      "Iteraions 374: train_loss: 0.27842530739141996 train_accuracy: 0.8874 test_loss: 0.350960650109233 test_accuracy: 0.8621\n",
      "Iteraions 375: train_loss: 0.27810753168407926 train_accuracy: 0.8872666666666666 test_loss: 0.35075617318270685 test_accuracy: 0.8608\n",
      "Iteraions 376: train_loss: 0.2776720142077641 train_accuracy: 0.8875333333333333 test_loss: 0.3507509332148928 test_accuracy: 0.8614\n",
      "Iteraions 377: train_loss: 0.2771172287833208 train_accuracy: 0.88765 test_loss: 0.3500540007030745 test_accuracy: 0.8615\n",
      "Iteraions 378: train_loss: 0.2764896853101154 train_accuracy: 0.8882833333333333 test_loss: 0.3500048280102901 test_accuracy: 0.8626\n",
      "Iteraions 379: train_loss: 0.2757277708821942 train_accuracy: 0.88835 test_loss: 0.34907270048267763 test_accuracy: 0.8615\n",
      "Iteraions 380: train_loss: 0.2750577233055965 train_accuracy: 0.8893666666666666 test_loss: 0.3489839430892192 test_accuracy: 0.8628\n",
      "Iteraions 381: train_loss: 0.27454040979543326 train_accuracy: 0.8890666666666667 test_loss: 0.3484588719560269 test_accuracy: 0.863\n",
      "Iteraions 382: train_loss: 0.27424314214654383 train_accuracy: 0.8897166666666667 test_loss: 0.34858223362038276 test_accuracy: 0.8625\n",
      "Iteraions 383: train_loss: 0.2740955248919554 train_accuracy: 0.8891166666666667 test_loss: 0.3486460182487927 test_accuracy: 0.8625\n"
     ]
    },
    {
     "name": "stdout",
     "output_type": "stream",
     "text": [
      "Iteraions 384: train_loss: 0.2741488357716571 train_accuracy: 0.8890333333333333 test_loss: 0.34888806415945894 test_accuracy: 0.8623\n",
      "Iteraions 385: train_loss: 0.2741618182119049 train_accuracy: 0.8889833333333333 test_loss: 0.3493056728976535 test_accuracy: 0.8622\n",
      "Iteraions 386: train_loss: 0.2742486656856062 train_accuracy: 0.8886 test_loss: 0.34938508653381706 test_accuracy: 0.8631\n",
      "Iteraions 387: train_loss: 0.2739649565491167 train_accuracy: 0.8894 test_loss: 0.3496011860221827 test_accuracy: 0.8628\n",
      "Iteraions 388: train_loss: 0.2735647159252534 train_accuracy: 0.889 test_loss: 0.34915256139218315 test_accuracy: 0.8633\n",
      "Iteraions 389: train_loss: 0.27259181760423207 train_accuracy: 0.8896666666666667 test_loss: 0.34858253878888346 test_accuracy: 0.8627\n",
      "Iteraions 390: train_loss: 0.27170139813430516 train_accuracy: 0.89035 test_loss: 0.34785595014110415 test_accuracy: 0.8629\n",
      "Iteraions 391: train_loss: 0.27079422875710396 train_accuracy: 0.8904833333333333 test_loss: 0.3470775194493019 test_accuracy: 0.8634\n",
      "Iteraions 392: train_loss: 0.27025938549686335 train_accuracy: 0.8910666666666667 test_loss: 0.3470604020795155 test_accuracy: 0.8636\n",
      "Iteraions 393: train_loss: 0.2699906833597854 train_accuracy: 0.8906166666666666 test_loss: 0.34664238136274556 test_accuracy: 0.8622\n",
      "Iteraions 394: train_loss: 0.2698905040915825 train_accuracy: 0.8911333333333333 test_loss: 0.34724703161974413 test_accuracy: 0.8643\n",
      "Iteraions 395: train_loss: 0.26978453298698124 train_accuracy: 0.8904833333333333 test_loss: 0.3468711323598312 test_accuracy: 0.8624\n",
      "Iteraions 396: train_loss: 0.2696704830521209 train_accuracy: 0.8911833333333333 test_loss: 0.3475198003360624 test_accuracy: 0.8634\n",
      "Iteraions 397: train_loss: 0.26924728530031156 train_accuracy: 0.8907 test_loss: 0.3467854362680362 test_accuracy: 0.863\n",
      "Iteraions 398: train_loss: 0.26870732828805693 train_accuracy: 0.8914 test_loss: 0.3469916224825668 test_accuracy: 0.8636\n",
      "Iteraions 399: train_loss: 0.26789758314830364 train_accuracy: 0.8911833333333333 test_loss: 0.3459329638989148 test_accuracy: 0.8628\n",
      "Iteraions 400: train_loss: 0.26712141851563653 train_accuracy: 0.8920833333333333 test_loss: 0.3458077311193415 test_accuracy: 0.8654\n",
      "Iteraions 401: train_loss: 0.26643392546142575 train_accuracy: 0.8918666666666667 test_loss: 0.34502499970039247 test_accuracy: 0.8646\n",
      "Iteraions 402: train_loss: 0.265931153113411 train_accuracy: 0.8928833333333334 test_loss: 0.34502450008214547 test_accuracy: 0.8657\n",
      "Iteraions 403: train_loss: 0.2656080282001772 train_accuracy: 0.8922333333333333 test_loss: 0.3447821674118333 test_accuracy: 0.8647\n",
      "Iteraions 404: train_loss: 0.2654748673112998 train_accuracy: 0.89285 test_loss: 0.3449679458298753 test_accuracy: 0.865\n",
      "Iteraions 405: train_loss: 0.26548995297286626 train_accuracy: 0.8929666666666667 test_loss: 0.34525591386014576 test_accuracy: 0.8648\n",
      "Iteraions 406: train_loss: 0.2658785695127413 train_accuracy: 0.89235 test_loss: 0.3457688752896101 test_accuracy: 0.8647\n",
      "Iteraions 407: train_loss: 0.266449139661035 train_accuracy: 0.8928333333333334 test_loss: 0.3468003638577797 test_accuracy: 0.8644\n",
      "Iteraions 408: train_loss: 0.26794801394919604 train_accuracy: 0.8912333333333333 test_loss: 0.3483769192120401 test_accuracy: 0.864\n",
      "Iteraions 409: train_loss: 0.26857682274963934 train_accuracy: 0.89185 test_loss: 0.34947385148570775 test_accuracy: 0.8618\n",
      "Iteraions 410: train_loss: 0.27002694434387237 train_accuracy: 0.8909166666666667 test_loss: 0.3512072013582293 test_accuracy: 0.8628\n",
      "Iteraions 411: train_loss: 0.2680018288070801 train_accuracy: 0.8919166666666667 test_loss: 0.3490649293673414 test_accuracy: 0.8614\n",
      "Iteraions 412: train_loss: 0.2665375646416672 train_accuracy: 0.89305 test_loss: 0.3483466060636407 test_accuracy: 0.864\n",
      "Iteraions 413: train_loss: 0.2649983313046824 train_accuracy: 0.8922 test_loss: 0.34600335632188844 test_accuracy: 0.8629\n",
      "Iteraions 414: train_loss: 0.26497766285714963 train_accuracy: 0.8940666666666667 test_loss: 0.3472245896333239 test_accuracy: 0.8643\n",
      "Iteraions 415: train_loss: 0.2650939886594836 train_accuracy: 0.8918 test_loss: 0.34658105886529594 test_accuracy: 0.8634\n",
      "Iteraions 416: train_loss: 0.2647256816017722 train_accuracy: 0.8937666666666667 test_loss: 0.3471568191351284 test_accuracy: 0.8638\n",
      "Iteraions 417: train_loss: 0.26324362411756647 train_accuracy: 0.8936 test_loss: 0.3457442758064273 test_accuracy: 0.8666\n",
      "Iteraions 418: train_loss: 0.2612703691338852 train_accuracy: 0.8941666666666667 test_loss: 0.34362778829416474 test_accuracy: 0.8651\n",
      "Iteraions 419: train_loss: 0.26072528922870875 train_accuracy: 0.8956166666666666 test_loss: 0.34401202928135316 test_accuracy: 0.8674\n",
      "Iteraions 420: train_loss: 0.26118975541061495 train_accuracy: 0.8940666666666667 test_loss: 0.3439707115623087 test_accuracy: 0.8642\n",
      "Iteraions 421: train_loss: 0.2617866761085155 train_accuracy: 0.8948833333333334 test_loss: 0.3453635348103809 test_accuracy: 0.865\n",
      "Iteraions 422: train_loss: 0.261046088032751 train_accuracy: 0.8948666666666667 test_loss: 0.34453710417164735 test_accuracy: 0.8646\n",
      "Iteraions 423: train_loss: 0.25954822846875925 train_accuracy: 0.8950833333333333 test_loss: 0.34315522659178854 test_accuracy: 0.8655\n",
      "Iteraions 424: train_loss: 0.2582071290856231 train_accuracy: 0.8964333333333333 test_loss: 0.3422840982680607 test_accuracy: 0.8682\n",
      "Iteraions 425: train_loss: 0.25800237200889375 train_accuracy: 0.89515 test_loss: 0.34200610499973116 test_accuracy: 0.8672\n",
      "Iteraions 426: train_loss: 0.25861517892367536 train_accuracy: 0.8961166666666667 test_loss: 0.34305375277166417 test_accuracy: 0.8664\n",
      "Iteraions 427: train_loss: 0.2587050500383626 train_accuracy: 0.8960333333333333 test_loss: 0.3432293088401048 test_accuracy: 0.8662\n",
      "Iteraions 428: train_loss: 0.25796841479260596 train_accuracy: 0.89605 test_loss: 0.34269762885576777 test_accuracy: 0.8661\n",
      "Iteraions 429: train_loss: 0.2566605357114743 train_accuracy: 0.8964 test_loss: 0.3414750966548084 test_accuracy: 0.8676\n",
      "Iteraions 430: train_loss: 0.25599368848340237 train_accuracy: 0.8973 test_loss: 0.34113432318069137 test_accuracy: 0.8682\n",
      "Iteraions 431: train_loss: 0.25606132827233663 train_accuracy: 0.8962 test_loss: 0.34131337391877914 test_accuracy: 0.8671\n",
      "Iteraions 432: train_loss: 0.25620458338557206 train_accuracy: 0.8971166666666667 test_loss: 0.3418118601321663 test_accuracy: 0.8672\n",
      "Iteraions 433: train_loss: 0.2558810248786845 train_accuracy: 0.89675 test_loss: 0.3415508063050404 test_accuracy: 0.8671\n",
      "Iteraions 434: train_loss: 0.2552649832264409 train_accuracy: 0.8973666666666666 test_loss: 0.3411952533135911 test_accuracy: 0.8675\n",
      "Iteraions 435: train_loss: 0.2547636666289396 train_accuracy: 0.8972166666666667 test_loss: 0.3410138936140652 test_accuracy: 0.8679\n",
      "Iteraions 436: train_loss: 0.25453903770304787 train_accuracy: 0.8973 test_loss: 0.3409511257848213 test_accuracy: 0.8681\n",
      "Iteraions 437: train_loss: 0.25458735947573496 train_accuracy: 0.8977166666666667 test_loss: 0.34110437089086965 test_accuracy: 0.8672\n",
      "Iteraions 438: train_loss: 0.255036709441869 train_accuracy: 0.8972833333333333 test_loss: 0.3420841068730129 test_accuracy: 0.868\n",
      "Iteraions 439: train_loss: 0.2554709975455556 train_accuracy: 0.89675 test_loss: 0.34240370672026627 test_accuracy: 0.8659\n",
      "Iteraions 440: train_loss: 0.2556586401858389 train_accuracy: 0.8978 test_loss: 0.3435081203120394 test_accuracy: 0.8676\n",
      "Iteraions 441: train_loss: 0.25528527100110476 train_accuracy: 0.8967 test_loss: 0.3425233507662782 test_accuracy: 0.8649\n",
      "Iteraions 442: train_loss: 0.25439128760200386 train_accuracy: 0.8985666666666666 test_loss: 0.34263582742952187 test_accuracy: 0.8671\n",
      "Iteraions 443: train_loss: 0.25312311324674686 train_accuracy: 0.89795 test_loss: 0.34101985926558676 test_accuracy: 0.867\n",
      "Iteraions 444: train_loss: 0.2521501816345377 train_accuracy: 0.89855 test_loss: 0.340488671382569 test_accuracy: 0.8683\n",
      "Iteraions 445: train_loss: 0.2515908520141327 train_accuracy: 0.89915 test_loss: 0.3402262520023246 test_accuracy: 0.8683\n",
      "Iteraions 446: train_loss: 0.2513849665959315 train_accuracy: 0.8979833333333334 test_loss: 0.3400010859801153 test_accuracy: 0.8674\n",
      "Iteraions 447: train_loss: 0.2512199883984918 train_accuracy: 0.8996666666666666 test_loss: 0.34056531367608006 test_accuracy: 0.8679\n"
     ]
    },
    {
     "name": "stdout",
     "output_type": "stream",
     "text": [
      "Iteraions 448: train_loss: 0.2509095553062887 train_accuracy: 0.8984166666666666 test_loss: 0.33998560365647157 test_accuracy: 0.868\n",
      "Iteraions 449: train_loss: 0.25056247152374683 train_accuracy: 0.8996333333333333 test_loss: 0.34026918186825217 test_accuracy: 0.8686\n",
      "Iteraions 450: train_loss: 0.25027983591206954 train_accuracy: 0.8992666666666667 test_loss: 0.34003466860049675 test_accuracy: 0.8681\n",
      "Iteraions 451: train_loss: 0.2500599711893604 train_accuracy: 0.8990166666666667 test_loss: 0.3400564310634719 test_accuracy: 0.8686\n",
      "Iteraions 452: train_loss: 0.24982633293434833 train_accuracy: 0.8996666666666666 test_loss: 0.3401575287730782 test_accuracy: 0.8687\n",
      "Iteraions 453: train_loss: 0.24964800655515032 train_accuracy: 0.8990333333333334 test_loss: 0.34009218476883485 test_accuracy: 0.8682\n",
      "Iteraions 454: train_loss: 0.24932217161760084 train_accuracy: 0.8998166666666667 test_loss: 0.34008360903665397 test_accuracy: 0.8687\n",
      "Iteraions 455: train_loss: 0.24910463777087932 train_accuracy: 0.89975 test_loss: 0.33994282723819585 test_accuracy: 0.8679\n",
      "Iteraions 456: train_loss: 0.24858962232574905 train_accuracy: 0.9001833333333333 test_loss: 0.33968712108334437 test_accuracy: 0.8686\n",
      "Iteraions 457: train_loss: 0.24813753305194336 train_accuracy: 0.9001833333333333 test_loss: 0.33944608330034587 test_accuracy: 0.8688\n",
      "Iteraions 458: train_loss: 0.2475389030947813 train_accuracy: 0.9005166666666666 test_loss: 0.3390254444739139 test_accuracy: 0.8695\n",
      "Iteraions 459: train_loss: 0.24708182205498433 train_accuracy: 0.90035 test_loss: 0.33882468378009456 test_accuracy: 0.8693\n",
      "Iteraions 460: train_loss: 0.2467011610858485 train_accuracy: 0.9008 test_loss: 0.3387063908210434 test_accuracy: 0.8696\n",
      "Iteraions 461: train_loss: 0.24647513561026074 train_accuracy: 0.90095 test_loss: 0.3387590820952518 test_accuracy: 0.8701\n",
      "Iteraions 462: train_loss: 0.24633250779439458 train_accuracy: 0.901 test_loss: 0.338801592393681 test_accuracy: 0.8697\n",
      "Iteraions 463: train_loss: 0.24628982287742704 train_accuracy: 0.90105 test_loss: 0.33918763334298324 test_accuracy: 0.8696\n",
      "Iteraions 464: train_loss: 0.246274594772461 train_accuracy: 0.90085 test_loss: 0.33920488271091964 test_accuracy: 0.8689\n",
      "Iteraions 465: train_loss: 0.24639646773357415 train_accuracy: 0.901 test_loss: 0.3398957614303243 test_accuracy: 0.8703\n",
      "Iteraions 466: train_loss: 0.2464806314315406 train_accuracy: 0.9006833333333333 test_loss: 0.3398564653952834 test_accuracy: 0.8688\n",
      "Iteraions 467: train_loss: 0.2465891896395133 train_accuracy: 0.9012833333333333 test_loss: 0.34072059828206863 test_accuracy: 0.8694\n",
      "Iteraions 468: train_loss: 0.2464974922062604 train_accuracy: 0.9005833333333333 test_loss: 0.3403688071421157 test_accuracy: 0.8682\n",
      "Iteraions 469: train_loss: 0.24629707913718826 train_accuracy: 0.9012166666666667 test_loss: 0.3409076783997084 test_accuracy: 0.8686\n",
      "Iteraions 470: train_loss: 0.24577882266444837 train_accuracy: 0.9013333333333333 test_loss: 0.34023015895786457 test_accuracy: 0.8689\n",
      "Iteraions 471: train_loss: 0.24522867724011377 train_accuracy: 0.9016666666666666 test_loss: 0.34020608094902494 test_accuracy: 0.8684\n",
      "Iteraions 472: train_loss: 0.24448553213014493 train_accuracy: 0.9021666666666667 test_loss: 0.33952580339918287 test_accuracy: 0.8689\n",
      "Iteraions 473: train_loss: 0.24402659783046748 train_accuracy: 0.902 test_loss: 0.33929879076646063 test_accuracy: 0.8691\n",
      "Iteraions 474: train_loss: 0.24362792341315082 train_accuracy: 0.90285 test_loss: 0.33925044282767597 test_accuracy: 0.8688\n",
      "Iteraions 475: train_loss: 0.24373162148786193 train_accuracy: 0.9014333333333333 test_loss: 0.3393167036374518 test_accuracy: 0.8688\n",
      "Iteraions 476: train_loss: 0.244013571637778 train_accuracy: 0.9031166666666667 test_loss: 0.3401557281128489 test_accuracy: 0.869\n",
      "Iteraions 477: train_loss: 0.24430264910581087 train_accuracy: 0.9012666666666667 test_loss: 0.34030956524523714 test_accuracy: 0.8689\n",
      "Iteraions 478: train_loss: 0.24476738084704228 train_accuracy: 0.9028166666666667 test_loss: 0.3414279277189801 test_accuracy: 0.869\n",
      "Iteraions 479: train_loss: 0.24409389989530422 train_accuracy: 0.90125 test_loss: 0.3405527926918001 test_accuracy: 0.8679\n",
      "Iteraions 480: train_loss: 0.2432616463224619 train_accuracy: 0.9027333333333334 test_loss: 0.3403040243473481 test_accuracy: 0.8694\n",
      "Iteraions 481: train_loss: 0.2415014474599667 train_accuracy: 0.90295 test_loss: 0.33838272984635975 test_accuracy: 0.8709\n",
      "Iteraions 482: train_loss: 0.24021488794218737 train_accuracy: 0.9041333333333333 test_loss: 0.3375373249164922 test_accuracy: 0.8711\n",
      "Iteraions 483: train_loss: 0.23969602914692012 train_accuracy: 0.9038666666666667 test_loss: 0.3371249486394694 test_accuracy: 0.8708\n",
      "Iteraions 484: train_loss: 0.23997901222775325 train_accuracy: 0.9036 test_loss: 0.3376876222317086 test_accuracy: 0.8701\n",
      "Iteraions 485: train_loss: 0.24062274199613193 train_accuracy: 0.9041666666666667 test_loss: 0.3387141123656864 test_accuracy: 0.8691\n",
      "Iteraions 486: train_loss: 0.24124791831358738 train_accuracy: 0.9025166666666666 test_loss: 0.339434441177581 test_accuracy: 0.8686\n",
      "Iteraions 487: train_loss: 0.24151590180622381 train_accuracy: 0.9039666666666667 test_loss: 0.34023512225730845 test_accuracy: 0.8698\n",
      "Iteraions 488: train_loss: 0.2409390347858253 train_accuracy: 0.9022833333333333 test_loss: 0.3395453340979225 test_accuracy: 0.8688\n",
      "Iteraions 489: train_loss: 0.23971153897126582 train_accuracy: 0.9048666666666667 test_loss: 0.338809027326564 test_accuracy: 0.8698\n",
      "Iteraions 490: train_loss: 0.2383289503760012 train_accuracy: 0.90405 test_loss: 0.33731092741766033 test_accuracy: 0.8707\n",
      "Iteraions 491: train_loss: 0.2374364801677062 train_accuracy: 0.9054333333333333 test_loss: 0.3367658754745207 test_accuracy: 0.871\n",
      "Iteraions 492: train_loss: 0.23733406939938118 train_accuracy: 0.9047166666666666 test_loss: 0.33691857800689573 test_accuracy: 0.8707\n",
      "Iteraions 493: train_loss: 0.23777336785292888 train_accuracy: 0.9046833333333333 test_loss: 0.33747898058702686 test_accuracy: 0.871\n",
      "Iteraions 494: train_loss: 0.23853373047022777 train_accuracy: 0.9045333333333333 test_loss: 0.33879718061504155 test_accuracy: 0.8691\n",
      "Iteraions 495: train_loss: 0.23870737528368677 train_accuracy: 0.9037333333333334 test_loss: 0.3388872718927345 test_accuracy: 0.8694\n",
      "Iteraions 496: train_loss: 0.2386826812954311 train_accuracy: 0.90475 test_loss: 0.3394834901872221 test_accuracy: 0.869\n",
      "Iteraions 497: train_loss: 0.2376535114644481 train_accuracy: 0.9046166666666666 test_loss: 0.33825606473903025 test_accuracy: 0.8702\n",
      "Iteraions 498: train_loss: 0.2365992382523913 train_accuracy: 0.9053666666666667 test_loss: 0.33765043872391737 test_accuracy: 0.8703\n",
      "Iteraions 499: train_loss: 0.2359485087745249 train_accuracy: 0.90595 test_loss: 0.3370518402832573 test_accuracy: 0.8718\n",
      "Iteraions 500: train_loss: 0.23627960433818523 train_accuracy: 0.90485 test_loss: 0.3377171539513597 test_accuracy: 0.8708\n",
      "Iteraions 501: train_loss: 0.23743477358701517 train_accuracy: 0.90575 test_loss: 0.3392936076708105 test_accuracy: 0.8704\n",
      "Iteraions 502: train_loss: 0.23954997891998936 train_accuracy: 0.9026166666666666 test_loss: 0.34161711381508775 test_accuracy: 0.8668\n",
      "Iteraions 503: train_loss: 0.24012137975632297 train_accuracy: 0.9046166666666666 test_loss: 0.3428717394157475 test_accuracy: 0.8684\n",
      "Iteraions 504: train_loss: 0.24007231902516743 train_accuracy: 0.9028 test_loss: 0.3428047429484118 test_accuracy: 0.8668\n",
      "Iteraions 505: train_loss: 0.23715463483299495 train_accuracy: 0.9051666666666667 test_loss: 0.34010174961019696 test_accuracy: 0.8701\n",
      "Iteraions 506: train_loss: 0.23540044399119106 train_accuracy: 0.90595 test_loss: 0.3384686345813742 test_accuracy: 0.8703\n",
      "Iteraions 507: train_loss: 0.23495297757021405 train_accuracy: 0.9054333333333333 test_loss: 0.3377791300849591 test_accuracy: 0.8705\n",
      "Iteraions 508: train_loss: 0.23540409626193498 train_accuracy: 0.90665 test_loss: 0.3389722467849449 test_accuracy: 0.8709\n",
      "Iteraions 509: train_loss: 0.23511503016725688 train_accuracy: 0.9051 test_loss: 0.3383910649700056 test_accuracy: 0.8703\n",
      "Iteraions 510: train_loss: 0.23429671628977966 train_accuracy: 0.9071666666666667 test_loss: 0.338200012011149 test_accuracy: 0.8716\n",
      "Iteraions 511: train_loss: 0.23325286256140376 train_accuracy: 0.9062333333333333 test_loss: 0.33720055017873657 test_accuracy: 0.8704\n"
     ]
    },
    {
     "name": "stdout",
     "output_type": "stream",
     "text": [
      "Iteraions 512: train_loss: 0.23267043288421227 train_accuracy: 0.9067833333333334 test_loss: 0.3367712218739873 test_accuracy: 0.8716\n",
      "Iteraions 513: train_loss: 0.23297989061289337 train_accuracy: 0.9077 test_loss: 0.33770100060136093 test_accuracy: 0.8706\n",
      "Iteraions 514: train_loss: 0.23330036279078223 train_accuracy: 0.9059166666666667 test_loss: 0.3377877460281367 test_accuracy: 0.8716\n",
      "Iteraions 515: train_loss: 0.23325147233061744 train_accuracy: 0.9069666666666667 test_loss: 0.33823113403473654 test_accuracy: 0.8706\n",
      "Iteraions 516: train_loss: 0.23211111763170236 train_accuracy: 0.9073 test_loss: 0.33716964163099206 test_accuracy: 0.8723\n",
      "Iteraions 517: train_loss: 0.23105983717808123 train_accuracy: 0.9074166666666666 test_loss: 0.336226795851351 test_accuracy: 0.8706\n",
      "Iteraions 518: train_loss: 0.23019667989840073 train_accuracy: 0.9085166666666666 test_loss: 0.33583504588342755 test_accuracy: 0.8723\n",
      "Iteraions 519: train_loss: 0.2299236537358012 train_accuracy: 0.9077666666666667 test_loss: 0.33556567824411093 test_accuracy: 0.8724\n",
      "Iteraions 520: train_loss: 0.23013215414109175 train_accuracy: 0.9080666666666667 test_loss: 0.33629180691747035 test_accuracy: 0.8713\n",
      "Iteraions 521: train_loss: 0.2304351188796579 train_accuracy: 0.9080333333333334 test_loss: 0.3367524134567078 test_accuracy: 0.8727\n",
      "Iteraions 522: train_loss: 0.2307064345109333 train_accuracy: 0.9074833333333333 test_loss: 0.3371274018927213 test_accuracy: 0.8706\n",
      "Iteraions 523: train_loss: 0.2301902177137529 train_accuracy: 0.9083333333333333 test_loss: 0.3369708633998986 test_accuracy: 0.8734\n",
      "Iteraions 524: train_loss: 0.22941150229109902 train_accuracy: 0.9077833333333334 test_loss: 0.3362366304606133 test_accuracy: 0.8716\n",
      "Iteraions 525: train_loss: 0.22853181350180712 train_accuracy: 0.9094166666666667 test_loss: 0.3356745791588251 test_accuracy: 0.8724\n",
      "Iteraions 526: train_loss: 0.22815836556207736 train_accuracy: 0.9089333333333334 test_loss: 0.33558064044351893 test_accuracy: 0.8729\n",
      "Iteraions 527: train_loss: 0.22814162509315042 train_accuracy: 0.9086166666666666 test_loss: 0.3356857147484561 test_accuracy: 0.8725\n",
      "Iteraions 528: train_loss: 0.2281112349494136 train_accuracy: 0.9094333333333333 test_loss: 0.3361414729173283 test_accuracy: 0.8734\n",
      "Iteraions 529: train_loss: 0.22786417448384086 train_accuracy: 0.9087333333333333 test_loss: 0.3359278700000706 test_accuracy: 0.8714\n",
      "Iteraions 530: train_loss: 0.22733479161470355 train_accuracy: 0.9093666666666667 test_loss: 0.3357404849097531 test_accuracy: 0.8734\n",
      "Iteraions 531: train_loss: 0.22685172708146126 train_accuracy: 0.9095333333333333 test_loss: 0.33555356437121675 test_accuracy: 0.8723\n",
      "Iteraions 532: train_loss: 0.22642580521435438 train_accuracy: 0.9094 test_loss: 0.3352267599747745 test_accuracy: 0.8742\n",
      "Iteraions 533: train_loss: 0.2260878805344018 train_accuracy: 0.91 test_loss: 0.33533882522203134 test_accuracy: 0.8728\n",
      "Iteraions 534: train_loss: 0.2258001875297544 train_accuracy: 0.9099666666666667 test_loss: 0.33505501969703994 test_accuracy: 0.8724\n",
      "Iteraions 535: train_loss: 0.22559445120692254 train_accuracy: 0.9098333333333334 test_loss: 0.3352374608085448 test_accuracy: 0.8736\n",
      "Iteraions 536: train_loss: 0.2255045496478104 train_accuracy: 0.9101333333333333 test_loss: 0.3352870486706143 test_accuracy: 0.8733\n",
      "Iteraions 537: train_loss: 0.22562823687585332 train_accuracy: 0.9098833333333334 test_loss: 0.33573502446924763 test_accuracy: 0.8739\n",
      "Iteraions 538: train_loss: 0.22589628179039 train_accuracy: 0.9102666666666667 test_loss: 0.3364334958749567 test_accuracy: 0.8737\n",
      "Iteraions 539: train_loss: 0.22648363024032328 train_accuracy: 0.9091 test_loss: 0.3371815775095576 test_accuracy: 0.8729\n",
      "Iteraions 540: train_loss: 0.22710097964223375 train_accuracy: 0.9096833333333333 test_loss: 0.33831011555651164 test_accuracy: 0.8721\n",
      "Iteraions 541: train_loss: 0.22854616703711128 train_accuracy: 0.9081833333333333 test_loss: 0.3399739615020847 test_accuracy: 0.8687\n",
      "Iteraions 542: train_loss: 0.22914728909139317 train_accuracy: 0.9083166666666667 test_loss: 0.3409693392370936 test_accuracy: 0.8708\n",
      "Iteraions 543: train_loss: 0.23094994120852996 train_accuracy: 0.9075333333333333 test_loss: 0.34323270778138343 test_accuracy: 0.8676\n",
      "Iteraions 544: train_loss: 0.22966871016635215 train_accuracy: 0.9072666666666667 test_loss: 0.34195709649013245 test_accuracy: 0.8711\n",
      "Iteraions 545: train_loss: 0.22847684861682163 train_accuracy: 0.9094666666666666 test_loss: 0.3410743612943922 test_accuracy: 0.8699\n",
      "Iteraions 546: train_loss: 0.22556753516549696 train_accuracy: 0.9097333333333333 test_loss: 0.33790592571434197 test_accuracy: 0.8728\n",
      "Iteraions 547: train_loss: 0.22367743326922435 train_accuracy: 0.9110166666666667 test_loss: 0.3361574363088081 test_accuracy: 0.8731\n",
      "Iteraions 548: train_loss: 0.22337370918509877 train_accuracy: 0.9106333333333333 test_loss: 0.3359711829522618 test_accuracy: 0.8744\n",
      "Iteraions 549: train_loss: 0.22432997191907447 train_accuracy: 0.9107 test_loss: 0.3372686037174687 test_accuracy: 0.873\n",
      "Iteraions 550: train_loss: 0.22566595281111065 train_accuracy: 0.9102333333333333 test_loss: 0.3391033881983152 test_accuracy: 0.8706\n",
      "Iteraions 551: train_loss: 0.22474617193783816 train_accuracy: 0.9104333333333333 test_loss: 0.33843526688497577 test_accuracy: 0.8727\n",
      "Iteraions 552: train_loss: 0.2234461910414045 train_accuracy: 0.9114333333333333 test_loss: 0.33735616172059885 test_accuracy: 0.8725\n",
      "Iteraions 553: train_loss: 0.2216363248431446 train_accuracy: 0.9121833333333333 test_loss: 0.3357972943028344 test_accuracy: 0.8749\n",
      "Iteraions 554: train_loss: 0.22098283857004686 train_accuracy: 0.9118833333333334 test_loss: 0.33516913721185065 test_accuracy: 0.8733\n",
      "Iteraions 555: train_loss: 0.22138575832990537 train_accuracy: 0.91185 test_loss: 0.33597761548105837 test_accuracy: 0.8745\n",
      "Iteraions 556: train_loss: 0.22207130405434425 train_accuracy: 0.9113166666666667 test_loss: 0.3369284058018933 test_accuracy: 0.8733\n",
      "Iteraions 557: train_loss: 0.22258550521465525 train_accuracy: 0.9109 test_loss: 0.337689604352912 test_accuracy: 0.8726\n",
      "Iteraions 558: train_loss: 0.2218238583856002 train_accuracy: 0.9117833333333333 test_loss: 0.33734670522049565 test_accuracy: 0.8728\n",
      "Iteraions 559: train_loss: 0.22067368266559412 train_accuracy: 0.9119166666666667 test_loss: 0.3360918348032368 test_accuracy: 0.8741\n",
      "Iteraions 560: train_loss: 0.21945849712561452 train_accuracy: 0.9130333333333334 test_loss: 0.3352727067451039 test_accuracy: 0.8753\n",
      "Iteraions 561: train_loss: 0.21887226053241926 train_accuracy: 0.91265 test_loss: 0.3345928792062115 test_accuracy: 0.8747\n",
      "Iteraions 562: train_loss: 0.21899693128274605 train_accuracy: 0.9130666666666667 test_loss: 0.33501412299853284 test_accuracy: 0.8738\n",
      "Iteraions 563: train_loss: 0.21937654741516188 train_accuracy: 0.91275 test_loss: 0.33575912535919145 test_accuracy: 0.8743\n",
      "Iteraions 564: train_loss: 0.21967927079248978 train_accuracy: 0.9122333333333333 test_loss: 0.3361548295770203 test_accuracy: 0.874\n",
      "Iteraions 565: train_loss: 0.2193827540294044 train_accuracy: 0.9128666666666667 test_loss: 0.3364349810461395 test_accuracy: 0.8746\n",
      "Iteraions 566: train_loss: 0.21867637859442615 train_accuracy: 0.9127833333333333 test_loss: 0.335668245022635 test_accuracy: 0.8743\n",
      "Iteraions 567: train_loss: 0.21783599947391669 train_accuracy: 0.9136333333333333 test_loss: 0.3352334804732134 test_accuracy: 0.8758\n",
      "Iteraions 568: train_loss: 0.21732269873462495 train_accuracy: 0.9138666666666667 test_loss: 0.33481081267796214 test_accuracy: 0.8757\n",
      "Iteraions 569: train_loss: 0.21728361902957755 train_accuracy: 0.9139 test_loss: 0.3349268341843963 test_accuracy: 0.874\n",
      "Iteraions 570: train_loss: 0.21746785352282713 train_accuracy: 0.9139833333333334 test_loss: 0.33558212557189765 test_accuracy: 0.8756\n",
      "Iteraions 571: train_loss: 0.21765646742007425 train_accuracy: 0.9134833333333333 test_loss: 0.3358179062142344 test_accuracy: 0.873\n",
      "Iteraions 572: train_loss: 0.21756886034095824 train_accuracy: 0.9139333333333334 test_loss: 0.3362771142893115 test_accuracy: 0.8744\n",
      "Iteraions 573: train_loss: 0.2172619073925721 train_accuracy: 0.9139333333333334 test_loss: 0.33606712565501595 test_accuracy: 0.8734\n",
      "Iteraions 574: train_loss: 0.21675086102156688 train_accuracy: 0.9142833333333333 test_loss: 0.3358746712998372 test_accuracy: 0.8748\n"
     ]
    },
    {
     "name": "stdout",
     "output_type": "stream",
     "text": [
      "Iteraions 575: train_loss: 0.21629727831310902 train_accuracy: 0.9145666666666666 test_loss: 0.33565631180407063 test_accuracy: 0.8742\n",
      "Iteraions 576: train_loss: 0.21595153734410347 train_accuracy: 0.9145 test_loss: 0.33541699906821426 test_accuracy: 0.8752\n",
      "Iteraions 577: train_loss: 0.21586228248230716 train_accuracy: 0.9143166666666667 test_loss: 0.33572711730927896 test_accuracy: 0.8738\n",
      "Iteraions 578: train_loss: 0.2159478534155612 train_accuracy: 0.9141833333333333 test_loss: 0.33591120698079524 test_accuracy: 0.8753\n",
      "Iteraions 579: train_loss: 0.21651736820381193 train_accuracy: 0.9139333333333334 test_loss: 0.33695256204802365 test_accuracy: 0.8743\n",
      "Iteraions 580: train_loss: 0.21707012301957757 train_accuracy: 0.9131333333333334 test_loss: 0.33764469963038984 test_accuracy: 0.8739\n",
      "Iteraions 581: train_loss: 0.21818143519295474 train_accuracy: 0.91305 test_loss: 0.33917476524166257 test_accuracy: 0.8726\n",
      "Iteraions 582: train_loss: 0.2183902959554201 train_accuracy: 0.91245 test_loss: 0.33941100667040447 test_accuracy: 0.8731\n",
      "Iteraions 583: train_loss: 0.21857696889990397 train_accuracy: 0.9131 test_loss: 0.3400175345410253 test_accuracy: 0.873\n",
      "Iteraions 584: train_loss: 0.2168743226046384 train_accuracy: 0.9132333333333333 test_loss: 0.3381736225200088 test_accuracy: 0.8737\n",
      "Iteraions 585: train_loss: 0.21520792638072328 train_accuracy: 0.9146166666666666 test_loss: 0.3370120997048478 test_accuracy: 0.8742\n",
      "Iteraions 586: train_loss: 0.21351148610972134 train_accuracy: 0.9153833333333333 test_loss: 0.33527813387349664 test_accuracy: 0.8761\n",
      "Iteraions 587: train_loss: 0.2127952192448831 train_accuracy: 0.9162 test_loss: 0.3350888851915534 test_accuracy: 0.8754\n",
      "Iteraions 588: train_loss: 0.21294916095103958 train_accuracy: 0.9150333333333334 test_loss: 0.3354897649327041 test_accuracy: 0.8753\n",
      "Iteraions 589: train_loss: 0.2136727864074419 train_accuracy: 0.9151333333333334 test_loss: 0.3365337842759876 test_accuracy: 0.8737\n",
      "Iteraions 590: train_loss: 0.2144645446624949 train_accuracy: 0.9145833333333333 test_loss: 0.3378152922775999 test_accuracy: 0.8743\n",
      "Iteraions 591: train_loss: 0.21498027584375917 train_accuracy: 0.9140166666666667 test_loss: 0.3383525557798696 test_accuracy: 0.8736\n",
      "Iteraions 592: train_loss: 0.2151660457364384 train_accuracy: 0.9147833333333333 test_loss: 0.339079840778524 test_accuracy: 0.8738\n",
      "Iteraions 593: train_loss: 0.21411221243052198 train_accuracy: 0.9143833333333333 test_loss: 0.33778282163737494 test_accuracy: 0.8748\n",
      "Iteraions 594: train_loss: 0.21276726096452991 train_accuracy: 0.9158333333333334 test_loss: 0.3369313875617437 test_accuracy: 0.8752\n",
      "Iteraions 595: train_loss: 0.21135370433585837 train_accuracy: 0.9165 test_loss: 0.33546873571251107 test_accuracy: 0.8758\n",
      "Iteraions 596: train_loss: 0.2107957998305832 train_accuracy: 0.91695 test_loss: 0.3352303361149141 test_accuracy: 0.8755\n",
      "Iteraions 597: train_loss: 0.21109969502462123 train_accuracy: 0.91635 test_loss: 0.33598979260881 test_accuracy: 0.8758\n",
      "Iteraions 598: train_loss: 0.2119908822839998 train_accuracy: 0.9158666666666667 test_loss: 0.33694299076255085 test_accuracy: 0.875\n",
      "Iteraions 599: train_loss: 0.21263717173090746 train_accuracy: 0.9157666666666666 test_loss: 0.3383430472639185 test_accuracy: 0.8742\n",
      "Iteraions 600: train_loss: 0.2130571470889903 train_accuracy: 0.9150666666666667 test_loss: 0.3386308019048231 test_accuracy: 0.8723\n",
      "Iteraions 601: train_loss: 0.2123247943457125 train_accuracy: 0.9162333333333333 test_loss: 0.33852810420820595 test_accuracy: 0.8747\n",
      "Iteraions 602: train_loss: 0.2115156046288668 train_accuracy: 0.9163833333333333 test_loss: 0.33758029117324834 test_accuracy: 0.8733\n",
      "Iteraions 603: train_loss: 0.21040446129483145 train_accuracy: 0.9172166666666667 test_loss: 0.3368650811781235 test_accuracy: 0.8746\n",
      "Iteraions 604: train_loss: 0.21001492995337506 train_accuracy: 0.9175333333333333 test_loss: 0.33664001394432763 test_accuracy: 0.8739\n",
      "Iteraions 605: train_loss: 0.2102000794760598 train_accuracy: 0.9168666666666667 test_loss: 0.3370695245574304 test_accuracy: 0.8755\n",
      "Iteraions 606: train_loss: 0.21101306643400924 train_accuracy: 0.9166 test_loss: 0.3383171004944502 test_accuracy: 0.8735\n",
      "Iteraions 607: train_loss: 0.21148361664735393 train_accuracy: 0.91565 test_loss: 0.3389079183992632 test_accuracy: 0.8742\n",
      "Iteraions 608: train_loss: 0.21216269796772855 train_accuracy: 0.9157666666666666 test_loss: 0.33989846275790064 test_accuracy: 0.8733\n",
      "Iteraions 609: train_loss: 0.21094827550259634 train_accuracy: 0.916 test_loss: 0.3387813430899164 test_accuracy: 0.874\n",
      "Iteraions 610: train_loss: 0.20959537983094925 train_accuracy: 0.9172333333333333 test_loss: 0.33755704958088106 test_accuracy: 0.8742\n",
      "Iteraions 611: train_loss: 0.2078887034239248 train_accuracy: 0.9182833333333333 test_loss: 0.3361258713727004 test_accuracy: 0.876\n",
      "Iteraions 612: train_loss: 0.2071931641453263 train_accuracy: 0.9182833333333333 test_loss: 0.3356123016061797 test_accuracy: 0.8758\n",
      "Iteraions 613: train_loss: 0.20749356667554014 train_accuracy: 0.9176333333333333 test_loss: 0.3364389068733459 test_accuracy: 0.875\n",
      "Iteraions 614: train_loss: 0.20818726554693004 train_accuracy: 0.9172 test_loss: 0.3373859479939794 test_accuracy: 0.8752\n",
      "Iteraions 615: train_loss: 0.2087625030963167 train_accuracy: 0.9171333333333334 test_loss: 0.33846759517107766 test_accuracy: 0.8735\n",
      "Iteraions 616: train_loss: 0.20840664935841755 train_accuracy: 0.9167833333333333 test_loss: 0.3382744149706863 test_accuracy: 0.8749\n",
      "Iteraions 617: train_loss: 0.2078100266833589 train_accuracy: 0.9174333333333333 test_loss: 0.3379448559399156 test_accuracy: 0.8736\n",
      "Iteraions 618: train_loss: 0.20660920805185287 train_accuracy: 0.91825 test_loss: 0.33679602023641625 test_accuracy: 0.8762\n",
      "Iteraions 619: train_loss: 0.2057147712227589 train_accuracy: 0.91915 test_loss: 0.3360903746036478 test_accuracy: 0.8752\n",
      "Iteraions 620: train_loss: 0.20530574541633823 train_accuracy: 0.9192 test_loss: 0.33584080931605637 test_accuracy: 0.8762\n",
      "Iteraions 621: train_loss: 0.20544944487467742 train_accuracy: 0.9190666666666667 test_loss: 0.33623486797906316 test_accuracy: 0.8762\n",
      "Iteraions 622: train_loss: 0.20580272309746117 train_accuracy: 0.91855 test_loss: 0.3370167089610645 test_accuracy: 0.8748\n",
      "Iteraions 623: train_loss: 0.20618060210037048 train_accuracy: 0.9183166666666667 test_loss: 0.3375553275230075 test_accuracy: 0.8753\n",
      "Iteraions 624: train_loss: 0.20627377082639112 train_accuracy: 0.91845 test_loss: 0.3382375305182072 test_accuracy: 0.8747\n",
      "Iteraions 625: train_loss: 0.20633177186988524 train_accuracy: 0.9182833333333333 test_loss: 0.33827415860319726 test_accuracy: 0.8745\n",
      "Iteraions 626: train_loss: 0.20609722581602066 train_accuracy: 0.9191333333333334 test_loss: 0.3386957108416057 test_accuracy: 0.875\n",
      "Iteraions 627: train_loss: 0.20620265994161296 train_accuracy: 0.9187333333333333 test_loss: 0.3386071504633873 test_accuracy: 0.8744\n",
      "Iteraions 628: train_loss: 0.2063635462822037 train_accuracy: 0.9192833333333333 test_loss: 0.3395620717629773 test_accuracy: 0.8761\n",
      "Iteraions 629: train_loss: 0.20724627027276996 train_accuracy: 0.9177333333333333 test_loss: 0.34025875480693873 test_accuracy: 0.8735\n",
      "Iteraions 630: train_loss: 0.20824550662500133 train_accuracy: 0.9179833333333334 test_loss: 0.34207255551472066 test_accuracy: 0.874\n",
      "Iteraions 631: train_loss: 0.20947837176384823 train_accuracy: 0.9172166666666667 test_loss: 0.3432591227256117 test_accuracy: 0.8725\n",
      "Iteraions 632: train_loss: 0.20945436850501403 train_accuracy: 0.91705 test_loss: 0.3437687426504481 test_accuracy: 0.8724\n",
      "Iteraions 633: train_loss: 0.20843482371558172 train_accuracy: 0.91805 test_loss: 0.3427856330445912 test_accuracy: 0.8729\n",
      "Iteraions 634: train_loss: 0.20589117008765234 train_accuracy: 0.9184833333333333 test_loss: 0.3402869813981831 test_accuracy: 0.8748\n",
      "Iteraions 635: train_loss: 0.2036124091695494 train_accuracy: 0.9205 test_loss: 0.3382673745731771 test_accuracy: 0.8751\n",
      "Iteraions 636: train_loss: 0.202394979310773 train_accuracy: 0.9202166666666667 test_loss: 0.33698591010885753 test_accuracy: 0.8759\n",
      "Iteraions 637: train_loss: 0.2025978797081817 train_accuracy: 0.9207666666666666 test_loss: 0.33779345338558253 test_accuracy: 0.8754\n"
     ]
    },
    {
     "name": "stdout",
     "output_type": "stream",
     "text": [
      "Iteraions 638: train_loss: 0.20357786258427102 train_accuracy: 0.9200666666666667 test_loss: 0.33894461370750834 test_accuracy: 0.8741\n",
      "Iteraions 639: train_loss: 0.20413595964724124 train_accuracy: 0.9195666666666666 test_loss: 0.3399989397706554 test_accuracy: 0.8751\n",
      "Iteraions 640: train_loss: 0.20395183886689755 train_accuracy: 0.9202166666666667 test_loss: 0.34017172899914777 test_accuracy: 0.873\n",
      "Iteraions 641: train_loss: 0.20279499415391802 train_accuracy: 0.9199333333333334 test_loss: 0.33906134632693685 test_accuracy: 0.8761\n",
      "Iteraions 642: train_loss: 0.20164995626810747 train_accuracy: 0.9214666666666667 test_loss: 0.33817443055911306 test_accuracy: 0.8758\n",
      "Iteraions 643: train_loss: 0.20090515999202663 train_accuracy: 0.9208 test_loss: 0.3375013730798288 test_accuracy: 0.8759\n",
      "Iteraions 644: train_loss: 0.20093621214476215 train_accuracy: 0.9209833333333334 test_loss: 0.33772487590838157 test_accuracy: 0.8765\n",
      "Iteraions 645: train_loss: 0.2014068716434263 train_accuracy: 0.9211166666666667 test_loss: 0.3385808803067937 test_accuracy: 0.8752\n",
      "Iteraions 646: train_loss: 0.20151122846291242 train_accuracy: 0.9208666666666666 test_loss: 0.3386918982144266 test_accuracy: 0.8764\n",
      "Iteraions 647: train_loss: 0.20115407041196456 train_accuracy: 0.9215833333333333 test_loss: 0.33887161305750774 test_accuracy: 0.8752\n",
      "Iteraions 648: train_loss: 0.20024959142428378 train_accuracy: 0.9212166666666667 test_loss: 0.3378492032687811 test_accuracy: 0.8759\n",
      "Iteraions 649: train_loss: 0.19941414044579922 train_accuracy: 0.9223333333333333 test_loss: 0.33747932727176466 test_accuracy: 0.8758\n",
      "Iteraions 650: train_loss: 0.19900605719062098 train_accuracy: 0.9217166666666666 test_loss: 0.33718747822030365 test_accuracy: 0.8766\n",
      "Iteraions 651: train_loss: 0.19906337241824673 train_accuracy: 0.92225 test_loss: 0.3375616180294483 test_accuracy: 0.8768\n",
      "Iteraions 652: train_loss: 0.19930765462641295 train_accuracy: 0.9222333333333333 test_loss: 0.33814178808345735 test_accuracy: 0.8752\n",
      "Iteraions 653: train_loss: 0.19935635946285307 train_accuracy: 0.9219333333333334 test_loss: 0.3383481004158038 test_accuracy: 0.8764\n",
      "Iteraions 654: train_loss: 0.1991028506181895 train_accuracy: 0.9224166666666667 test_loss: 0.33848292791093815 test_accuracy: 0.875\n",
      "Iteraions 655: train_loss: 0.19856619611089013 train_accuracy: 0.9222166666666667 test_loss: 0.33806851498228335 test_accuracy: 0.8764\n",
      "Iteraions 656: train_loss: 0.19801082055733357 train_accuracy: 0.9225666666666666 test_loss: 0.3377805252575518 test_accuracy: 0.8756\n",
      "Iteraions 657: train_loss: 0.19761131316855243 train_accuracy: 0.9227166666666666 test_loss: 0.3375577255285443 test_accuracy: 0.8765\n",
      "Iteraions 658: train_loss: 0.1974315947696216 train_accuracy: 0.92265 test_loss: 0.3375848045852243 test_accuracy: 0.8759\n",
      "Iteraions 659: train_loss: 0.19741088597380527 train_accuracy: 0.9231333333333334 test_loss: 0.33787110693408184 test_accuracy: 0.8755\n",
      "Iteraions 660: train_loss: 0.19741689082900404 train_accuracy: 0.9227833333333333 test_loss: 0.33812888460184276 test_accuracy: 0.877\n",
      "Iteraions 661: train_loss: 0.19740262769246134 train_accuracy: 0.9229666666666667 test_loss: 0.338444597014175 test_accuracy: 0.8754\n",
      "Iteraions 662: train_loss: 0.19732418894758125 train_accuracy: 0.9229666666666667 test_loss: 0.33870536970287773 test_accuracy: 0.8764\n",
      "Iteraions 663: train_loss: 0.19738772088650736 train_accuracy: 0.92275 test_loss: 0.3388993269518459 test_accuracy: 0.8747\n",
      "Iteraions 664: train_loss: 0.19774060362582474 train_accuracy: 0.9228333333333333 test_loss: 0.33988947954629073 test_accuracy: 0.8764\n",
      "Iteraions 665: train_loss: 0.19895176082687152 train_accuracy: 0.92205 test_loss: 0.34091079925008533 test_accuracy: 0.8736\n",
      "Iteraions 666: train_loss: 0.20115910555005928 train_accuracy: 0.9217833333333333 test_loss: 0.34431687769954117 test_accuracy: 0.8759\n",
      "Iteraions 667: train_loss: 0.20526908675445169 train_accuracy: 0.9179666666666667 test_loss: 0.3479702828261419 test_accuracy: 0.8702\n",
      "Iteraions 668: train_loss: 0.2088713317243148 train_accuracy: 0.9178666666666667 test_loss: 0.3532066716899874 test_accuracy: 0.8724\n",
      "Iteraions 669: train_loss: 0.21177999193454494 train_accuracy: 0.9148166666666666 test_loss: 0.3554218469814709 test_accuracy: 0.8682\n",
      "Iteraions 670: train_loss: 0.20602338057375674 train_accuracy: 0.9183833333333333 test_loss: 0.35022990139772525 test_accuracy: 0.8731\n",
      "Iteraions 671: train_loss: 0.19960897505571962 train_accuracy: 0.92185 test_loss: 0.3430762613176003 test_accuracy: 0.8748\n",
      "Iteraions 672: train_loss: 0.19622855269574419 train_accuracy: 0.9228 test_loss: 0.33950329951331076 test_accuracy: 0.876\n",
      "Iteraions 673: train_loss: 0.19833536000407032 train_accuracy: 0.9228166666666666 test_loss: 0.3428819624129488 test_accuracy: 0.8771\n",
      "Iteraions 674: train_loss: 0.20243128950763736 train_accuracy: 0.9197166666666666 test_loss: 0.3467181785078888 test_accuracy: 0.8713\n",
      "Iteraions 675: train_loss: 0.2020485496034821 train_accuracy: 0.9201 test_loss: 0.3474583212470102 test_accuracy: 0.8747\n",
      "Iteraions 676: train_loss: 0.19993019559826608 train_accuracy: 0.9217833333333333 test_loss: 0.34506943694364056 test_accuracy: 0.8728\n",
      "Iteraions 677: train_loss: 0.19614770023280664 train_accuracy: 0.92245 test_loss: 0.3409712319149391 test_accuracy: 0.8749\n",
      "Iteraions 678: train_loss: 0.19524813542221306 train_accuracy: 0.9243333333333333 test_loss: 0.34082339668364775 test_accuracy: 0.877\n",
      "Iteraions 679: train_loss: 0.19707334113371158 train_accuracy: 0.9227666666666666 test_loss: 0.3425848668669578 test_accuracy: 0.8737\n",
      "Iteraions 680: train_loss: 0.19778086774957734 train_accuracy: 0.92255 test_loss: 0.3439591363259825 test_accuracy: 0.8757\n",
      "Iteraions 681: train_loss: 0.1971981757062343 train_accuracy: 0.9228666666666666 test_loss: 0.34324424685786964 test_accuracy: 0.8739\n",
      "Iteraions 682: train_loss: 0.19427307387939835 train_accuracy: 0.9237666666666666 test_loss: 0.3403165217830736 test_accuracy: 0.8758\n",
      "Iteraions 683: train_loss: 0.19336065036531846 train_accuracy: 0.9249166666666667 test_loss: 0.3399538460271035 test_accuracy: 0.8773\n",
      "Iteraions 684: train_loss: 0.19476052764257165 train_accuracy: 0.9234333333333333 test_loss: 0.34148518145992285 test_accuracy: 0.8756\n",
      "Iteraions 685: train_loss: 0.19549029764117498 train_accuracy: 0.92335 test_loss: 0.3426166987594775 test_accuracy: 0.8758\n",
      "Iteraions 686: train_loss: 0.19487743865725765 train_accuracy: 0.92415 test_loss: 0.3420133078994025 test_accuracy: 0.8754\n",
      "Iteraions 687: train_loss: 0.19277897917378153 train_accuracy: 0.9241166666666667 test_loss: 0.339857375899549 test_accuracy: 0.8766\n",
      "Iteraions 688: train_loss: 0.19206601176061788 train_accuracy: 0.9251833333333334 test_loss: 0.33931906687552393 test_accuracy: 0.8767\n",
      "Iteraions 689: train_loss: 0.1929381312000516 train_accuracy: 0.92485 test_loss: 0.3405653647803857 test_accuracy: 0.8762\n",
      "Iteraions 690: train_loss: 0.19350250273933764 train_accuracy: 0.9242666666666667 test_loss: 0.34151864420837347 test_accuracy: 0.876\n",
      "Iteraions 691: train_loss: 0.19307655855842168 train_accuracy: 0.9246 test_loss: 0.34126580180122573 test_accuracy: 0.8762\n",
      "Iteraions 692: train_loss: 0.19172308681355552 train_accuracy: 0.92505 test_loss: 0.3401815620576389 test_accuracy: 0.8768\n",
      "Iteraions 693: train_loss: 0.19118399207408124 train_accuracy: 0.9252666666666667 test_loss: 0.33970354427181226 test_accuracy: 0.8764\n",
      "Iteraions 694: train_loss: 0.19156589242307237 train_accuracy: 0.9253666666666667 test_loss: 0.34046129121744 test_accuracy: 0.8767\n",
      "Iteraions 695: train_loss: 0.1918367250751614 train_accuracy: 0.9249833333333334 test_loss: 0.3409651615726142 test_accuracy: 0.8754\n",
      "Iteraions 696: train_loss: 0.19159464525435446 train_accuracy: 0.9253666666666667 test_loss: 0.3408694553409813 test_accuracy: 0.8766\n",
      "Iteraions 697: train_loss: 0.19093889545037193 train_accuracy: 0.92525 test_loss: 0.34061963519026406 test_accuracy: 0.8766\n",
      "Iteraions 698: train_loss: 0.19049467280535395 train_accuracy: 0.9257 test_loss: 0.3401258959998325 test_accuracy: 0.8774\n",
      "Iteraions 699: train_loss: 0.1903404558277665 train_accuracy: 0.9263333333333333 test_loss: 0.3405062117736712 test_accuracy: 0.8768\n",
      "Iteraions 700: train_loss: 0.19025980047071517 train_accuracy: 0.9257666666666666 test_loss: 0.34055620854026747 test_accuracy: 0.8769\n"
     ]
    },
    {
     "name": "stdout",
     "output_type": "stream",
     "text": [
      "Iteraions 701: train_loss: 0.19015206419641834 train_accuracy: 0.9260333333333334 test_loss: 0.3406981163160416 test_accuracy: 0.8768\n",
      "Iteraions 702: train_loss: 0.1899848553116573 train_accuracy: 0.92595 test_loss: 0.34098476321842824 test_accuracy: 0.8766\n",
      "Iteraions 703: train_loss: 0.18981235097008387 train_accuracy: 0.9261833333333334 test_loss: 0.34077332415843237 test_accuracy: 0.8764\n",
      "Iteraions 704: train_loss: 0.1895672813808188 train_accuracy: 0.9264166666666667 test_loss: 0.3411184789858651 test_accuracy: 0.8768\n",
      "Iteraions 705: train_loss: 0.18923384542518445 train_accuracy: 0.9261333333333334 test_loss: 0.34070583391269393 test_accuracy: 0.8774\n",
      "Iteraions 706: train_loss: 0.1888944096322507 train_accuracy: 0.9265833333333333 test_loss: 0.34078063036558925 test_accuracy: 0.8763\n",
      "Iteraions 707: train_loss: 0.18870770022923986 train_accuracy: 0.9264 test_loss: 0.34080670024964477 test_accuracy: 0.8764\n",
      "Iteraions 708: train_loss: 0.18867624437935457 train_accuracy: 0.9266333333333333 test_loss: 0.340853380734013 test_accuracy: 0.8769\n",
      "Iteraions 709: train_loss: 0.18867166341800273 train_accuracy: 0.9265166666666667 test_loss: 0.3413121340824086 test_accuracy: 0.8764\n",
      "Iteraions 710: train_loss: 0.18854837849715653 train_accuracy: 0.9265666666666666 test_loss: 0.34114600215388935 test_accuracy: 0.8768\n",
      "Iteraions 711: train_loss: 0.188295233846835 train_accuracy: 0.9268833333333333 test_loss: 0.34144336293287864 test_accuracy: 0.8765\n",
      "Iteraions 712: train_loss: 0.18796092147869065 train_accuracy: 0.9269166666666667 test_loss: 0.34115997041240764 test_accuracy: 0.877\n",
      "Iteraions 713: train_loss: 0.18767719105571457 train_accuracy: 0.927 test_loss: 0.3412732143938361 test_accuracy: 0.8763\n",
      "Iteraions 714: train_loss: 0.1874882771476386 train_accuracy: 0.9272666666666667 test_loss: 0.34129769348718375 test_accuracy: 0.8766\n",
      "Iteraions 715: train_loss: 0.1873755038827751 train_accuracy: 0.9267833333333333 test_loss: 0.341283994019049 test_accuracy: 0.8765\n",
      "Iteraions 716: train_loss: 0.18729295705243998 train_accuracy: 0.9275666666666667 test_loss: 0.34159519719671116 test_accuracy: 0.877\n",
      "Iteraions 717: train_loss: 0.1872576239820146 train_accuracy: 0.92685 test_loss: 0.3416299957444197 test_accuracy: 0.8761\n",
      "Iteraions 718: train_loss: 0.18732261006157871 train_accuracy: 0.9277833333333333 test_loss: 0.3422510923465299 test_accuracy: 0.8775\n",
      "Iteraions 719: train_loss: 0.18765347279044375 train_accuracy: 0.9269166666666667 test_loss: 0.3426237144100838 test_accuracy: 0.8749\n",
      "Iteraions 720: train_loss: 0.18834660659837416 train_accuracy: 0.92745 test_loss: 0.3439051425668771 test_accuracy: 0.8764\n",
      "Iteraions 721: train_loss: 0.18983399557203398 train_accuracy: 0.92585 test_loss: 0.3454032955591592 test_accuracy: 0.8747\n",
      "Iteraions 722: train_loss: 0.19193837032113845 train_accuracy: 0.92505 test_loss: 0.3482093713084446 test_accuracy: 0.8749\n",
      "Iteraions 723: train_loss: 0.19560456517883176 train_accuracy: 0.9232 test_loss: 0.35198090611179655 test_accuracy: 0.8742\n",
      "Iteraions 724: train_loss: 0.19775951214711157 train_accuracy: 0.9220166666666667 test_loss: 0.3547536781256792 test_accuracy: 0.8702\n",
      "Iteraions 725: train_loss: 0.19893533996605559 train_accuracy: 0.9220166666666667 test_loss: 0.355842805273672 test_accuracy: 0.8732\n",
      "Iteraions 726: train_loss: 0.193586385626765 train_accuracy: 0.9241 test_loss: 0.3504691637875863 test_accuracy: 0.8732\n",
      "Iteraions 727: train_loss: 0.1878520215006599 train_accuracy: 0.9269833333333334 test_loss: 0.3445927689431855 test_accuracy: 0.8744\n",
      "Iteraions 728: train_loss: 0.1858600361384798 train_accuracy: 0.9274833333333333 test_loss: 0.3425837126277287 test_accuracy: 0.8759\n",
      "Iteraions 729: train_loss: 0.18833413673139948 train_accuracy: 0.92755 test_loss: 0.3461230839955008 test_accuracy: 0.8764\n",
      "Iteraions 730: train_loss: 0.19136172485767078 train_accuracy: 0.9251666666666667 test_loss: 0.34934896216388894 test_accuracy: 0.8745\n",
      "Iteraions 731: train_loss: 0.19045212957530927 train_accuracy: 0.92565 test_loss: 0.3490812894794642 test_accuracy: 0.8749\n",
      "Iteraions 732: train_loss: 0.18752729892585637 train_accuracy: 0.9274833333333333 test_loss: 0.34611753964304387 test_accuracy: 0.8745\n",
      "Iteraions 733: train_loss: 0.1850483954852922 train_accuracy: 0.9281166666666667 test_loss: 0.3434970025062876 test_accuracy: 0.8771\n",
      "Iteraions 734: train_loss: 0.18532352351997233 train_accuracy: 0.92885 test_loss: 0.34441747418208823 test_accuracy: 0.8761\n",
      "Iteraions 735: train_loss: 0.18710977389315508 train_accuracy: 0.9272166666666667 test_loss: 0.3460815984134434 test_accuracy: 0.8751\n",
      "Iteraions 736: train_loss: 0.1875252765734418 train_accuracy: 0.9273666666666667 test_loss: 0.3471934974612482 test_accuracy: 0.8762\n",
      "Iteraions 737: train_loss: 0.18620145064119117 train_accuracy: 0.92785 test_loss: 0.34570451191409185 test_accuracy: 0.8742\n",
      "Iteraions 738: train_loss: 0.18426293063811422 train_accuracy: 0.9285833333333333 test_loss: 0.3439035000080036 test_accuracy: 0.8767\n",
      "Iteraions 739: train_loss: 0.18375839945733705 train_accuracy: 0.9291666666666667 test_loss: 0.3435666907351253 test_accuracy: 0.8774\n",
      "Iteraions 740: train_loss: 0.1846151085544953 train_accuracy: 0.92805 test_loss: 0.34446562698969085 test_accuracy: 0.875\n",
      "Iteraions 741: train_loss: 0.1851592555938102 train_accuracy: 0.9284333333333333 test_loss: 0.3454505573794344 test_accuracy: 0.8762\n",
      "Iteraions 742: train_loss: 0.18466876412089644 train_accuracy: 0.9282666666666667 test_loss: 0.3449914187494755 test_accuracy: 0.875\n",
      "Iteraions 743: train_loss: 0.18339763749977722 train_accuracy: 0.9292166666666667 test_loss: 0.34399791139798575 test_accuracy: 0.8769\n",
      "Iteraions 744: train_loss: 0.18263076786527835 train_accuracy: 0.9293833333333333 test_loss: 0.34356777655215487 test_accuracy: 0.8767\n",
      "Iteraions 745: train_loss: 0.18282675758397704 train_accuracy: 0.9288166666666666 test_loss: 0.3438989181269668 test_accuracy: 0.8755\n",
      "Iteraions 746: train_loss: 0.18333846102940968 train_accuracy: 0.9293833333333333 test_loss: 0.3449191808021696 test_accuracy: 0.8766\n",
      "Iteraions 747: train_loss: 0.1833989070415356 train_accuracy: 0.9284833333333333 test_loss: 0.3450441221026467 test_accuracy: 0.875\n",
      "Iteraions 748: train_loss: 0.18271224712200182 train_accuracy: 0.9295166666666667 test_loss: 0.34469713492236365 test_accuracy: 0.8765\n",
      "Iteraions 749: train_loss: 0.18191417535497353 train_accuracy: 0.92935 test_loss: 0.3439867769351871 test_accuracy: 0.8758\n",
      "Iteraions 750: train_loss: 0.1815563718189655 train_accuracy: 0.9295833333333333 test_loss: 0.3437762623605255 test_accuracy: 0.8762\n",
      "Iteraions 751: train_loss: 0.18170248599866798 train_accuracy: 0.9300333333333334 test_loss: 0.344361174962322 test_accuracy: 0.8766\n",
      "Iteraions 752: train_loss: 0.181970737724276 train_accuracy: 0.9291833333333334 test_loss: 0.3447381059259987 test_accuracy: 0.8748\n",
      "Iteraions 753: train_loss: 0.18193223388468485 train_accuracy: 0.9298166666666666 test_loss: 0.34525250648729755 test_accuracy: 0.8768\n",
      "Iteraions 754: train_loss: 0.18158855145780048 train_accuracy: 0.9295166666666667 test_loss: 0.34488563980192016 test_accuracy: 0.8754\n",
      "Iteraions 755: train_loss: 0.18119107176545304 train_accuracy: 0.93005 test_loss: 0.3449678426654366 test_accuracy: 0.877\n",
      "Iteraions 756: train_loss: 0.18115178949464342 train_accuracy: 0.93 test_loss: 0.3448658539828448 test_accuracy: 0.876\n",
      "Iteraions 757: train_loss: 0.18167195583767948 train_accuracy: 0.9287833333333333 test_loss: 0.345950219826302 test_accuracy: 0.8766\n",
      "Iteraions 758: train_loss: 0.18277155645344684 train_accuracy: 0.9290833333333334 test_loss: 0.34697865197254835 test_accuracy: 0.8753\n",
      "Iteraions 759: train_loss: 0.18496947401769442 train_accuracy: 0.9272166666666667 test_loss: 0.3500133738589829 test_accuracy: 0.8766\n",
      "Iteraions 760: train_loss: 0.18751453297486703 train_accuracy: 0.92585 test_loss: 0.35229212756360584 test_accuracy: 0.8719\n",
      "Iteraions 761: train_loss: 0.19119112368412705 train_accuracy: 0.9250666666666667 test_loss: 0.35728616851586414 test_accuracy: 0.8734\n",
      "Iteraions 762: train_loss: 0.19343278811161863 train_accuracy: 0.9230333333333334 test_loss: 0.3588924584114044 test_accuracy: 0.8712\n",
      "Iteraions 763: train_loss: 0.19024689534271347 train_accuracy: 0.9259 test_loss: 0.3568810676686537 test_accuracy: 0.8741\n"
     ]
    },
    {
     "name": "stdout",
     "output_type": "stream",
     "text": [
      "Iteraions 764: train_loss: 0.18572358992495058 train_accuracy: 0.9277166666666666 test_loss: 0.35113644994834065 test_accuracy: 0.8721\n",
      "Iteraions 765: train_loss: 0.18087165235871977 train_accuracy: 0.9302 test_loss: 0.3469171935552199 test_accuracy: 0.8769\n",
      "Iteraions 766: train_loss: 0.1805500153762033 train_accuracy: 0.9296833333333333 test_loss: 0.34680077161884265 test_accuracy: 0.8762\n",
      "Iteraions 767: train_loss: 0.18338719098661593 train_accuracy: 0.9283166666666667 test_loss: 0.3497721636227166 test_accuracy: 0.872\n",
      "Iteraions 768: train_loss: 0.18653397855284568 train_accuracy: 0.9271 test_loss: 0.35431622525940293 test_accuracy: 0.8757\n",
      "Iteraions 769: train_loss: 0.18771024039280146 train_accuracy: 0.9267 test_loss: 0.3548221217861937 test_accuracy: 0.8715\n",
      "Iteraions 770: train_loss: 0.18341939001572788 train_accuracy: 0.9288166666666666 test_loss: 0.3511190095138129 test_accuracy: 0.8771\n",
      "Iteraions 771: train_loss: 0.1796164019116698 train_accuracy: 0.9308 test_loss: 0.3466191938011562 test_accuracy: 0.875\n",
      "Iteraions 772: train_loss: 0.17879827141167676 train_accuracy: 0.9312666666666667 test_loss: 0.3460931020434199 test_accuracy: 0.8763\n",
      "Iteraions 773: train_loss: 0.18119683572585224 train_accuracy: 0.9294666666666667 test_loss: 0.3493870812007092 test_accuracy: 0.8768\n",
      "Iteraions 774: train_loss: 0.1836481237103932 train_accuracy: 0.9287166666666666 test_loss: 0.35148429222528943 test_accuracy: 0.8717\n",
      "Iteraions 775: train_loss: 0.18247240885104407 train_accuracy: 0.9289833333333334 test_loss: 0.3514147436290312 test_accuracy: 0.877\n",
      "Iteraions 776: train_loss: 0.17994665055396641 train_accuracy: 0.9303833333333333 test_loss: 0.34812035031977434 test_accuracy: 0.8736\n",
      "Iteraions 777: train_loss: 0.1777225659992262 train_accuracy: 0.93145 test_loss: 0.34625474515726057 test_accuracy: 0.8767\n",
      "Iteraions 778: train_loss: 0.17807974842742555 train_accuracy: 0.9310666666666667 test_loss: 0.34700419382154934 test_accuracy: 0.8769\n",
      "Iteraions 779: train_loss: 0.1798183896645352 train_accuracy: 0.9300833333333334 test_loss: 0.34873734021231356 test_accuracy: 0.8741\n",
      "Iteraions 780: train_loss: 0.18031636144468752 train_accuracy: 0.9300666666666667 test_loss: 0.35010747507750006 test_accuracy: 0.877\n",
      "Iteraions 781: train_loss: 0.17942259811852995 train_accuracy: 0.9309666666666667 test_loss: 0.34860598819186944 test_accuracy: 0.8739\n",
      "Iteraions 782: train_loss: 0.17748727252701108 train_accuracy: 0.9315833333333333 test_loss: 0.3471080196096067 test_accuracy: 0.8765\n",
      "Iteraions 783: train_loss: 0.1766442509962075 train_accuracy: 0.9317666666666666 test_loss: 0.34642547587572886 test_accuracy: 0.876\n",
      "Iteraions 784: train_loss: 0.17712827206287868 train_accuracy: 0.9315166666666667 test_loss: 0.3471339334818792 test_accuracy: 0.8761\n",
      "Iteraions 785: train_loss: 0.1779037976432718 train_accuracy: 0.931 test_loss: 0.3486659589256041 test_accuracy: 0.877\n",
      "Iteraions 786: train_loss: 0.1779953745611206 train_accuracy: 0.9311166666666667 test_loss: 0.3485018177663945 test_accuracy: 0.875\n",
      "Iteraions 787: train_loss: 0.17699373604287016 train_accuracy: 0.9316666666666666 test_loss: 0.3480077956137673 test_accuracy: 0.8764\n",
      "Iteraions 788: train_loss: 0.17605343975336157 train_accuracy: 0.9319166666666666 test_loss: 0.346879482653584 test_accuracy: 0.8756\n",
      "Iteraions 789: train_loss: 0.17570684798678285 train_accuracy: 0.93195 test_loss: 0.3467417364822696 test_accuracy: 0.876\n",
      "Iteraions 790: train_loss: 0.1759488009280849 train_accuracy: 0.9318833333333333 test_loss: 0.34752906308966924 test_accuracy: 0.8767\n",
      "Iteraions 791: train_loss: 0.17631543584124945 train_accuracy: 0.9315666666666667 test_loss: 0.34796010209032446 test_accuracy: 0.8753\n",
      "Iteraions 792: train_loss: 0.17623313238081464 train_accuracy: 0.9317833333333333 test_loss: 0.3484644996807891 test_accuracy: 0.8767\n",
      "Iteraions 793: train_loss: 0.17575975232311072 train_accuracy: 0.9319166666666666 test_loss: 0.34789859744733415 test_accuracy: 0.8748\n",
      "Iteraions 794: train_loss: 0.1751515588870644 train_accuracy: 0.9322333333333334 test_loss: 0.3475793273091157 test_accuracy: 0.8761\n",
      "Iteraions 795: train_loss: 0.174790849671724 train_accuracy: 0.9326666666666666 test_loss: 0.34740747428193935 test_accuracy: 0.8761\n",
      "Iteraions 796: train_loss: 0.17472548392275444 train_accuracy: 0.9322333333333334 test_loss: 0.3475469755248168 test_accuracy: 0.8758\n",
      "Iteraions 797: train_loss: 0.17482662973877225 train_accuracy: 0.9322333333333334 test_loss: 0.34820644519553867 test_accuracy: 0.8763\n",
      "Iteraions 798: train_loss: 0.17488390339650575 train_accuracy: 0.93215 test_loss: 0.348284294856439 test_accuracy: 0.8758\n",
      "Iteraions 799: train_loss: 0.17468003699026255 train_accuracy: 0.9323666666666667 test_loss: 0.3485135661713415 test_accuracy: 0.8759\n",
      "Iteraions 800: train_loss: 0.17438255099288452 train_accuracy: 0.9324166666666667 test_loss: 0.34817540233625344 test_accuracy: 0.8755\n",
      "Iteraions 801: train_loss: 0.17401093841579163 train_accuracy: 0.9327666666666666 test_loss: 0.34807164700560106 test_accuracy: 0.8762\n",
      "Iteraions 802: train_loss: 0.1737279202579958 train_accuracy: 0.9329333333333333 test_loss: 0.3479714696820203 test_accuracy: 0.8762\n",
      "Iteraions 803: train_loss: 0.17358314688033913 train_accuracy: 0.93285 test_loss: 0.34805975155349 test_accuracy: 0.8759\n",
      "Iteraions 804: train_loss: 0.17353722204292243 train_accuracy: 0.9330666666666667 test_loss: 0.3484162900197908 test_accuracy: 0.8768\n",
      "Iteraions 805: train_loss: 0.1735237628424547 train_accuracy: 0.9324333333333333 test_loss: 0.34846966164167026 test_accuracy: 0.8757\n",
      "Iteraions 806: train_loss: 0.17347113788390683 train_accuracy: 0.93315 test_loss: 0.34886526295278164 test_accuracy: 0.8767\n",
      "Iteraions 807: train_loss: 0.17335322057453656 train_accuracy: 0.9325333333333333 test_loss: 0.34874749563986424 test_accuracy: 0.875\n",
      "Iteraions 808: train_loss: 0.1731506050960581 train_accuracy: 0.9333333333333333 test_loss: 0.3490229925080371 test_accuracy: 0.8764\n",
      "Iteraions 809: train_loss: 0.1729302740634443 train_accuracy: 0.9327166666666666 test_loss: 0.3487999966805878 test_accuracy: 0.8756\n",
      "Iteraions 810: train_loss: 0.17268075063567906 train_accuracy: 0.9333 test_loss: 0.3489538788032344 test_accuracy: 0.8761\n",
      "Iteraions 811: train_loss: 0.1724551761072627 train_accuracy: 0.9332166666666667 test_loss: 0.34877992743833663 test_accuracy: 0.876\n",
      "Iteraions 812: train_loss: 0.1722575274518376 train_accuracy: 0.9336166666666667 test_loss: 0.3489402171312414 test_accuracy: 0.876\n",
      "Iteraions 813: train_loss: 0.1720918075648376 train_accuracy: 0.9334166666666667 test_loss: 0.3489732679335022 test_accuracy: 0.8762\n",
      "Iteraions 814: train_loss: 0.17195913692774534 train_accuracy: 0.9336833333333333 test_loss: 0.34915901577526404 test_accuracy: 0.8759\n",
      "Iteraions 815: train_loss: 0.17185794799051995 train_accuracy: 0.9335833333333333 test_loss: 0.34929254456965925 test_accuracy: 0.8762\n",
      "Iteraions 816: train_loss: 0.17178371070355097 train_accuracy: 0.9337666666666666 test_loss: 0.3494315658345271 test_accuracy: 0.8755\n",
      "Iteraions 817: train_loss: 0.17176526598098563 train_accuracy: 0.9334833333333333 test_loss: 0.3497220343109988 test_accuracy: 0.8765\n",
      "Iteraions 818: train_loss: 0.17178628900268375 train_accuracy: 0.9337833333333333 test_loss: 0.34996611266654404 test_accuracy: 0.875\n",
      "Iteraions 819: train_loss: 0.17192615284182866 train_accuracy: 0.9332166666666667 test_loss: 0.3504811701826478 test_accuracy: 0.8766\n",
      "Iteraions 820: train_loss: 0.17214627374388716 train_accuracy: 0.9335166666666667 test_loss: 0.3508228140583176 test_accuracy: 0.8748\n",
      "Iteraions 821: train_loss: 0.17264845140183807 train_accuracy: 0.9329666666666667 test_loss: 0.3516666403611892 test_accuracy: 0.8767\n",
      "Iteraions 822: train_loss: 0.1731927106204415 train_accuracy: 0.93305 test_loss: 0.35231399172147665 test_accuracy: 0.8746\n",
      "Iteraions 823: train_loss: 0.17434161841340248 train_accuracy: 0.93225 test_loss: 0.3539409980454936 test_accuracy: 0.8765\n",
      "Iteraions 824: train_loss: 0.1748404010783047 train_accuracy: 0.9321333333333334 test_loss: 0.3545209832133522 test_accuracy: 0.8741\n",
      "Iteraions 825: train_loss: 0.1760367004249279 train_accuracy: 0.93175 test_loss: 0.35621860739847994 test_accuracy: 0.8763\n",
      "Iteraions 826: train_loss: 0.1751282609052343 train_accuracy: 0.9319333333333333 test_loss: 0.355216321453629 test_accuracy: 0.8737\n"
     ]
    },
    {
     "name": "stdout",
     "output_type": "stream",
     "text": [
      "Iteraions 827: train_loss: 0.17440085525513466 train_accuracy: 0.93235 test_loss: 0.3549315482999148 test_accuracy: 0.8767\n",
      "Iteraions 828: train_loss: 0.17228891854497838 train_accuracy: 0.933 test_loss: 0.3526398817529346 test_accuracy: 0.876\n",
      "Iteraions 829: train_loss: 0.17084765828552953 train_accuracy: 0.9341 test_loss: 0.3517150557873758 test_accuracy: 0.8759\n",
      "Iteraions 830: train_loss: 0.17008971109020907 train_accuracy: 0.9336833333333333 test_loss: 0.3510691773083123 test_accuracy: 0.8765\n",
      "Iteraions 831: train_loss: 0.17013837220508377 train_accuracy: 0.9349833333333334 test_loss: 0.3517451403963051 test_accuracy: 0.8754\n",
      "Iteraions 832: train_loss: 0.17073431178654325 train_accuracy: 0.9334666666666667 test_loss: 0.3525586906103069 test_accuracy: 0.8761\n",
      "Iteraions 833: train_loss: 0.17140806944064288 train_accuracy: 0.9339333333333333 test_loss: 0.353749137262562 test_accuracy: 0.8749\n",
      "Iteraions 834: train_loss: 0.17257929664229754 train_accuracy: 0.9329833333333334 test_loss: 0.35498866804496026 test_accuracy: 0.8754\n",
      "Iteraions 835: train_loss: 0.17257661350555087 train_accuracy: 0.9331333333333334 test_loss: 0.35524947188328126 test_accuracy: 0.875\n",
      "Iteraions 836: train_loss: 0.17291226630486822 train_accuracy: 0.9334 test_loss: 0.3555469627245785 test_accuracy: 0.875\n",
      "Iteraions 837: train_loss: 0.1715659454253915 train_accuracy: 0.9334333333333333 test_loss: 0.35428352921156697 test_accuracy: 0.8756\n",
      "Iteraions 838: train_loss: 0.1705363095316361 train_accuracy: 0.9346333333333333 test_loss: 0.3533809891845548 test_accuracy: 0.8756\n",
      "Iteraions 839: train_loss: 0.16966787392054747 train_accuracy: 0.9343833333333333 test_loss: 0.3526909782893652 test_accuracy: 0.8757\n",
      "Iteraions 840: train_loss: 0.16953737332921986 train_accuracy: 0.9351666666666667 test_loss: 0.35296147000943745 test_accuracy: 0.8749\n",
      "Iteraions 841: train_loss: 0.16975102770968473 train_accuracy: 0.9340833333333334 test_loss: 0.35350965435405235 test_accuracy: 0.8761\n",
      "Iteraions 842: train_loss: 0.1702034581072659 train_accuracy: 0.93475 test_loss: 0.35443475103375893 test_accuracy: 0.8749\n",
      "Iteraions 843: train_loss: 0.17038954773402815 train_accuracy: 0.93395 test_loss: 0.3550047308199807 test_accuracy: 0.8767\n",
      "Iteraions 844: train_loss: 0.1703375064904839 train_accuracy: 0.9345333333333333 test_loss: 0.35508548444384264 test_accuracy: 0.8743\n",
      "Iteraions 845: train_loss: 0.1702825285553534 train_accuracy: 0.9341666666666667 test_loss: 0.35546386827221843 test_accuracy: 0.8773\n",
      "Iteraions 846: train_loss: 0.17020791695242649 train_accuracy: 0.9340666666666667 test_loss: 0.35507195119965956 test_accuracy: 0.8751\n",
      "Iteraions 847: train_loss: 0.17050743096695503 train_accuracy: 0.93445 test_loss: 0.35626567985140145 test_accuracy: 0.8772\n",
      "Iteraions 848: train_loss: 0.17088882801616012 train_accuracy: 0.9330166666666667 test_loss: 0.35605080484008395 test_accuracy: 0.875\n",
      "Iteraions 849: train_loss: 0.17150184994213208 train_accuracy: 0.9349333333333333 test_loss: 0.35791704226632437 test_accuracy: 0.8769\n",
      "Iteraions 850: train_loss: 0.17171743691409883 train_accuracy: 0.9326 test_loss: 0.35745626995858026 test_accuracy: 0.8734\n",
      "Iteraions 851: train_loss: 0.17171795589623445 train_accuracy: 0.9342333333333334 test_loss: 0.3587032533251519 test_accuracy: 0.8773\n",
      "Iteraions 852: train_loss: 0.17244872369636038 train_accuracy: 0.9328833333333333 test_loss: 0.359027591415296 test_accuracy: 0.875\n",
      "Iteraions 853: train_loss: 0.1734685632836466 train_accuracy: 0.93325 test_loss: 0.3610911387680578 test_accuracy: 0.8743\n",
      "Iteraions 854: train_loss: 0.1752341476505255 train_accuracy: 0.9322666666666667 test_loss: 0.36289350613357335 test_accuracy: 0.8741\n",
      "Iteraions 855: train_loss: 0.1738988634508658 train_accuracy: 0.9322666666666667 test_loss: 0.3618990555307674 test_accuracy: 0.8752\n",
      "Iteraions 856: train_loss: 0.17149864391364972 train_accuracy: 0.9337 test_loss: 0.359220388454733 test_accuracy: 0.8746\n",
      "Iteraions 857: train_loss: 0.1676040747584347 train_accuracy: 0.93605 test_loss: 0.355489115363782 test_accuracy: 0.8756\n",
      "Iteraions 858: train_loss: 0.1662643410542993 train_accuracy: 0.9357333333333333 test_loss: 0.35385208082950903 test_accuracy: 0.8761\n",
      "Iteraions 859: train_loss: 0.16738648794285368 train_accuracy: 0.9356666666666666 test_loss: 0.3555947438724274 test_accuracy: 0.8757\n",
      "Iteraions 860: train_loss: 0.16856408470745002 train_accuracy: 0.93475 test_loss: 0.35696459529499514 test_accuracy: 0.8766\n",
      "Iteraions 861: train_loss: 0.1686113212542978 train_accuracy: 0.9348833333333333 test_loss: 0.35724584314246005 test_accuracy: 0.8749\n",
      "Iteraions 862: train_loss: 0.16744855926026883 train_accuracy: 0.9361833333333334 test_loss: 0.35633555665220645 test_accuracy: 0.8753\n",
      "Iteraions 863: train_loss: 0.16674458503187706 train_accuracy: 0.9352 test_loss: 0.35537062684256937 test_accuracy: 0.8748\n",
      "Iteraions 864: train_loss: 0.16672228035688902 train_accuracy: 0.9362166666666667 test_loss: 0.3562076271067725 test_accuracy: 0.8769\n",
      "Iteraions 865: train_loss: 0.16672980243330165 train_accuracy: 0.9349833333333334 test_loss: 0.35585181648129727 test_accuracy: 0.8763\n",
      "Iteraions 866: train_loss: 0.16631764168401628 train_accuracy: 0.9365333333333333 test_loss: 0.3562649907888116 test_accuracy: 0.877\n",
      "Iteraions 867: train_loss: 0.16554035985895454 train_accuracy: 0.9360666666666667 test_loss: 0.35535044639040414 test_accuracy: 0.8767\n",
      "Iteraions 868: train_loss: 0.16544374231758435 train_accuracy: 0.9363666666666667 test_loss: 0.35551042469257066 test_accuracy: 0.8757\n",
      "Iteraions 869: train_loss: 0.16576204308365633 train_accuracy: 0.9367166666666666 test_loss: 0.3562589422624441 test_accuracy: 0.8759\n",
      "Iteraions 870: train_loss: 0.16600281935962943 train_accuracy: 0.9357 test_loss: 0.356321188979409 test_accuracy: 0.8759\n",
      "Iteraions 871: train_loss: 0.16524698668377913 train_accuracy: 0.9368666666666666 test_loss: 0.3561133904740926 test_accuracy: 0.8762\n",
      "Iteraions 872: train_loss: 0.1642770676325034 train_accuracy: 0.9365166666666667 test_loss: 0.35496542024814864 test_accuracy: 0.8756\n",
      "Iteraions 873: train_loss: 0.16374737663439073 train_accuracy: 0.9375166666666667 test_loss: 0.3547861980991837 test_accuracy: 0.8762\n",
      "Iteraions 874: train_loss: 0.16386928994471098 train_accuracy: 0.9375166666666667 test_loss: 0.35529298471846543 test_accuracy: 0.8764\n",
      "Iteraions 875: train_loss: 0.16413373167287293 train_accuracy: 0.93635 test_loss: 0.3556608698137853 test_accuracy: 0.8763\n",
      "Iteraions 876: train_loss: 0.16409218693475883 train_accuracy: 0.93755 test_loss: 0.35613993014748097 test_accuracy: 0.8763\n",
      "Iteraions 877: train_loss: 0.16381347053836373 train_accuracy: 0.9366833333333333 test_loss: 0.35584792004300386 test_accuracy: 0.8757\n",
      "Iteraions 878: train_loss: 0.16353739906884412 train_accuracy: 0.93755 test_loss: 0.35593963479284213 test_accuracy: 0.8762\n",
      "Iteraions 879: train_loss: 0.16352642821497024 train_accuracy: 0.9370333333333334 test_loss: 0.3561296025202431 test_accuracy: 0.8757\n",
      "Iteraions 880: train_loss: 0.163542025635815 train_accuracy: 0.937 test_loss: 0.35628382868461206 test_accuracy: 0.877\n",
      "Iteraions 881: train_loss: 0.1634233501585791 train_accuracy: 0.9375333333333333 test_loss: 0.3565616024584366 test_accuracy: 0.8763\n",
      "Iteraions 882: train_loss: 0.16310663334489856 train_accuracy: 0.9373333333333334 test_loss: 0.35624173162975015 test_accuracy: 0.8771\n",
      "Iteraions 883: train_loss: 0.16288949324604848 train_accuracy: 0.93755 test_loss: 0.35649877927686074 test_accuracy: 0.876\n",
      "Iteraions 884: train_loss: 0.1629973248981279 train_accuracy: 0.93755 test_loss: 0.3567153948406368 test_accuracy: 0.8753\n",
      "Iteraions 885: train_loss: 0.16342405803310908 train_accuracy: 0.9377166666666666 test_loss: 0.3576713608682766 test_accuracy: 0.8756\n",
      "Iteraions 886: train_loss: 0.16435008518841449 train_accuracy: 0.9367666666666666 test_loss: 0.3587227333038687 test_accuracy: 0.8738\n",
      "Iteraions 887: train_loss: 0.16523494951682524 train_accuracy: 0.9367666666666666 test_loss: 0.3603168653245366 test_accuracy: 0.8759\n",
      "Iteraions 888: train_loss: 0.16729413642347687 train_accuracy: 0.9350666666666667 test_loss: 0.36231658450701454 test_accuracy: 0.8738\n",
      "Iteraions 889: train_loss: 0.1686855707128539 train_accuracy: 0.9349333333333333 test_loss: 0.36474698560614904 test_accuracy: 0.8761\n"
     ]
    },
    {
     "name": "stdout",
     "output_type": "stream",
     "text": [
      "Iteraions 890: train_loss: 0.17153407407480387 train_accuracy: 0.9327833333333333 test_loss: 0.36717062804887285 test_accuracy: 0.8729\n",
      "Iteraions 891: train_loss: 0.17120316617134207 train_accuracy: 0.9336333333333333 test_loss: 0.3680056070501407 test_accuracy: 0.8752\n",
      "Iteraions 892: train_loss: 0.17008616062690862 train_accuracy: 0.9336666666666666 test_loss: 0.36591404968015506 test_accuracy: 0.8741\n",
      "Iteraions 893: train_loss: 0.16574822107755882 train_accuracy: 0.9363333333333334 test_loss: 0.3622555001635335 test_accuracy: 0.8762\n",
      "Iteraions 894: train_loss: 0.16230036780601714 train_accuracy: 0.9375666666666667 test_loss: 0.35827658412749236 test_accuracy: 0.8752\n",
      "Iteraions 895: train_loss: 0.16110656638125395 train_accuracy: 0.9382333333333334 test_loss: 0.3573219079746143 test_accuracy: 0.8759\n",
      "Iteraions 896: train_loss: 0.1621461635131554 train_accuracy: 0.9385666666666667 test_loss: 0.35912871894356707 test_accuracy: 0.8758\n",
      "Iteraions 897: train_loss: 0.16411439717450108 train_accuracy: 0.9360833333333334 test_loss: 0.3608985942202471 test_accuracy: 0.8744\n",
      "Iteraions 898: train_loss: 0.16538526411160195 train_accuracy: 0.93665 test_loss: 0.36329438186968094 test_accuracy: 0.8759\n",
      "Iteraions 899: train_loss: 0.1662522520503237 train_accuracy: 0.9356333333333333 test_loss: 0.3638733766622025 test_accuracy: 0.8738\n",
      "Iteraions 900: train_loss: 0.16435779057044456 train_accuracy: 0.9369166666666666 test_loss: 0.3625227961714317 test_accuracy: 0.8754\n",
      "Iteraions 901: train_loss: 0.1625837633942562 train_accuracy: 0.9374333333333333 test_loss: 0.3606162569652803 test_accuracy: 0.8745\n",
      "Iteraions 902: train_loss: 0.1607387843577892 train_accuracy: 0.9380666666666667 test_loss: 0.35880635370385006 test_accuracy: 0.8762\n",
      "Iteraions 903: train_loss: 0.16033935493068047 train_accuracy: 0.9390166666666667 test_loss: 0.358780805323163 test_accuracy: 0.8767\n",
      "Iteraions 904: train_loss: 0.16135151955152766 train_accuracy: 0.9377833333333333 test_loss: 0.35973985466534136 test_accuracy: 0.8757\n",
      "Iteraions 905: train_loss: 0.16248698100425402 train_accuracy: 0.9381666666666667 test_loss: 0.361651945240911 test_accuracy: 0.876\n",
      "Iteraions 906: train_loss: 0.16338272248518235 train_accuracy: 0.9371333333333334 test_loss: 0.36238554923008365 test_accuracy: 0.8737\n",
      "Iteraions 907: train_loss: 0.16224530427410155 train_accuracy: 0.93835 test_loss: 0.36176361264767176 test_accuracy: 0.8767\n",
      "Iteraions 908: train_loss: 0.16092394565403925 train_accuracy: 0.9380833333333334 test_loss: 0.3601857232195218 test_accuracy: 0.8746\n",
      "Iteraions 909: train_loss: 0.15955169891078186 train_accuracy: 0.93985 test_loss: 0.35922481401637424 test_accuracy: 0.8751\n",
      "Iteraions 910: train_loss: 0.1591103877039725 train_accuracy: 0.9391666666666667 test_loss: 0.3587929185380117 test_accuracy: 0.8754\n",
      "Iteraions 911: train_loss: 0.15939987117198406 train_accuracy: 0.9394833333333333 test_loss: 0.35938753845451726 test_accuracy: 0.8751\n",
      "Iteraions 912: train_loss: 0.15982466980429375 train_accuracy: 0.9393166666666667 test_loss: 0.36032191978133493 test_accuracy: 0.875\n",
      "Iteraions 913: train_loss: 0.16023710772317365 train_accuracy: 0.93845 test_loss: 0.3607240168835188 test_accuracy: 0.8749\n",
      "Iteraions 914: train_loss: 0.1601133362722859 train_accuracy: 0.9395 test_loss: 0.3612076584286123 test_accuracy: 0.876\n",
      "Iteraions 915: train_loss: 0.1598011692257749 train_accuracy: 0.9381166666666667 test_loss: 0.36060734341762585 test_accuracy: 0.8756\n",
      "Iteraions 916: train_loss: 0.15914485250554342 train_accuracy: 0.9401333333333334 test_loss: 0.3605614066487073 test_accuracy: 0.8757\n",
      "Iteraions 917: train_loss: 0.158482744804091 train_accuracy: 0.9394333333333333 test_loss: 0.35970444397784856 test_accuracy: 0.8762\n",
      "Iteraions 918: train_loss: 0.1580327543355461 train_accuracy: 0.9402333333333334 test_loss: 0.3597223646469278 test_accuracy: 0.8756\n",
      "Iteraions 919: train_loss: 0.15792027031972788 train_accuracy: 0.9401 test_loss: 0.3599120721793983 test_accuracy: 0.8747\n",
      "Iteraions 920: train_loss: 0.1581029307987918 train_accuracy: 0.93965 test_loss: 0.3602405081380355 test_accuracy: 0.8759\n",
      "Iteraions 921: train_loss: 0.15837669097623217 train_accuracy: 0.9401166666666667 test_loss: 0.3610416285367081 test_accuracy: 0.8753\n",
      "Iteraions 922: train_loss: 0.15853040403252355 train_accuracy: 0.9390833333333334 test_loss: 0.36108784504772995 test_accuracy: 0.876\n",
      "Iteraions 923: train_loss: 0.1584299198163885 train_accuracy: 0.9398333333333333 test_loss: 0.3616305103509585 test_accuracy: 0.8759\n",
      "Iteraions 924: train_loss: 0.15822565436108116 train_accuracy: 0.9391666666666667 test_loss: 0.36130264628078357 test_accuracy: 0.8759\n",
      "Iteraions 925: train_loss: 0.15798827308126165 train_accuracy: 0.9399333333333333 test_loss: 0.3615628836493421 test_accuracy: 0.8763\n",
      "Iteraions 926: train_loss: 0.15792462759694292 train_accuracy: 0.9396833333333333 test_loss: 0.3616113661163294 test_accuracy: 0.8766\n",
      "Iteraions 927: train_loss: 0.15817504924671516 train_accuracy: 0.9392333333333334 test_loss: 0.3620877083549906 test_accuracy: 0.8759\n",
      "Iteraions 928: train_loss: 0.15865294315653364 train_accuracy: 0.9391166666666667 test_loss: 0.3629359218142142 test_accuracy: 0.8752\n",
      "Iteraions 929: train_loss: 0.16012145426126193 train_accuracy: 0.93845 test_loss: 0.36443975877242074 test_accuracy: 0.876\n",
      "Iteraions 930: train_loss: 0.16137934067914736 train_accuracy: 0.9376166666666667 test_loss: 0.3662918494859897 test_accuracy: 0.8739\n",
      "Iteraions 931: train_loss: 0.1647616327143086 train_accuracy: 0.9366666666666666 test_loss: 0.3696400327462368 test_accuracy: 0.8753\n",
      "Iteraions 932: train_loss: 0.16539129185046442 train_accuracy: 0.9358833333333333 test_loss: 0.37089011392759486 test_accuracy: 0.8718\n",
      "Iteraions 933: train_loss: 0.16725564552859465 train_accuracy: 0.9355666666666667 test_loss: 0.372712096322163 test_accuracy: 0.8744\n",
      "Iteraions 934: train_loss: 0.16353611703313642 train_accuracy: 0.9362833333333334 test_loss: 0.3691193986292074 test_accuracy: 0.8735\n",
      "Iteraions 935: train_loss: 0.15959149591653887 train_accuracy: 0.9392333333333334 test_loss: 0.36510226870085816 test_accuracy: 0.8766\n",
      "Iteraions 936: train_loss: 0.15657207988341373 train_accuracy: 0.94045 test_loss: 0.36223139609320676 test_accuracy: 0.8755\n",
      "Iteraions 937: train_loss: 0.15681214811103278 train_accuracy: 0.9404 test_loss: 0.3631079162642346 test_accuracy: 0.8754\n",
      "Iteraions 938: train_loss: 0.1595560167796821 train_accuracy: 0.9390833333333334 test_loss: 0.3662866180813144 test_accuracy: 0.8761\n",
      "Iteraions 939: train_loss: 0.16148200120515147 train_accuracy: 0.93755 test_loss: 0.36885088200344485 test_accuracy: 0.8732\n",
      "Iteraions 940: train_loss: 0.16318760224341455 train_accuracy: 0.9376 test_loss: 0.37084741686675726 test_accuracy: 0.8744\n",
      "Iteraions 941: train_loss: 0.16056158929156147 train_accuracy: 0.93745 test_loss: 0.36821303329099037 test_accuracy: 0.8751\n",
      "Iteraions 942: train_loss: 0.1578382442181593 train_accuracy: 0.9398 test_loss: 0.3655169070603496 test_accuracy: 0.8766\n",
      "Iteraions 943: train_loss: 0.15571364491202777 train_accuracy: 0.9404166666666667 test_loss: 0.3632163058388643 test_accuracy: 0.8767\n",
      "Iteraions 944: train_loss: 0.15600515435102866 train_accuracy: 0.9409666666666666 test_loss: 0.36408590022163884 test_accuracy: 0.8753\n",
      "Iteraions 945: train_loss: 0.15758738427776575 train_accuracy: 0.9394666666666667 test_loss: 0.36570311150364043 test_accuracy: 0.8755\n",
      "Iteraions 946: train_loss: 0.15821302232943804 train_accuracy: 0.9402 test_loss: 0.3668648237810387 test_accuracy: 0.8754\n",
      "Iteraions 947: train_loss: 0.15746013704251122 train_accuracy: 0.9397666666666666 test_loss: 0.3659170922301927 test_accuracy: 0.8756\n",
      "Iteraions 948: train_loss: 0.15553090105424694 train_accuracy: 0.9407333333333333 test_loss: 0.3642413030028168 test_accuracy: 0.876\n",
      "Iteraions 949: train_loss: 0.154332126544187 train_accuracy: 0.9416666666666667 test_loss: 0.36313506616286834 test_accuracy: 0.8752\n",
      "Iteraions 950: train_loss: 0.15445170936866673 train_accuracy: 0.9413833333333333 test_loss: 0.3636096318510497 test_accuracy: 0.8757\n",
      "Iteraions 951: train_loss: 0.15532602441876528 train_accuracy: 0.9411166666666667 test_loss: 0.36506289209110515 test_accuracy: 0.8758\n",
      "Iteraions 952: train_loss: 0.1560308460186645 train_accuracy: 0.9402166666666667 test_loss: 0.3658396753813979 test_accuracy: 0.8754\n"
     ]
    },
    {
     "name": "stdout",
     "output_type": "stream",
     "text": [
      "Iteraions 953: train_loss: 0.15583452784014987 train_accuracy: 0.9413 test_loss: 0.3662473503581638 test_accuracy: 0.876\n",
      "Iteraions 954: train_loss: 0.15513569398910473 train_accuracy: 0.9404 test_loss: 0.3652767836991693 test_accuracy: 0.8754\n",
      "Iteraions 955: train_loss: 0.15436780886538956 train_accuracy: 0.94195 test_loss: 0.36516426542025876 test_accuracy: 0.8757\n",
      "Iteraions 956: train_loss: 0.15411254236482338 train_accuracy: 0.9410666666666667 test_loss: 0.3646243745013024 test_accuracy: 0.8766\n",
      "Iteraions 957: train_loss: 0.1543277395605063 train_accuracy: 0.9416666666666667 test_loss: 0.3654533461762147 test_accuracy: 0.876\n",
      "Iteraions 958: train_loss: 0.15461444280117037 train_accuracy: 0.9406666666666667 test_loss: 0.3656610364372442 test_accuracy: 0.8768\n",
      "Iteraions 959: train_loss: 0.1549597631286571 train_accuracy: 0.9410333333333334 test_loss: 0.36647984271764666 test_accuracy: 0.8765\n",
      "Iteraions 960: train_loss: 0.154917804367574 train_accuracy: 0.94055 test_loss: 0.3665509746653515 test_accuracy: 0.8767\n",
      "Iteraions 961: train_loss: 0.15503112638834587 train_accuracy: 0.9408666666666666 test_loss: 0.3669776184194727 test_accuracy: 0.8762\n",
      "Iteraions 962: train_loss: 0.15506669759949898 train_accuracy: 0.9409166666666666 test_loss: 0.36725113348446814 test_accuracy: 0.8757\n",
      "Iteraions 963: train_loss: 0.15501593067512368 train_accuracy: 0.941 test_loss: 0.36765669713491433 test_accuracy: 0.876\n",
      "Iteraions 964: train_loss: 0.15550383860835337 train_accuracy: 0.94035 test_loss: 0.368143558407292 test_accuracy: 0.8756\n",
      "Iteraions 965: train_loss: 0.15555191829897438 train_accuracy: 0.9409166666666666 test_loss: 0.3690723956782041 test_accuracy: 0.8763\n",
      "Iteraions 966: train_loss: 0.15614850918654344 train_accuracy: 0.9393666666666667 test_loss: 0.3692128156548038 test_accuracy: 0.8756\n",
      "Iteraions 967: train_loss: 0.15613959004063724 train_accuracy: 0.9409333333333333 test_loss: 0.3703059489639543 test_accuracy: 0.8758\n",
      "Iteraions 968: train_loss: 0.15602198812196288 train_accuracy: 0.9394333333333333 test_loss: 0.36943614816114967 test_accuracy: 0.8753\n",
      "Iteraions 969: train_loss: 0.15512657905182944 train_accuracy: 0.9413 test_loss: 0.3695508572166921 test_accuracy: 0.8752\n",
      "Iteraions 970: train_loss: 0.15407105628845397 train_accuracy: 0.9403666666666667 test_loss: 0.3678612830224434 test_accuracy: 0.8762\n",
      "Iteraions 971: train_loss: 0.15307266785601903 train_accuracy: 0.94215 test_loss: 0.36746520019572815 test_accuracy: 0.876\n",
      "Iteraions 972: train_loss: 0.15262666685061907 train_accuracy: 0.94205 test_loss: 0.3670413325924575 test_accuracy: 0.8759\n",
      "Iteraions 973: train_loss: 0.15256445880455619 train_accuracy: 0.9418333333333333 test_loss: 0.3671392785738769 test_accuracy: 0.8759\n",
      "Iteraions 974: train_loss: 0.15238243268134288 train_accuracy: 0.9423833333333334 test_loss: 0.36745002055695974 test_accuracy: 0.8758\n",
      "Iteraions 975: train_loss: 0.15207558051768277 train_accuracy: 0.94185 test_loss: 0.36704376538715894 test_accuracy: 0.8764\n",
      "Iteraions 976: train_loss: 0.1514905506055009 train_accuracy: 0.9427833333333333 test_loss: 0.36698671322718207 test_accuracy: 0.8757\n",
      "Iteraions 977: train_loss: 0.1510570090995854 train_accuracy: 0.94295 test_loss: 0.36652759798653434 test_accuracy: 0.8755\n",
      "Iteraions 978: train_loss: 0.1508593251980585 train_accuracy: 0.9433 test_loss: 0.366693741139341 test_accuracy: 0.8749\n",
      "Iteraions 979: train_loss: 0.1509003339362181 train_accuracy: 0.9432 test_loss: 0.36698134688994277 test_accuracy: 0.8749\n",
      "Iteraions 980: train_loss: 0.15103798445663877 train_accuracy: 0.94285 test_loss: 0.36733246688906895 test_accuracy: 0.8754\n",
      "Iteraions 981: train_loss: 0.15121644486430966 train_accuracy: 0.9423833333333334 test_loss: 0.3678838907096571 test_accuracy: 0.8757\n",
      "Iteraions 982: train_loss: 0.1514281042355813 train_accuracy: 0.9425833333333333 test_loss: 0.368320478393922 test_accuracy: 0.8755\n",
      "Iteraions 983: train_loss: 0.1516587490959496 train_accuracy: 0.9421833333333334 test_loss: 0.36873480703275946 test_accuracy: 0.8762\n",
      "Iteraions 984: train_loss: 0.15211829376535402 train_accuracy: 0.9421666666666667 test_loss: 0.36952969331740376 test_accuracy: 0.8761\n",
      "Iteraions 985: train_loss: 0.1526635956877821 train_accuracy: 0.9412833333333334 test_loss: 0.3699984555676874 test_accuracy: 0.8769\n",
      "Iteraions 986: train_loss: 0.15347133536237376 train_accuracy: 0.9413833333333333 test_loss: 0.3715323893041811 test_accuracy: 0.8763\n",
      "Iteraions 987: train_loss: 0.1543414997228527 train_accuracy: 0.9403666666666667 test_loss: 0.37215924337767553 test_accuracy: 0.8755\n",
      "Iteraions 988: train_loss: 0.15500726890157243 train_accuracy: 0.9405333333333333 test_loss: 0.37388404440326733 test_accuracy: 0.876\n",
      "Iteraions 989: train_loss: 0.1559822299507567 train_accuracy: 0.9395666666666667 test_loss: 0.37451405190343245 test_accuracy: 0.8756\n",
      "Iteraions 990: train_loss: 0.15552870555494094 train_accuracy: 0.94035 test_loss: 0.3750642296371998 test_accuracy: 0.876\n",
      "Iteraions 991: train_loss: 0.15560278295368044 train_accuracy: 0.9401166666666667 test_loss: 0.37466870950435266 test_accuracy: 0.8745\n",
      "Iteraions 992: train_loss: 0.15334298860667694 train_accuracy: 0.9418 test_loss: 0.3729814175192962 test_accuracy: 0.8758\n",
      "Iteraions 993: train_loss: 0.1516491518209816 train_accuracy: 0.9420333333333333 test_loss: 0.3708510301074358 test_accuracy: 0.8762\n",
      "Iteraions 994: train_loss: 0.14978235567978518 train_accuracy: 0.9436 test_loss: 0.3693788305853445 test_accuracy: 0.8756\n",
      "Iteraions 995: train_loss: 0.1489733346848683 train_accuracy: 0.9439666666666666 test_loss: 0.3686157172798213 test_accuracy: 0.8754\n",
      "Iteraions 996: train_loss: 0.14919439393534545 train_accuracy: 0.9435166666666667 test_loss: 0.3691884664895984 test_accuracy: 0.8757\n",
      "Iteraions 997: train_loss: 0.1501240288120857 train_accuracy: 0.9432666666666667 test_loss: 0.3705752443811682 test_accuracy: 0.8757\n",
      "Iteraions 998: train_loss: 0.15146132817793562 train_accuracy: 0.9422666666666667 test_loss: 0.37205388381756677 test_accuracy: 0.8761\n",
      "Iteraions 999: train_loss: 0.1521159328933723 train_accuracy: 0.9418666666666666 test_loss: 0.37327883156234704 test_accuracy: 0.8762\n"
     ]
    }
   ],
   "source": [
    "# Call train function and run it for specified number of iterations (max_iterations = 1000)\n",
    "train(tr_x, W1, b1, W2, b2, W3, b3, tr_y, te_x, te_y)"
   ]
  },
  {
   "cell_type": "code",
   "execution_count": null,
   "metadata": {
    "colab": {
     "base_uri": "https://localhost:8080/"
    },
    "executionInfo": {
     "elapsed": 405,
     "status": "ok",
     "timestamp": 1616879635979,
     "user": {
      "displayName": "Shankar Pendse",
      "photoUrl": "",
      "userId": "07611606062666259316"
     },
     "user_tz": 0
    },
    "id": "M2AceEpmRrjB",
    "outputId": "220a271c-ac60-4324-f91c-48c368608157"
   },
   "outputs": [
    {
     "data": {
      "text/plain": [
       "1000"
      ]
     },
     "execution_count": 28,
     "metadata": {
      "tags": []
     },
     "output_type": "execute_result"
    }
   ],
   "source": [
    "len(tr_loss)"
   ]
  },
  {
   "cell_type": "code",
   "execution_count": null,
   "metadata": {
    "colab": {
     "base_uri": "https://localhost:8080/"
    },
    "executionInfo": {
     "elapsed": 389,
     "status": "ok",
     "timestamp": 1616879662444,
     "user": {
      "displayName": "Shankar Pendse",
      "photoUrl": "",
      "userId": "07611606062666259316"
     },
     "user_tz": 0
    },
    "id": "rZQCKrvAiUxA",
    "outputId": "8babbd08-d230-4053-cd34-c472847cec62"
   },
   "outputs": [
    {
     "data": {
      "text/plain": [
       "1000"
      ]
     },
     "execution_count": 29,
     "metadata": {
      "tags": []
     },
     "output_type": "execute_result"
    }
   ],
   "source": [
    "len(te_loss)"
   ]
  },
  {
   "cell_type": "code",
   "execution_count": 18,
   "metadata": {
    "executionInfo": {
     "elapsed": 478,
     "status": "ok",
     "timestamp": 1616979417688,
     "user": {
      "displayName": "Shankar Pendse",
      "photoUrl": "",
      "userId": "07611606062666259316"
     },
     "user_tz": -60
    },
    "id": "ApTKJ1TviiTG"
   },
   "outputs": [],
   "source": [
    "import matplotlib.pyplot as plt"
   ]
  },
  {
   "cell_type": "code",
   "execution_count": 19,
   "metadata": {
    "colab": {
     "base_uri": "https://localhost:8080/",
     "height": 312
    },
    "executionInfo": {
     "elapsed": 522,
     "status": "ok",
     "timestamp": 1616979418815,
     "user": {
      "displayName": "Shankar Pendse",
      "photoUrl": "",
      "userId": "07611606062666259316"
     },
     "user_tz": -60
    },
    "id": "5BmT0tmiibOi",
    "outputId": "e0113522-da98-4f98-f23c-f8539fdd18df"
   },
   "outputs": [
    {
     "data": {
      "text/plain": [
       "<matplotlib.legend.Legend at 0x189aed16d08>"
      ]
     },
     "execution_count": 19,
     "metadata": {},
     "output_type": "execute_result"
    },
    {
     "data": {
      "image/png": "[encoded data removed]",
      "text/plain": [
       "<Figure size 432x288 with 1 Axes>"
      ]
     },
     "metadata": {
      "needs_background": "light"
     },
     "output_type": "display_data"
    }
   ],
   "source": [
    "plt.plot(np.arange(1000), tr_loss)\n",
    "plt.plot(np.arange(1000), te_loss)\n",
    "plt.title(\"loss\")\n",
    "plt.xlabel('epoch')\n",
    "plt.ylabel(\"loss\")\n",
    "plt.legend(['train', 'test'], loc='upper left')"
   ]
  },
  {
   "cell_type": "code",
   "execution_count": 20,
   "metadata": {
    "colab": {
     "base_uri": "https://localhost:8080/",
     "height": 312
    },
    "executionInfo": {
     "elapsed": 601,
     "status": "ok",
     "timestamp": 1616979423320,
     "user": {
      "displayName": "Shankar Pendse",
      "photoUrl": "",
      "userId": "07611606062666259316"
     },
     "user_tz": -60
    },
    "id": "UGu8tQN4ivS3",
    "outputId": "8f7a01ff-2d49-412b-b446-0922ff09d0ad"
   },
   "outputs": [
    {
     "data": {
      "text/plain": [
       "<matplotlib.legend.Legend at 0x189aee48e08>"
      ]
     },
     "execution_count": 20,
     "metadata": {},
     "output_type": "execute_result"
    },
    {
     "data": {
      "image/png": "[encoded data removed]",
      "text/plain": [
       "<Figure size 432x288 with 1 Axes>"
      ]
     },
     "metadata": {
      "needs_background": "light"
     },
     "output_type": "display_data"
    }
   ],
   "source": [
    "plt.plot(np.arange(1000), tr_accuracy)\n",
    "plt.plot(np.arange(1000), te_accuracy)\n",
    "plt.title(\"accuracy\")\n",
    "plt.xlabel('epoch')\n",
    "plt.ylabel(\"accuracy\")\n",
    "plt.legend(['train', 'test'], loc='upper left')"
   ]
  },
  {
   "cell_type": "code",
   "execution_count": 21,
   "metadata": {
    "colab": {
     "base_uri": "https://localhost:8080/",
     "height": 312
    },
    "executionInfo": {
     "elapsed": 889,
     "status": "ok",
     "timestamp": 1616979426082,
     "user": {
      "displayName": "Shankar Pendse",
      "photoUrl": "",
      "userId": "07611606062666259316"
     },
     "user_tz": -60
    },
    "id": "L32rBWj6i6mA",
    "outputId": "0104b37e-08cb-4c37-a5f7-4136e40eb4da"
   },
   "outputs": [
    {
     "data": {
      "text/plain": [
       "<matplotlib.legend.Legend at 0x189aef04388>"
      ]
     },
     "execution_count": 21,
     "metadata": {},
     "output_type": "execute_result"
    },
    {
     "data": {
      "image/png": "[encoded data removed]",
      "text/plain": [
       "<Figure size 432x288 with 1 Axes>"
      ]
     },
     "metadata": {
      "needs_background": "light"
     },
     "output_type": "display_data"
    }
   ],
   "source": [
    "plt.plot(np.arange(1000), tr_accuracy)\n",
    "plt.plot(np.arange(1000), te_accuracy)\n",
    "plt.plot(np.arange(1000), tr_loss)\n",
    "plt.plot(np.arange(1000), te_loss)\n",
    "plt.title(\"accuracy/loss curves\")\n",
    "plt.xlabel('iterations')\n",
    "plt.ylabel(\"accuracy/loss\")\n",
    "plt.legend(['train_accuracy', 'test_accuracy', 'train_loss', 'test_loss'], loc='upper right')"
   ]
  },
  {
   "cell_type": "code",
   "execution_count": 23,
   "metadata": {
    "id": "W8i65jS-nQYg",
    "scrolled": true
   },
   "outputs": [
    {
     "data": {
      "text/plain": [
       "<matplotlib.legend.Legend at 0x189b193edc8>"
      ]
     },
     "execution_count": 23,
     "metadata": {},
     "output_type": "execute_result"
    },
    {
     "data": {
      "image/png": "[encoded data removed]",
      "text/plain": [
       "<Figure size 432x288 with 1 Axes>"
      ]
     },
     "metadata": {
      "needs_background": "light"
     },
     "output_type": "display_data"
    }
   ],
   "source": [
    "plt.plot(np.arange(1000), np.log(tr_accuracy))\n",
    "plt.plot(np.arange(1000), np.log(te_accuracy))\n",
    "plt.plot(np.arange(1000), np.log(tr_loss))\n",
    "plt.plot(np.arange(1000), np.log(te_loss))\n",
    "plt.title(\"accuracy/loss curves\")\n",
    "plt.xlabel('iterations')\n",
    "plt.ylabel(\"accuracy/loss\")\n",
    "plt.legend(['train_accuracy', 'test_accuracy', 'train_loss', 'test_loss'])"
   ]
  },
  {
   "cell_type": "code",
   "execution_count": null,
   "metadata": {},
   "outputs": [],
   "source": []
  }
 ],
 "metadata": {
  "accelerator": "GPU",
  "colab": {
   "collapsed_sections": [],
   "name": "Question1_1_2.ipynb",
   "provenance": [
    {
     "file_id": "1Vl2lVvPZ5groNXo2KikGXkHdAd9omlUC",
     "timestamp": 1616788327203
    }
   ]
  },
  "kernelspec": {
   "display_name": "Python 3",
   "language": "python",
   "name": "python3"
  },
  "language_info": {
   "codemirror_mode": {
    "name": "ipython",
    "version": 3
   },
   "file_extension": ".py",
   "mimetype": "text/x-python",
   "name": "python",
   "nbconvert_exporter": "python",
   "pygments_lexer": "ipython3",
   "version": "3.7.8"
  }
 },
 "nbformat": 4,
 "nbformat_minor": 1
}
