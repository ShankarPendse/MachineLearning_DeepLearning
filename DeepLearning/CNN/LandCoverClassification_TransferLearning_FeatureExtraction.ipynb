{
  "nbformat": 4,
  "nbformat_minor": 0,
  "metadata": {
    "colab": {
      "name": "Assignment2_Part_B.ipynb",
      "provenance": [],
      "collapsed_sections": []
    },
    "kernelspec": {
      "name": "python3",
      "display_name": "Python 3"
    },
    "language_info": {
      "name": "python"
    },
    "accelerator": "GPU"
  },
  "cells": [
    {
      "cell_type": "code",
      "metadata": {
        "id": "f63E8-6raDCi"
      },
      "source": [
        "import h5py\n",
        "import numpy as np\n",
        "import keras\n",
        "import tensorflow as tf\n",
        "from sklearn.metrics import classification_report, confusion_matrix, accuracy_score\n",
        "import matplotlib.pyplot as plt\n",
        "import gc\n",
        "import pickle\n",
        "from sklearn import model_selection\n",
        "from sklearn import preprocessing\n",
        "\n",
        "from keras.applications.vgg16 import VGG16, preprocess_input\n",
        "from keras.applications.resnet50 import ResNet50, preprocess_input\n",
        "from keras.applications.vgg19 import VGG19, preprocess_input\n",
        "from tensorflow.keras.models import Sequential\n",
        "from tensorflow.keras.layers import BatchNormalization, Conv2D, MaxPooling2D, Activation, Dropout, Dense, Flatten, Input, concatenate, GlobalAveragePooling2D\n",
        "from tensorflow.keras.models import Model\n",
        "from tensorflow.keras.optimizers import Adam\n",
        "from tensorflow.keras.callbacks import EarlyStopping\n",
        "\n",
        "from sklearn.linear_model import LogisticRegression\n",
        "from sklearn.ensemble import RandomForestClassifier\n",
        "from sklearn.ensemble import GradientBoostingClassifier\n",
        "from sklearn.svm import SVC"
      ],
      "execution_count": null,
      "outputs": []
    },
    {
      "cell_type": "code",
      "metadata": {
        "colab": {
          "base_uri": "https://localhost:8080/"
        },
        "id": "mmPWeNsYxyLe",
        "outputId": "477e2b99-e419-4572-98f0-a6dddbc86330"
      },
      "source": [
        "from google.colab import drive\n",
        "drive.mount('/content/gdrive')"
      ],
      "execution_count": null,
      "outputs": [
        {
          "output_type": "stream",
          "text": [
            "Mounted at /content/gdrive\n"
          ],
          "name": "stdout"
        }
      ]
    },
    {
      "cell_type": "code",
      "metadata": {
        "colab": {
          "base_uri": "https://localhost:8080/"
        },
        "id": "kCQqAWr-yJka",
        "outputId": "eb76f5f6-a266-4eab-acd4-790d3978d92f"
      },
      "source": [
        "!unzip \"/content/gdrive/My Drive/DeepLearning_MSC/Assignment2/datasets/earth_data.zip\" -d \"./\""
      ],
      "execution_count": null,
      "outputs": [
        {
          "output_type": "stream",
          "text": [
            "Archive:  /content/gdrive/My Drive/DeepLearning_MSC/Assignment2/datasets/earth_data.zip\n",
            "  inflating: ./earth_data.h5         \n"
          ],
          "name": "stdout"
        }
      ]
    },
    {
      "cell_type": "code",
      "metadata": {
        "colab": {
          "base_uri": "https://localhost:8080/"
        },
        "id": "b-prZ7KQzaKM",
        "outputId": "8e004896-c789-420f-add3-494c058bc9ad"
      },
      "source": [
        "!ls"
      ],
      "execution_count": null,
      "outputs": [
        {
          "output_type": "stream",
          "text": [
            "earth_data.h5  gdrive  sample_data\n"
          ],
          "name": "stdout"
        }
      ]
    },
    {
      "cell_type": "code",
      "metadata": {
        "id": "cnCIFmKQzgOA"
      },
      "source": [
        "def loadDataH5():\n",
        "    with h5py.File('earth_data.h5','r') as hf:\n",
        "        trainX = np.array(hf.get('trainX'))\n",
        "        trainY = np.array(hf.get('trainY'))\n",
        "        valX = np.array(hf.get('valX'))\n",
        "        valY = np.array(hf.get('valY'))\n",
        "        print (trainX.shape,trainY.shape)\n",
        "        print (valX.shape,valY.shape)\n",
        "    return trainX, trainY, valX, valY"
      ],
      "execution_count": null,
      "outputs": []
    },
    {
      "cell_type": "code",
      "metadata": {
        "id": "JWPOgm4ZJxok"
      },
      "source": [
        "def extract_features(model, trainX, valX):\n",
        "    trainFeatures = model.predict(trainX)\n",
        "    valFeatures = model.predict(valX)\n",
        "\n",
        "    return train_features, val_features"
      ],
      "execution_count": null,
      "outputs": []
    },
    {
      "cell_type": "code",
      "metadata": {
        "id": "wJt_sDtlK0eD"
      },
      "source": [
        "def fit(trainX, trainY, model = 'LR'):\n",
        "\n",
        "    if model == 'LR':\n",
        "        LRC = LogisticRegression(random_state = 195877)\n",
        "        LRC.fit(trainX, trainY)\n",
        "        return LRC\n",
        "    \n",
        "    elif model == 'RFC':\n",
        "        RFC = RandomForestClassifier(random_state = 195877, n_jobs = -1)\n",
        "        RFC.fit(trainX, trainY)\n",
        "        return RFC\n",
        "\n",
        "    elif model ==\"SVC\":\n",
        "        SV = SVC(random_state = 195877)\n",
        "        SV.fit(trainX, trainY)\n",
        "        return SV"
      ],
      "execution_count": null,
      "outputs": []
    },
    {
      "cell_type": "code",
      "metadata": {
        "id": "AzS6jI8EN-jK"
      },
      "source": [
        "def predict_and_score(mlModel, trainX, trainY, valX, valY):\n",
        "    trainPredictions = mlModel.predict(trainX)\n",
        "    valPredictions = mlModel.predict(valX)\n",
        "\n",
        "    print(\"\\n\\t\\tConfustion matrix on train data: \\n\", confusion_matrix(trainY, trainPredictions))\n",
        "    print(\"\\n\\t\\tAccuracy on train data: \", accuracy_score(trainY, trainPredictions))\n",
        "\n",
        "    print(\"\\n\\t\\tConfusion matrix on val data: \\n\", confusion_matrix(valY, valPredictions))\n",
        "    print(\"\\n\\t\\tAccuracy on val data: \", accuracy_score(valY, valPredictions))"
      ],
      "execution_count": null,
      "outputs": []
    },
    {
      "cell_type": "code",
      "metadata": {
        "id": "03MsalvWWyJU"
      },
      "source": [
        "def extract_and_save_features(trainX, valX):\n",
        "\n",
        "    vgg16_train_image_features_filename = \"/content/gdrive/My Drive/DeepLearning_MSC/Assignment2/datasets/train_image_features_vgg16.pkl\"\n",
        "    vgg16_val_image_features_filename = \"/content/gdrive/My Drive/DeepLearning_MSC/Assignment2/datasets/val_image_features_vgg16.pkl\"\n",
        "\n",
        "    resnet50_train_image_features_filename = \"/content/gdrive/My Drive/DeepLearning_MSC/Assignment2/datasets/train_image_features_resnet50.pkl\"\n",
        "    resnet50_val_image_features_filename = \"/content/gdrive/My Drive/DeepLearning_MSC/Assignment2/datasets/val_image_features_resnet50.pkl\"\n",
        "\n",
        "    vgg19_train_image_features_filename = \"/content/gdrive/My Drive/DeepLearning_MSC/Assignment2/datasets/train_image_features_vgg19.pkl\"\n",
        "    vgg19_val_image_features_filename = \"/content/gdrive/My Drive/DeepLearning_MSC/Assignment2/datasets/val_image_features_vgg19.pkl\"\n",
        "\n",
        "\n",
        "    print(\"[Info...] Preprocessing the images as per vgg16 model requirement\")\n",
        "    trainX = keras.applications.vgg16.preprocess_input(trainX)\n",
        "    valX = keras.applications.vgg16.preprocess_input(valX)\n",
        "\n",
        "    print(\"\\t[Info..] Extracting features from vgg16 model\")\n",
        "    vgg16Model = VGG16(weights = 'imagenet', include_top = False, input_shape = (64, 64, 3))\n",
        "\n",
        "    print(\"\\t[Info..] Extracting features for train images\")\n",
        "    trainFeatures = vgg16Model.predict(trainX, use_multiprocessing = True)\n",
        "\n",
        "    print(\"\\t[Info..] Extracting features for test images\")\n",
        "    valFeatures = vgg16Model.predict(valX, use_multiprocessing = True)\n",
        "\n",
        "    trainFeatures = trainFeatures.reshape(trainFeatures.shape[0], -1)\n",
        "    valFeatures = valFeatures.reshape(valFeatures.shape[0], -1)\n",
        "\n",
        "    print(\"\\tDumping the train image features into pickle\")\n",
        "    with open(vgg16_train_image_features_filename, 'wb') as image_features_file:\n",
        "        pickle.dump(trainFeatures, image_features_file)\n",
        "\n",
        "    print(\"\\tDumping the test image features into pickle\")\n",
        "    with open(vgg16_val_image_features_filename, 'wb') as image_features_file:\n",
        "        pickle.dump(valFeatures, image_features_file)\n",
        "\n",
        "    del vgg16Model\n",
        "    del trainFeatures\n",
        "    del valFeatures\n",
        "\n",
        "    print(\"Memory released: \", gc.collect())\n",
        "\n",
        "    print(\"[Info...] Preprocessing the images as per resnet50 model requirement\")\n",
        "    trainX = keras.applications.resnet50.preprocess_input(trainX)\n",
        "    valX = keras.applications.resnet50.preprocess_input(valX)\n",
        "\n",
        "    print(\"\\t[Info..] Extracting features from resnet50 model\")\n",
        "    resnet50Model = ResNet50(weights = 'imagenet', include_top = False, input_shape = (64, 64, 3))\n",
        "\n",
        "    print(\"\\t[Info..] Extracting features for train images\")\n",
        "    trainFeatures = resnet50Model.predict(trainX, use_multiprocessing = True)\n",
        "\n",
        "    print(\"\\t[Info..] Extracting features for test images\")\n",
        "    valFeatures = resnet50Model.predict(valX, use_multiprocessing = True)\n",
        "\n",
        "    trainFeatures = trainFeatures.reshape(trainFeatures.shape[0], -1)\n",
        "    valFeatures = valFeatures.reshape(valFeatures.shape[0], -1)\n",
        "\n",
        "    print(\"\\tDumping the train image features into pickle\")\n",
        "    with open(resnet50_train_image_features_filename, 'wb') as image_features_file:\n",
        "        pickle.dump(trainFeatures, image_features_file)\n",
        "\n",
        "    print(\"\\tDumping the test image features into pickle\")\n",
        "    with open(resnet50_val_image_features_filename, 'wb') as image_features_file:\n",
        "        pickle.dump(valFeatures, image_features_file)\n",
        "    \n",
        "    # del vgg16Model\n",
        "    del trainFeatures\n",
        "    del valFeatures\n",
        "\n",
        "    print(\"[Info...] Preprocessing the images as per vgg19 model requirement\")\n",
        "    trainX = keras.applications.vgg19.preprocess_input(trainX)\n",
        "    valX = keras.applications.vgg19.preprocess_input(valX)\n",
        "\n",
        "    print(\"\\t[Info..] Extracting features from vgg19 model\")\n",
        "    vgg19Model = VGG19(weights = 'imagenet', include_top = False, input_shape = (64, 64, 3))\n",
        "\n",
        "    print(\"\\t[Info..] Extracting features for train images\")\n",
        "    trainFeatures = vgg19Model.predict(trainX, use_multiprocessing = True)\n",
        "\n",
        "    print(\"\\t[Info..] Extracting features for test images\")\n",
        "    valFeatures = vgg19Model.predict(valX, use_multiprocessing = True)\n",
        "\n",
        "    trainFeatures = trainFeatures.reshape(trainFeatures.shape[0], -1)\n",
        "    valFeatures = valFeatures.reshape(valFeatures.shape[0], -1)\n",
        "\n",
        "    print(\"\\tDumping the train image features into pickle\")\n",
        "    with open(vgg19_train_image_features_filename, 'wb') as image_features_file:\n",
        "        pickle.dump(trainFeatures, image_features_file)\n",
        "\n",
        "    print(\"\\tDumping the test image features into pickle\")\n",
        "    with open(vgg19_val_image_features_filename, 'wb') as image_features_file:\n",
        "        pickle.dump(valFeatures, image_features_file)\n",
        "\n",
        "    print(\"Memory released: \", gc.collect())"
      ],
      "execution_count": null,
      "outputs": []
    },
    {
      "cell_type": "code",
      "metadata": {
        "id": "f_tf1LdohLFx"
      },
      "source": [
        "def read_pickle(model):\n",
        "    \n",
        "    if model == \"vgg16\":\n",
        "        with open (\"/content/gdrive/My Drive/DeepLearning_MSC/Assignment2/datasets/train_image_features_vgg16.pkl\", 'rb') as trainFeaturesFile:\n",
        "            trainX = pickle.load(trainFeaturesFile)\n",
        "        with open (\"/content/gdrive/My Drive/DeepLearning_MSC/Assignment2/datasets/val_image_features_vgg16.pkl\", 'rb') as valFeaturesFile:\n",
        "            valX = pickle.load(valFeaturesFile)\n",
        "\n",
        "    if model == \"resnet50\":\n",
        "        with open (\"/content/gdrive/My Drive/DeepLearning_MSC/Assignment2/datasets/train_image_features_resnet50.pkl\", 'rb') as trainFeaturesFile:\n",
        "            trainX = pickle.load(trainFeaturesFile)\n",
        "        with open (\"/content/gdrive/My Drive/DeepLearning_MSC/Assignment2/datasets/val_image_features_resnet50.pkl\", 'rb') as valFeaturesFile:\n",
        "            valX = pickle.load(valFeaturesFile)\n",
        "\n",
        "    if model == \"vgg19\":\n",
        "        with open (\"/content/gdrive/My Drive/DeepLearning_MSC/Assignment2/datasets/train_image_features_vgg19.pkl\", 'rb') as trainFeaturesFile:\n",
        "            trainX = pickle.load(trainFeaturesFile)\n",
        "        with open (\"/content/gdrive/My Drive/DeepLearning_MSC/Assignment2/datasets/val_image_features_vgg19.pkl\", 'rb') as valFeaturesFile:\n",
        "            valX = pickle.load(valFeaturesFile)\n",
        "    \n",
        "    return trainX, valX"
      ],
      "execution_count": null,
      "outputs": []
    },
    {
      "cell_type": "code",
      "metadata": {
        "colab": {
          "base_uri": "https://localhost:8080/"
        },
        "id": "z95QE5MOgzsK",
        "outputId": "8816027e-7bcb-4357-b9e3-fb9385c74807"
      },
      "source": [
        "trainX, trainY, valX, valY = loadDataH5()\n",
        "print(np.unique(trainY, return_counts=True))    # Get the counts for each class"
      ],
      "execution_count": null,
      "outputs": [
        {
          "output_type": "stream",
          "text": [
            "(19200, 64, 64, 3) (19200,)\n",
            "(4800, 64, 64, 3) (4800,)\n",
            "(array([0, 1, 2, 3, 4, 5, 6, 7, 8]), array([2400, 2400, 2400, 2000, 2000, 1600, 2000, 2400, 2000]))\n"
          ],
          "name": "stdout"
        }
      ]
    },
    {
      "cell_type": "code",
      "metadata": {
        "colab": {
          "base_uri": "https://localhost:8080/"
        },
        "id": "y0A0nfagg2yY",
        "outputId": "5b38ce79-fb2c-4130-b226-5acceaf540e3"
      },
      "source": [
        "extract_and_save_features(trainX, valX)"
      ],
      "execution_count": null,
      "outputs": [
        {
          "output_type": "stream",
          "text": [
            "[Info...] Preprocessing the images as per vgg19 model requirement\n",
            "\t[Info..] Extracting features from vgg19 model\n",
            "\t[Info..] Extracting features for train images\n",
            "\t[Info..] Extracting features for test images\n",
            "\tDumping the train image features into pickle\n",
            "\tDumping the test image features into pickle\n",
            "Memory released:  1503\n"
          ],
          "name": "stdout"
        }
      ]
    },
    {
      "cell_type": "code",
      "metadata": {
        "id": "43ikHg9SDx7F"
      },
      "source": [
        "def main(featuresModel, fineTune = False):\n",
        "    # Read the data\n",
        "    _, trainY, _, valY = loadDataH5()\n",
        "    trainX, valX = read_pickle(featuresModel)\n",
        "\n",
        "    scaler = preprocessing.StandardScaler()\n",
        "\n",
        "    trainX = scaler.fit_transform(trainX)\n",
        "    valX = scaler.transform(valX)\n",
        "\n",
        "    if fineTune:\n",
        "        return trainX, trainY, valX, valY\n",
        "    else:\n",
        "        print(\"\\nUsing {} model extracted features\".format(featuresModel))\n",
        "        print(\"\\n\\tTraining a Logistic Regression classifier\")\n",
        "        mlModel = fit(trainX, trainY, model = 'LR')\n",
        "        predict_and_score(mlModel, trainX, trainY, valX, valY)\n",
        "\n",
        "        print(\"\\n\\tTraining a Random Forest classifier\")\n",
        "        mlModel = fit(trainX, trainY, model = \"RFC\")\n",
        "        predict_and_score(mlModel, trainX, trainY, valX, valY)\n",
        "\n",
        "        print(\"\\n\\tTraining a support vector classifier\")\n",
        "        mlModel = fit(trainX, trainY, model = \"SVC\")\n",
        "        predict_and_score(mlModel, trainX, trainY, valX, valY)"
      ],
      "execution_count": null,
      "outputs": []
    },
    {
      "cell_type": "code",
      "metadata": {
        "colab": {
          "base_uri": "https://localhost:8080/"
        },
        "id": "Z4PUAZgjleV-",
        "outputId": "635e4efd-0c50-4339-d8bd-040785f83a31"
      },
      "source": [
        "main(\"vgg16\")"
      ],
      "execution_count": null,
      "outputs": [
        {
          "output_type": "stream",
          "text": [
            "(19200, 64, 64, 3) (19200,)\n",
            "(4800, 64, 64, 3) (4800,)\n",
            "\n",
            "Using vgg16 model extracted features\n",
            "\n",
            "\tTraining a Logistic Regression classifier\n"
          ],
          "name": "stdout"
        },
        {
          "output_type": "stream",
          "text": [
            "/usr/local/lib/python3.7/dist-packages/sklearn/linear_model/_logistic.py:940: ConvergenceWarning: lbfgs failed to converge (status=1):\n",
            "STOP: TOTAL NO. of ITERATIONS REACHED LIMIT.\n",
            "\n",
            "Increase the number of iterations (max_iter) or scale the data as shown in:\n",
            "    https://scikit-learn.org/stable/modules/preprocessing.html\n",
            "Please also refer to the documentation for alternative solver options:\n",
            "    https://scikit-learn.org/stable/modules/linear_model.html#logistic-regression\n",
            "  extra_warning_msg=_LOGISTIC_SOLVER_CONVERGENCE_MSG)\n"
          ],
          "name": "stderr"
        },
        {
          "output_type": "stream",
          "text": [
            "\n",
            "\t\tConfustion matrix on train data: \n",
            " [[2400    0    0    0    0    0    0    0    0]\n",
            " [   0 2400    0    0    0    0    0    0    0]\n",
            " [   0    0 2400    0    0    0    0    0    0]\n",
            " [   0    0    0 2000    0    0    0    0    0]\n",
            " [   0    0    0    0 2000    0    0    0    0]\n",
            " [   0    0    0    0    0 1600    0    0    0]\n",
            " [   0    0    0    0    0    0 2000    0    0]\n",
            " [   0    0    0    0    0    0    0 2400    0]\n",
            " [   0    0    0    0    0    0    0    0 2000]]\n",
            "\n",
            "\t\tAccuracy on train data:  1.0\n",
            "\n",
            "\t\tConfusion matrix on val data: \n",
            " [[544   4   5  11   0   8  23   0   5]\n",
            " [  0 580  13   0   0   7   0   0   0]\n",
            " [  1   9 540   3   0  13  26   4   4]\n",
            " [ 11   3   5 412   7  10  17   2  33]\n",
            " [  2   0   0  10 462   0  11  10   5]\n",
            " [  4   8  11   5   0 352   9   0  11]\n",
            " [ 16   1  27  15   8   6 422   4   1]\n",
            " [  0   0   9   3  13   0   4 571   0]\n",
            " [ 13   6   8  46   3   7   4   0 413]]\n",
            "\n",
            "\t\tAccuracy on val data:  0.895\n",
            "\n",
            "\tTraining a Random Forest classifier\n",
            "\n",
            "\t\tConfustion matrix on train data: \n",
            " [[2400    0    0    0    0    0    0    0    0]\n",
            " [   0 2400    0    0    0    0    0    0    0]\n",
            " [   0    0 2400    0    0    0    0    0    0]\n",
            " [   0    0    0 2000    0    0    0    0    0]\n",
            " [   0    0    0    0 2000    0    0    0    0]\n",
            " [   0    0    0    0    0 1600    0    0    0]\n",
            " [   0    0    0    0    0    0 2000    0    0]\n",
            " [   0    0    0    0    0    0    0 2400    0]\n",
            " [   0    0    0    0    0    0    0    0 2000]]\n",
            "\n",
            "\t\tAccuracy on train data:  1.0\n",
            "\n",
            "\t\tConfusion matrix on val data: \n",
            " [[552   3   4   7   0  10   7   1  16]\n",
            " [  0 584  12   0   0   4   0   0   0]\n",
            " [  0  15 556   2   0   5   8  14   0]\n",
            " [ 22   3   8 373  17  12  12   3  50]\n",
            " [  3   0   0   4 470   0   6  15   2]\n",
            " [  5  14  12   5   0 350   5   0   9]\n",
            " [ 20   0  32  10  16   9 401   8   4]\n",
            " [  0   3   6   3  16   0   2 569   1]\n",
            " [ 15   4  12  30   6  23   2   2 406]]\n",
            "\n",
            "\t\tAccuracy on val data:  0.8877083333333333\n",
            "\n",
            "\tTraining a Gradient Boost classifier\n",
            "\n",
            "\t\tConfustion matrix on train data: \n",
            " [[2324    1    2    6    1   15   32    0   19]\n",
            " [   1 2386    7    1    0    4    0    0    1]\n",
            " [   0   12 2335    7    0   17   19    7    3]\n",
            " [  25    6   17 1806   14   20   29   14   69]\n",
            " [   0    0    0    4 1978    0    3   15    0]\n",
            " [   9   13   29    6    0 1531    7    1    4]\n",
            " [  38    2   53   23   10   13 1847   10    4]\n",
            " [   0    0   19    3   14    4    3 2356    1]\n",
            " [  10    6   15   55    6   19    3    1 1885]]\n",
            "\n",
            "\t\tAccuracy on train data:  0.9608333333333333\n",
            "\n",
            "\t\tConfusion matrix on val data: \n",
            " [[538   3   3   6   0  12  24   1  13]\n",
            " [  0 574  13   0   0  12   0   0   1]\n",
            " [  0  11 552   3   0   7  13  14   0]\n",
            " [ 10   3  10 401  11  11  18   2  34]\n",
            " [  2   0   0   4 469   0  11  12   2]\n",
            " [  3   8   7   4   0 362   6   0  10]\n",
            " [ 14   1  25   9  12   8 425   3   3]\n",
            " [  0   2  10   5  17   1   2 560   3]\n",
            " [ 10   4   8  39   3  14   4   4 414]]\n",
            "\n",
            "\t\tAccuracy on val data:  0.8947916666666667\n",
            "\n",
            "\tTraining a support vector classifier\n",
            "\n",
            "\t\tConfustion matrix on train data: \n",
            " [[2356    2    3    3    0   14   15    0    7]\n",
            " [   1 2370   15    0    0   13    0    0    1]\n",
            " [   0   31 2326    1    0   15   20    7    0]\n",
            " [  13    5   16 1905    5   17   14    5   20]\n",
            " [   0    0    0    2 1984    0    2   12    0]\n",
            " [   6   28   27    2    0 1531    4    0    2]\n",
            " [  16    0   53    6    1   14 1904    6    0]\n",
            " [   0    1    9    1    4    2    1 2382    0]\n",
            " [   4    5    7   28    2   16    1    0 1937]]\n",
            "\n",
            "\t\tAccuracy on train data:  0.9736979166666667\n",
            "\n",
            "\t\tConfusion matrix on val data: \n",
            " [[544   3   2   1  20   6  12   0  12]\n",
            " [  0 583  13   0   0   4   0   0   0]\n",
            " [  1  10 528   5  18   7  13   6  12]\n",
            " [ 13   1   5 393  27  11   7   4  39]\n",
            " [  1   0   0   1 481   0   5   8   4]\n",
            " [  1  11   9   7   0 359   2   0  11]\n",
            " [ 21   0  20  11  20   3 416   4   5]\n",
            " [  5   1   2   5  20   0   3 558   6]\n",
            " [ 11   0   4  30  14  10   0   1 430]]\n",
            "\n",
            "\t\tAccuracy on val data:  0.8941666666666667\n"
          ],
          "name": "stdout"
        }
      ]
    },
    {
      "cell_type": "markdown",
      "metadata": {
        "id": "-O4qW5zdTgkY"
      },
      "source": [
        "### Due to time constriaint and colab limitation, could not run Gradient boost and support vector classifier on resnet50 and vgg19 features"
      ]
    },
    {
      "cell_type": "code",
      "metadata": {
        "colab": {
          "base_uri": "https://localhost:8080/"
        },
        "id": "8Eijm2JMnuLx",
        "outputId": "5805f2e9-7cdc-462e-cad7-d4b81053e31f"
      },
      "source": [
        "main(\"resnet50\")"
      ],
      "execution_count": null,
      "outputs": [
        {
          "output_type": "stream",
          "text": [
            "(19200, 64, 64, 3) (19200,)\n",
            "(4800, 64, 64, 3) (4800,)\n",
            "\n",
            "Using resnet50 model extracted features\n",
            "\n",
            "\tTraining a Logistic Regression classifier\n"
          ],
          "name": "stdout"
        },
        {
          "output_type": "stream",
          "text": [
            "/usr/local/lib/python3.7/dist-packages/sklearn/linear_model/_logistic.py:940: ConvergenceWarning: lbfgs failed to converge (status=1):\n",
            "STOP: TOTAL NO. of ITERATIONS REACHED LIMIT.\n",
            "\n",
            "Increase the number of iterations (max_iter) or scale the data as shown in:\n",
            "    https://scikit-learn.org/stable/modules/preprocessing.html\n",
            "Please also refer to the documentation for alternative solver options:\n",
            "    https://scikit-learn.org/stable/modules/linear_model.html#logistic-regression\n",
            "  extra_warning_msg=_LOGISTIC_SOLVER_CONVERGENCE_MSG)\n"
          ],
          "name": "stderr"
        },
        {
          "output_type": "stream",
          "text": [
            "\n",
            "\t\tConfustion matrix on train data: \n",
            " [[2400    0    0    0    0    0    0    0    0]\n",
            " [   0 2400    0    0    0    0    0    0    0]\n",
            " [   0    0 2400    0    0    0    0    0    0]\n",
            " [   0    0    0 2000    0    0    0    0    0]\n",
            " [   0    0    0    0 2000    0    0    0    0]\n",
            " [   0    0    0    0    0 1600    0    0    0]\n",
            " [   0    0    0    0    0    0 2000    0    0]\n",
            " [   0    0    0    0    0    0    0 2400    0]\n",
            " [   0    0    0    0    0    0    0    0 2000]]\n",
            "\n",
            "\t\tAccuracy on train data:  1.0\n",
            "\n",
            "\t\tConfusion matrix on val data: \n",
            " [[566   1   1   7   0   5  12   0   8]\n",
            " [  0 580  12   0   0   7   0   1   0]\n",
            " [  1   5 564   3   2   7   9   5   4]\n",
            " [  6   0   6 431   2   6  11   4  34]\n",
            " [  0   0   0   7 481   1   2   6   3]\n",
            " [  4   3   6   5   0 373   3   0   6]\n",
            " [ 12   0  21  17   6   2 436   2   4]\n",
            " [  0   0   2   1   8   0   4 585   0]\n",
            " [ 10   3   9  34   1   9   3   3 428]]\n",
            "\n",
            "\t\tAccuracy on val data:  0.9258333333333333\n",
            "\n",
            "\tTraining a Random Forest classifier\n",
            "\n",
            "\t\tConfustion matrix on train data: \n",
            " [[2400    0    0    0    0    0    0    0    0]\n",
            " [   0 2400    0    0    0    0    0    0    0]\n",
            " [   0    0 2400    0    0    0    0    0    0]\n",
            " [   0    0    0 2000    0    0    0    0    0]\n",
            " [   0    0    0    0 2000    0    0    0    0]\n",
            " [   0    0    0    0    0 1600    0    0    0]\n",
            " [   0    0    0    0    0    0 2000    0    0]\n",
            " [   0    0    0    0    0    0    0 2400    0]\n",
            " [   0    0    0    0    0    0    0    0 2000]]\n",
            "\n",
            "\t\tAccuracy on train data:  1.0\n",
            "\n",
            "\t\tConfusion matrix on val data: \n",
            " [[565   3   3   4   0   5   5   0  15]\n",
            " [  0 574  11   0   0  13   0   1   1]\n",
            " [  1  15 543   4   0   7  12  15   3]\n",
            " [ 17   3   5 389   6   5  18  12  45]\n",
            " [  3   0   0   4 467   0   9  14   3]\n",
            " [  4   7  22   4   0 353   2   0   8]\n",
            " [ 29   0  32  18  18   4 385   8   6]\n",
            " [  0   1   4   1  13   1   3 576   1]\n",
            " [ 20   1  18  52   8  19   5   7 370]]\n",
            "\n",
            "\t\tAccuracy on val data:  0.8795833333333334\n",
            "\n",
            "\tTraining a support vector classifier\n"
          ],
          "name": "stdout"
        }
      ]
    },
    {
      "cell_type": "code",
      "metadata": {
        "colab": {
          "base_uri": "https://localhost:8080/"
        },
        "id": "GNkxhQnuAW4l",
        "outputId": "07cbe6de-cbf9-42ef-b923-d565ae0df7a8"
      },
      "source": [
        "main(\"vgg19\")"
      ],
      "execution_count": null,
      "outputs": [
        {
          "output_type": "stream",
          "text": [
            "(19200, 64, 64, 3) (19200,)\n",
            "(4800, 64, 64, 3) (4800,)\n",
            "\n",
            "Using vgg19 model extracted features\n",
            "\n",
            "\tTraining a Logistic Regression classifier\n"
          ],
          "name": "stdout"
        },
        {
          "output_type": "stream",
          "text": [
            "/usr/local/lib/python3.7/dist-packages/sklearn/linear_model/_logistic.py:940: ConvergenceWarning: lbfgs failed to converge (status=1):\n",
            "STOP: TOTAL NO. of ITERATIONS REACHED LIMIT.\n",
            "\n",
            "Increase the number of iterations (max_iter) or scale the data as shown in:\n",
            "    https://scikit-learn.org/stable/modules/preprocessing.html\n",
            "Please also refer to the documentation for alternative solver options:\n",
            "    https://scikit-learn.org/stable/modules/linear_model.html#logistic-regression\n",
            "  extra_warning_msg=_LOGISTIC_SOLVER_CONVERGENCE_MSG)\n"
          ],
          "name": "stderr"
        },
        {
          "output_type": "stream",
          "text": [
            "\n",
            "\t\tConfustion matrix on train data: \n",
            " [[2400    0    0    0    0    0    0    0    0]\n",
            " [   0 2400    0    0    0    0    0    0    0]\n",
            " [   0    0 2400    0    0    0    0    0    0]\n",
            " [   0    0    0 2000    0    0    0    0    0]\n",
            " [   0    0    0    0 2000    0    0    0    0]\n",
            " [   0    0    0    0    0 1600    0    0    0]\n",
            " [   0    0    0    0    0    0 2000    0    0]\n",
            " [   0    0    0    0    0    0    0 2400    0]\n",
            " [   0    0    0    0    0    0    0    0 2000]]\n",
            "\n",
            "\t\tAccuracy on train data:  1.0\n",
            "\n",
            "\t\tConfusion matrix on val data: \n",
            " [[543   2   2  11   0  13  17   1  11]\n",
            " [  0 577  15   0   0   7   0   0   1]\n",
            " [  1  10 541   6   0   8  25   5   4]\n",
            " [ 12   0   4 385  14   9  22   4  50]\n",
            " [  2   0   1  14 462   0   8  11   2]\n",
            " [ 11  15  11   6   0 345   5   0   7]\n",
            " [ 10   0  27  14   9   8 428   2   2]\n",
            " [  0   2   6   2   6   0   9 573   2]\n",
            " [ 10   3  11  40   2  14   2   4 414]]\n",
            "\n",
            "\t\tAccuracy on val data:  0.8891666666666667\n",
            "\n",
            "\tTraining a Random Forest classifier\n",
            "\n",
            "\t\tConfustion matrix on train data: \n",
            " [[2400    0    0    0    0    0    0    0    0]\n",
            " [   0 2400    0    0    0    0    0    0    0]\n",
            " [   0    0 2400    0    0    0    0    0    0]\n",
            " [   0    0    0 2000    0    0    0    0    0]\n",
            " [   0    0    0    0 2000    0    0    0    0]\n",
            " [   0    0    0    0    0 1600    0    0    0]\n",
            " [   0    0    0    0    0    0 2000    0    0]\n",
            " [   0    0    0    0    0    0    0 2400    0]\n",
            " [   0    0    0    0    0    0    0    0 2000]]\n",
            "\n",
            "\t\tAccuracy on train data:  1.0\n",
            "\n",
            "\t\tConfusion matrix on val data: \n",
            " [[555   2   3   5   0  16   8   1  10]\n",
            " [  0 587   8   0   0   4   0   0   1]\n",
            " [  1  13 553   2   0   8  13   7   3]\n",
            " [ 25   1   7 360  19  12  14   8  54]\n",
            " [  4   0   0   9 463   0   5  13   6]\n",
            " [  7  15  10   7   0 344   5   1  11]\n",
            " [ 26   0  37  23  23   8 372  11   0]\n",
            " [  0   1   9   0  13   0   0 577   0]\n",
            " [ 18   3  10  38   7  24   7   6 387]]\n",
            "\n",
            "\t\tAccuracy on val data:  0.8745833333333334\n"
          ],
          "name": "stdout"
        }
      ]
    },
    {
      "cell_type": "markdown",
      "metadata": {
        "id": "p_ss8bmxIfgV"
      },
      "source": [
        "# TRANSFER LEARNING AND FINE TUNING"
      ]
    },
    {
      "cell_type": "code",
      "metadata": {
        "id": "JSfdnKXsObqb"
      },
      "source": [
        "def plot(history):\n",
        "    plt.plot(history.history['loss'])\n",
        "    plt.plot(history.history['val_loss'])\n",
        "    plt.plot(history.history['accuracy'])\n",
        "    plt.plot(history.history['val_accuracy'])\n",
        "\n",
        "    plt.title('Model loss/accuracy')\n",
        "    plt.ylabel('accuracy/loss')\n",
        "    plt.xlabel('epochs')\n",
        "    plt.legend(['train loss', 'val loss', 'train accuracy', 'val accuracy'], loc='upper right')\n",
        "    plt.show()"
      ],
      "execution_count": null,
      "outputs": []
    },
    {
      "cell_type": "code",
      "metadata": {
        "id": "MbZbdJygJVsG"
      },
      "source": [
        "def build_custom_layers(no_of_features, no_of_classes):\n",
        "    model = Sequential()\n",
        "    # For VGG16 features\n",
        "    # model.add(Dense(no_of_features, input_dim = no_of_features, activation = \"relu\"))\n",
        "    # model.add(Dense(no_of_features, activation = \"relu\"))\n",
        "    # model.add(Dense(no_of_classes, activation = \"softmax\"))\n",
        "\n",
        "    # model.add(Dense(no_of_features, input_dim = no_of_features, activation = \"relu\"))\n",
        "    # model.add(BatchNormalization())\n",
        "    # model.add(Dropout(0.2))\n",
        "    # model.add(Dense(no_of_features, activation = \"relu\"))\n",
        "    # model.add(BatchNormalization())\n",
        "    # model.add(Dense(no_of_classes, activation = \"softmax\"))\n",
        "\n",
        "    # model.add(Dense(no_of_features, input_dim = no_of_features, activation = \"relu\"))\n",
        "    # model.add(Dense(no_of_features, activation = \"relu\"))\n",
        "    # model.add(Dense(512, activation = \"relu\"))\n",
        "    # model.add(Dense(no_of_classes, activation = \"softmax\"))\n",
        "\n",
        "    # For Resnet50 features\n",
        "    # model.add(Dense(no_of_classes, input_dim = no_of_features, activation = \"softmax\"))\n",
        "\n",
        "    # model.add(Dense(no_of_features, input_dim = no_of_features, activation = \"relu\"))\n",
        "    # model.add(Dense(no_of_features, activation = \"relu\"))\n",
        "    # model.add(Dense(no_of_classes, activation = \"softmax\"))\n",
        "\n",
        "    # model.add(Dense(no_of_features, input_dim = no_of_features, activation = \"relu\"))\n",
        "    # model.add(Dense(no_of_features, activation = \"relu\"))\n",
        "    # model.add(Dense(512, activation = \"relu\"))\n",
        "    # model.add(Dense(no_of_classes, activation = \"softmax\"))\n",
        "\n",
        "    # For VGG19 features\n",
        "    # model.add(Dense(no_of_features, input_dim = no_of_features, activation = \"relu\"))\n",
        "    # model.add(Dense(no_of_features, activation = \"relu\"))\n",
        "    # model.add(Dense(no_of_classes, activation = \"softmax\"))\n",
        "\n",
        "    model.add(Dense(no_of_features, input_dim = no_of_features, activation = \"relu\"))\n",
        "    model.add(Dense(no_of_features, activation = \"relu\"))\n",
        "    model.add(Dense(512, activation = \"relu\"))\n",
        "    model.add(Dense(no_of_classes, activation = \"softmax\"))\n",
        "\n",
        "    return model"
      ],
      "execution_count": null,
      "outputs": []
    },
    {
      "cell_type": "code",
      "metadata": {
        "id": "Rl5KI-iAN4pk"
      },
      "source": [
        "def build_and_train(trainX, trainY, valX, valY):\n",
        "    \n",
        "    no_of_features = trainX.shape[1]\n",
        "    no_of_classes = len(np.unique(trainY))\n",
        "    print(\"Total features: \", no_of_features)\n",
        "    print(\"Number of classes: \", no_of_classes)\n",
        "\n",
        "    model = build_custom_layers(no_of_features, no_of_classes)\n",
        "    model.summary()\n",
        "\n",
        "    opt = Adam(learning_rate = 0.000001)\n",
        "    model.compile(loss=\"sparse_categorical_crossentropy\", optimizer=opt, metrics='accuracy')\n",
        "\n",
        "    es = EarlyStopping(monitor='val_loss', patience=10, restore_best_weights=True)\n",
        "\n",
        "    history = model.fit(x= trainX, y=trainY, validation_data=(valX, valY), epochs=1000, callbacks=es, use_multiprocessing = True)\n",
        "\n",
        "    return history"
      ],
      "execution_count": null,
      "outputs": []
    },
    {
      "cell_type": "code",
      "metadata": {
        "colab": {
          "base_uri": "https://localhost:8080/"
        },
        "id": "sVPQzxnnAlnS",
        "outputId": "dfbf3326-4c15-4d83-dcbc-f16caa93fa68"
      },
      "source": [
        "# Using features extracted from VGG16 and mimik the exact architecture of VGG16\n",
        "# trainX, trainY, valX, valY = main(\"vgg16\", fineTune = True)\n",
        "# trainX, trainY, valX, valY = main(\"resnet50\", fineTune = True)\n",
        "trainX, trainY, valX, valY = main(\"vgg19\", fineTune = True)"
      ],
      "execution_count": null,
      "outputs": [
        {
          "output_type": "stream",
          "text": [
            "(19200, 64, 64, 3) (19200,)\n",
            "(4800, 64, 64, 3) (4800,)\n"
          ],
          "name": "stdout"
        }
      ]
    },
    {
      "cell_type": "markdown",
      "metadata": {
        "id": "egIgXX2WRRTx"
      },
      "source": [
        "## Below results are using vgg16 model features"
      ]
    },
    {
      "cell_type": "code",
      "metadata": {
        "colab": {
          "base_uri": "https://localhost:8080/"
        },
        "id": "aI-SfoLjPMxM",
        "outputId": "5c9b84bd-2918-46e8-c06a-98f7a4dffa01"
      },
      "source": [
        "history = build_and_train(trainX, trainY, valX, valY)"
      ],
      "execution_count": null,
      "outputs": [
        {
          "output_type": "stream",
          "text": [
            "Total features:  2048\n",
            "Number of classes:  9\n",
            "Model: \"sequential_5\"\n",
            "_________________________________________________________________\n",
            "Layer (type)                 Output Shape              Param #   \n",
            "=================================================================\n",
            "dense_15 (Dense)             (None, 2048)              4196352   \n",
            "_________________________________________________________________\n",
            "dense_16 (Dense)             (None, 2048)              4196352   \n",
            "_________________________________________________________________\n",
            "dense_17 (Dense)             (None, 9)                 18441     \n",
            "=================================================================\n",
            "Total params: 8,411,145\n",
            "Trainable params: 8,411,145\n",
            "Non-trainable params: 0\n",
            "_________________________________________________________________\n",
            "Epoch 1/1000\n",
            "600/600 [==============================] - 3s 4ms/step - loss: 1.2209 - accuracy: 0.6463 - val_loss: 0.4229 - val_accuracy: 0.8771\n",
            "Epoch 2/1000\n",
            "600/600 [==============================] - 2s 4ms/step - loss: 0.3437 - accuracy: 0.8982 - val_loss: 0.3213 - val_accuracy: 0.8969\n",
            "Epoch 3/1000\n",
            "600/600 [==============================] - 2s 4ms/step - loss: 0.2282 - accuracy: 0.9333 - val_loss: 0.2876 - val_accuracy: 0.9069\n",
            "Epoch 4/1000\n",
            "600/600 [==============================] - 2s 3ms/step - loss: 0.1659 - accuracy: 0.9538 - val_loss: 0.2669 - val_accuracy: 0.9096\n",
            "Epoch 5/1000\n",
            "600/600 [==============================] - 2s 4ms/step - loss: 0.1314 - accuracy: 0.9671 - val_loss: 0.2597 - val_accuracy: 0.9154\n",
            "Epoch 6/1000\n",
            "600/600 [==============================] - 2s 4ms/step - loss: 0.1036 - accuracy: 0.9759 - val_loss: 0.2562 - val_accuracy: 0.9123\n",
            "Epoch 7/1000\n",
            "600/600 [==============================] - 2s 4ms/step - loss: 0.0802 - accuracy: 0.9831 - val_loss: 0.2514 - val_accuracy: 0.9160\n",
            "Epoch 8/1000\n",
            "600/600 [==============================] - 2s 3ms/step - loss: 0.0626 - accuracy: 0.9876 - val_loss: 0.2524 - val_accuracy: 0.9165\n",
            "Epoch 9/1000\n",
            "600/600 [==============================] - 2s 3ms/step - loss: 0.0528 - accuracy: 0.9903 - val_loss: 0.2544 - val_accuracy: 0.9179\n",
            "Epoch 10/1000\n",
            "600/600 [==============================] - 2s 3ms/step - loss: 0.0388 - accuracy: 0.9935 - val_loss: 0.2622 - val_accuracy: 0.9173\n",
            "Epoch 11/1000\n",
            "600/600 [==============================] - 2s 3ms/step - loss: 0.0317 - accuracy: 0.9961 - val_loss: 0.2669 - val_accuracy: 0.9165\n",
            "Epoch 12/1000\n",
            "600/600 [==============================] - 2s 3ms/step - loss: 0.0246 - accuracy: 0.9970 - val_loss: 0.2732 - val_accuracy: 0.9175\n",
            "Epoch 13/1000\n",
            "600/600 [==============================] - 2s 3ms/step - loss: 0.0197 - accuracy: 0.9979 - val_loss: 0.2803 - val_accuracy: 0.9183\n",
            "Epoch 14/1000\n",
            "600/600 [==============================] - 2s 3ms/step - loss: 0.0157 - accuracy: 0.9988 - val_loss: 0.2880 - val_accuracy: 0.9185\n",
            "Epoch 15/1000\n",
            "600/600 [==============================] - 2s 3ms/step - loss: 0.0117 - accuracy: 0.9991 - val_loss: 0.2946 - val_accuracy: 0.9175\n",
            "Epoch 16/1000\n",
            "600/600 [==============================] - 2s 4ms/step - loss: 0.0100 - accuracy: 0.9991 - val_loss: 0.3085 - val_accuracy: 0.9175\n",
            "Epoch 17/1000\n",
            "600/600 [==============================] - 2s 4ms/step - loss: 0.0083 - accuracy: 0.9995 - val_loss: 0.3143 - val_accuracy: 0.9192\n"
          ],
          "name": "stdout"
        }
      ]
    },
    {
      "cell_type": "code",
      "metadata": {
        "colab": {
          "base_uri": "https://localhost:8080/",
          "height": 295
        },
        "id": "HFyNmsS9Mw5q",
        "outputId": "a26f44ec-1c40-4680-9f7c-63fc91992707"
      },
      "source": [
        "plot(history)"
      ],
      "execution_count": null,
      "outputs": [
        {
          "output_type": "display_data",
          "data": {
            "image/png": "[encoded data removed]",
            "text/plain": [
              "<Figure size 432x288 with 1 Axes>"
            ]
          },
          "metadata": {
            "tags": [],
            "needs_background": "light"
          }
        }
      ]
    },
    {
      "cell_type": "markdown",
      "metadata": {
        "id": "w1DNlf3FP4mK"
      },
      "source": [
        "## From above graph, we can see that model is overfitting, let's indtroduce some regularization in the form dropout"
      ]
    },
    {
      "cell_type": "code",
      "metadata": {
        "colab": {
          "base_uri": "https://localhost:8080/"
        },
        "id": "1BmsWip6Pg5l",
        "outputId": "35eb5514-9e43-4098-f2e4-e254823305dc"
      },
      "source": [
        "history = build_and_train(trainX, trainY, valX, valY)"
      ],
      "execution_count": null,
      "outputs": [
        {
          "output_type": "stream",
          "text": [
            "Total features:  2048\n",
            "Number of classes:  9\n",
            "Model: \"sequential_6\"\n",
            "_________________________________________________________________\n",
            "Layer (type)                 Output Shape              Param #   \n",
            "=================================================================\n",
            "dense_18 (Dense)             (None, 2048)              4196352   \n",
            "_________________________________________________________________\n",
            "dropout (Dropout)            (None, 2048)              0         \n",
            "_________________________________________________________________\n",
            "dense_19 (Dense)             (None, 2048)              4196352   \n",
            "_________________________________________________________________\n",
            "dense_20 (Dense)             (None, 9)                 18441     \n",
            "=================================================================\n",
            "Total params: 8,411,145\n",
            "Trainable params: 8,411,145\n",
            "Non-trainable params: 0\n",
            "_________________________________________________________________\n",
            "Epoch 1/1000\n",
            "600/600 [==============================] - 3s 4ms/step - loss: 1.3511 - accuracy: 0.5871 - val_loss: 0.4488 - val_accuracy: 0.8702\n",
            "Epoch 2/1000\n",
            "600/600 [==============================] - 2s 4ms/step - loss: 0.4019 - accuracy: 0.8797 - val_loss: 0.3316 - val_accuracy: 0.8950\n",
            "Epoch 3/1000\n",
            "600/600 [==============================] - 2s 3ms/step - loss: 0.2805 - accuracy: 0.9152 - val_loss: 0.2899 - val_accuracy: 0.9054\n",
            "Epoch 4/1000\n",
            "600/600 [==============================] - 2s 4ms/step - loss: 0.2203 - accuracy: 0.9337 - val_loss: 0.2692 - val_accuracy: 0.9123\n",
            "Epoch 5/1000\n",
            "600/600 [==============================] - 2s 4ms/step - loss: 0.1726 - accuracy: 0.9461 - val_loss: 0.2580 - val_accuracy: 0.9152\n",
            "Epoch 6/1000\n",
            "600/600 [==============================] - 2s 4ms/step - loss: 0.1413 - accuracy: 0.9591 - val_loss: 0.2519 - val_accuracy: 0.9162\n",
            "Epoch 7/1000\n",
            "600/600 [==============================] - 2s 4ms/step - loss: 0.1130 - accuracy: 0.9700 - val_loss: 0.2482 - val_accuracy: 0.9169\n",
            "Epoch 8/1000\n",
            "600/600 [==============================] - 2s 4ms/step - loss: 0.1018 - accuracy: 0.9732 - val_loss: 0.2469 - val_accuracy: 0.9167\n",
            "Epoch 9/1000\n",
            "600/600 [==============================] - 2s 4ms/step - loss: 0.0832 - accuracy: 0.9781 - val_loss: 0.2468 - val_accuracy: 0.9206\n",
            "Epoch 10/1000\n",
            "600/600 [==============================] - 2s 4ms/step - loss: 0.0738 - accuracy: 0.9825 - val_loss: 0.2532 - val_accuracy: 0.9215\n",
            "Epoch 11/1000\n",
            "600/600 [==============================] - 2s 4ms/step - loss: 0.0570 - accuracy: 0.9880 - val_loss: 0.2494 - val_accuracy: 0.9221\n",
            "Epoch 12/1000\n",
            "600/600 [==============================] - 2s 4ms/step - loss: 0.0501 - accuracy: 0.9897 - val_loss: 0.2612 - val_accuracy: 0.9198\n",
            "Epoch 13/1000\n",
            "600/600 [==============================] - 2s 4ms/step - loss: 0.0413 - accuracy: 0.9931 - val_loss: 0.2637 - val_accuracy: 0.9217\n",
            "Epoch 14/1000\n",
            "600/600 [==============================] - 2s 4ms/step - loss: 0.0351 - accuracy: 0.9932 - val_loss: 0.2664 - val_accuracy: 0.9208\n",
            "Epoch 15/1000\n",
            "600/600 [==============================] - 2s 4ms/step - loss: 0.0329 - accuracy: 0.9935 - val_loss: 0.2771 - val_accuracy: 0.9200\n",
            "Epoch 16/1000\n",
            "600/600 [==============================] - 2s 4ms/step - loss: 0.0266 - accuracy: 0.9951 - val_loss: 0.2809 - val_accuracy: 0.9198\n",
            "Epoch 17/1000\n",
            "600/600 [==============================] - 2s 4ms/step - loss: 0.0217 - accuracy: 0.9963 - val_loss: 0.2856 - val_accuracy: 0.9196\n",
            "Epoch 18/1000\n",
            "600/600 [==============================] - 2s 4ms/step - loss: 0.0195 - accuracy: 0.9964 - val_loss: 0.2933 - val_accuracy: 0.9221\n",
            "Epoch 19/1000\n",
            "600/600 [==============================] - 2s 4ms/step - loss: 0.0164 - accuracy: 0.9981 - val_loss: 0.3015 - val_accuracy: 0.9208\n"
          ],
          "name": "stdout"
        }
      ]
    },
    {
      "cell_type": "markdown",
      "metadata": {
        "id": "B1BOQoMCRpk3"
      },
      "source": [
        "## Below results are using resnet50 features"
      ]
    },
    {
      "cell_type": "code",
      "metadata": {
        "colab": {
          "base_uri": "https://localhost:8080/"
        },
        "id": "3E3Xzh8xQ35U",
        "outputId": "6384a0a6-c42a-4358-ed16-237a2ed15b7f"
      },
      "source": [
        "history = build_and_train(trainX, trainY, valX, valY)"
      ],
      "execution_count": null,
      "outputs": [
        {
          "output_type": "stream",
          "text": [
            "Total features:  8192\n",
            "Number of classes:  9\n",
            "Model: \"sequential_9\"\n",
            "_________________________________________________________________\n",
            "Layer (type)                 Output Shape              Param #   \n",
            "=================================================================\n",
            "dense_27 (Dense)             (None, 9)                 73737     \n",
            "=================================================================\n",
            "Total params: 73,737\n",
            "Trainable params: 73,737\n",
            "Non-trainable params: 0\n",
            "_________________________________________________________________\n",
            "Epoch 1/1000\n",
            "600/600 [==============================] - 2s 3ms/step - loss: 2.1959 - accuracy: 0.3046 - val_loss: 1.1742 - val_accuracy: 0.6317\n",
            "Epoch 2/1000\n",
            "600/600 [==============================] - 2s 3ms/step - loss: 1.0111 - accuracy: 0.6847 - val_loss: 0.8133 - val_accuracy: 0.7581\n",
            "Epoch 3/1000\n",
            "600/600 [==============================] - 2s 3ms/step - loss: 0.7470 - accuracy: 0.7784 - val_loss: 0.6591 - val_accuracy: 0.8085\n",
            "Epoch 4/1000\n",
            "600/600 [==============================] - 2s 3ms/step - loss: 0.6052 - accuracy: 0.8229 - val_loss: 0.5716 - val_accuracy: 0.8344\n",
            "Epoch 5/1000\n",
            "600/600 [==============================] - 2s 3ms/step - loss: 0.5061 - accuracy: 0.8560 - val_loss: 0.5150 - val_accuracy: 0.8498\n",
            "Epoch 6/1000\n",
            "600/600 [==============================] - 2s 3ms/step - loss: 0.4531 - accuracy: 0.8653 - val_loss: 0.4753 - val_accuracy: 0.8610\n",
            "Epoch 7/1000\n",
            "600/600 [==============================] - 2s 3ms/step - loss: 0.4085 - accuracy: 0.8782 - val_loss: 0.4461 - val_accuracy: 0.8698\n",
            "Epoch 8/1000\n",
            "600/600 [==============================] - 2s 3ms/step - loss: 0.3702 - accuracy: 0.8898 - val_loss: 0.4230 - val_accuracy: 0.8750\n",
            "Epoch 9/1000\n",
            "600/600 [==============================] - 2s 3ms/step - loss: 0.3607 - accuracy: 0.8926 - val_loss: 0.4051 - val_accuracy: 0.8792\n",
            "Epoch 10/1000\n",
            "600/600 [==============================] - 2s 3ms/step - loss: 0.3341 - accuracy: 0.8981 - val_loss: 0.3891 - val_accuracy: 0.8829\n",
            "Epoch 11/1000\n",
            "600/600 [==============================] - 1s 2ms/step - loss: 0.3071 - accuracy: 0.9121 - val_loss: 0.3768 - val_accuracy: 0.8867\n",
            "Epoch 12/1000\n",
            "600/600 [==============================] - 2s 3ms/step - loss: 0.2892 - accuracy: 0.9157 - val_loss: 0.3659 - val_accuracy: 0.8913\n",
            "Epoch 13/1000\n",
            "600/600 [==============================] - 2s 3ms/step - loss: 0.2732 - accuracy: 0.9192 - val_loss: 0.3569 - val_accuracy: 0.8935\n",
            "Epoch 14/1000\n",
            "600/600 [==============================] - 2s 3ms/step - loss: 0.2672 - accuracy: 0.9198 - val_loss: 0.3484 - val_accuracy: 0.8965\n",
            "Epoch 15/1000\n",
            "600/600 [==============================] - 2s 3ms/step - loss: 0.2433 - accuracy: 0.9288 - val_loss: 0.3415 - val_accuracy: 0.8979\n",
            "Epoch 16/1000\n",
            "600/600 [==============================] - 2s 3ms/step - loss: 0.2399 - accuracy: 0.9292 - val_loss: 0.3355 - val_accuracy: 0.8994\n",
            "Epoch 17/1000\n",
            "600/600 [==============================] - 2s 3ms/step - loss: 0.2378 - accuracy: 0.9292 - val_loss: 0.3297 - val_accuracy: 0.9017\n",
            "Epoch 18/1000\n",
            "600/600 [==============================] - 2s 3ms/step - loss: 0.2215 - accuracy: 0.9337 - val_loss: 0.3247 - val_accuracy: 0.9042\n",
            "Epoch 19/1000\n",
            "600/600 [==============================] - 2s 3ms/step - loss: 0.2140 - accuracy: 0.9379 - val_loss: 0.3195 - val_accuracy: 0.9060\n",
            "Epoch 20/1000\n",
            "600/600 [==============================] - 2s 3ms/step - loss: 0.1952 - accuracy: 0.9423 - val_loss: 0.3155 - val_accuracy: 0.9065\n",
            "Epoch 21/1000\n",
            "600/600 [==============================] - 2s 3ms/step - loss: 0.1876 - accuracy: 0.9468 - val_loss: 0.3112 - val_accuracy: 0.9065\n",
            "Epoch 22/1000\n",
            "600/600 [==============================] - 2s 3ms/step - loss: 0.1866 - accuracy: 0.9462 - val_loss: 0.3084 - val_accuracy: 0.9071\n",
            "Epoch 23/1000\n",
            "600/600 [==============================] - 2s 3ms/step - loss: 0.1837 - accuracy: 0.9469 - val_loss: 0.3052 - val_accuracy: 0.9079\n",
            "Epoch 24/1000\n",
            "600/600 [==============================] - 2s 3ms/step - loss: 0.1706 - accuracy: 0.9501 - val_loss: 0.3020 - val_accuracy: 0.9081\n",
            "Epoch 25/1000\n",
            "600/600 [==============================] - 2s 3ms/step - loss: 0.1631 - accuracy: 0.9531 - val_loss: 0.2991 - val_accuracy: 0.9094\n",
            "Epoch 26/1000\n",
            "600/600 [==============================] - 2s 3ms/step - loss: 0.1649 - accuracy: 0.9522 - val_loss: 0.2970 - val_accuracy: 0.9081\n",
            "Epoch 27/1000\n",
            "600/600 [==============================] - 2s 3ms/step - loss: 0.1612 - accuracy: 0.9545 - val_loss: 0.2947 - val_accuracy: 0.9092\n",
            "Epoch 28/1000\n",
            "600/600 [==============================] - 2s 3ms/step - loss: 0.1530 - accuracy: 0.9572 - val_loss: 0.2927 - val_accuracy: 0.9110\n",
            "Epoch 29/1000\n",
            "600/600 [==============================] - 2s 3ms/step - loss: 0.1471 - accuracy: 0.9592 - val_loss: 0.2906 - val_accuracy: 0.9098\n",
            "Epoch 30/1000\n",
            "600/600 [==============================] - 2s 3ms/step - loss: 0.1464 - accuracy: 0.9604 - val_loss: 0.2887 - val_accuracy: 0.9098\n",
            "Epoch 31/1000\n",
            "600/600 [==============================] - 2s 3ms/step - loss: 0.1381 - accuracy: 0.9641 - val_loss: 0.2876 - val_accuracy: 0.9104\n",
            "Epoch 32/1000\n",
            "600/600 [==============================] - 2s 3ms/step - loss: 0.1333 - accuracy: 0.9657 - val_loss: 0.2855 - val_accuracy: 0.9119\n",
            "Epoch 33/1000\n",
            "600/600 [==============================] - 2s 3ms/step - loss: 0.1320 - accuracy: 0.9656 - val_loss: 0.2843 - val_accuracy: 0.9119\n",
            "Epoch 34/1000\n",
            "600/600 [==============================] - 2s 3ms/step - loss: 0.1248 - accuracy: 0.9679 - val_loss: 0.2830 - val_accuracy: 0.9129\n",
            "Epoch 35/1000\n",
            "600/600 [==============================] - 2s 3ms/step - loss: 0.1251 - accuracy: 0.9687 - val_loss: 0.2816 - val_accuracy: 0.9131\n",
            "Epoch 36/1000\n",
            "600/600 [==============================] - 2s 3ms/step - loss: 0.1243 - accuracy: 0.9704 - val_loss: 0.2801 - val_accuracy: 0.9123\n",
            "Epoch 37/1000\n",
            "600/600 [==============================] - 2s 3ms/step - loss: 0.1147 - accuracy: 0.9713 - val_loss: 0.2793 - val_accuracy: 0.9135\n",
            "Epoch 38/1000\n",
            "600/600 [==============================] - 2s 3ms/step - loss: 0.1149 - accuracy: 0.9711 - val_loss: 0.2781 - val_accuracy: 0.9137\n",
            "Epoch 39/1000\n",
            "600/600 [==============================] - 2s 3ms/step - loss: 0.1138 - accuracy: 0.9726 - val_loss: 0.2777 - val_accuracy: 0.9142\n",
            "Epoch 40/1000\n",
            "600/600 [==============================] - 2s 3ms/step - loss: 0.1113 - accuracy: 0.9722 - val_loss: 0.2767 - val_accuracy: 0.9140\n",
            "Epoch 41/1000\n",
            "600/600 [==============================] - 2s 3ms/step - loss: 0.1051 - accuracy: 0.9749 - val_loss: 0.2757 - val_accuracy: 0.9144\n",
            "Epoch 42/1000\n",
            "600/600 [==============================] - 2s 3ms/step - loss: 0.1034 - accuracy: 0.9734 - val_loss: 0.2762 - val_accuracy: 0.9148\n",
            "Epoch 43/1000\n",
            "600/600 [==============================] - 2s 3ms/step - loss: 0.0974 - accuracy: 0.9777 - val_loss: 0.2751 - val_accuracy: 0.9150\n",
            "Epoch 44/1000\n",
            "600/600 [==============================] - 2s 3ms/step - loss: 0.0945 - accuracy: 0.9785 - val_loss: 0.2741 - val_accuracy: 0.9144\n",
            "Epoch 45/1000\n",
            "600/600 [==============================] - 2s 3ms/step - loss: 0.0974 - accuracy: 0.9776 - val_loss: 0.2732 - val_accuracy: 0.9158\n",
            "Epoch 46/1000\n",
            "600/600 [==============================] - 2s 3ms/step - loss: 0.0945 - accuracy: 0.9780 - val_loss: 0.2734 - val_accuracy: 0.9162\n",
            "Epoch 47/1000\n",
            "600/600 [==============================] - 2s 3ms/step - loss: 0.0834 - accuracy: 0.9825 - val_loss: 0.2730 - val_accuracy: 0.9156\n",
            "Epoch 48/1000\n",
            "600/600 [==============================] - 2s 3ms/step - loss: 0.0859 - accuracy: 0.9800 - val_loss: 0.2727 - val_accuracy: 0.9162\n",
            "Epoch 49/1000\n",
            "600/600 [==============================] - 2s 3ms/step - loss: 0.0856 - accuracy: 0.9811 - val_loss: 0.2726 - val_accuracy: 0.9158\n",
            "Epoch 50/1000\n",
            "600/600 [==============================] - 2s 3ms/step - loss: 0.0816 - accuracy: 0.9824 - val_loss: 0.2720 - val_accuracy: 0.9169\n",
            "Epoch 51/1000\n",
            "600/600 [==============================] - 2s 3ms/step - loss: 0.0785 - accuracy: 0.9832 - val_loss: 0.2714 - val_accuracy: 0.9175\n",
            "Epoch 52/1000\n",
            "600/600 [==============================] - 2s 3ms/step - loss: 0.0790 - accuracy: 0.9822 - val_loss: 0.2716 - val_accuracy: 0.9177\n",
            "Epoch 53/1000\n",
            "600/600 [==============================] - 2s 3ms/step - loss: 0.0790 - accuracy: 0.9828 - val_loss: 0.2720 - val_accuracy: 0.9179\n",
            "Epoch 54/1000\n",
            "600/600 [==============================] - 2s 3ms/step - loss: 0.0757 - accuracy: 0.9833 - val_loss: 0.2715 - val_accuracy: 0.9179\n",
            "Epoch 55/1000\n",
            "600/600 [==============================] - 2s 3ms/step - loss: 0.0760 - accuracy: 0.9837 - val_loss: 0.2723 - val_accuracy: 0.9185\n",
            "Epoch 56/1000\n",
            "600/600 [==============================] - 2s 3ms/step - loss: 0.0691 - accuracy: 0.9859 - val_loss: 0.2713 - val_accuracy: 0.9177\n",
            "Epoch 57/1000\n",
            "600/600 [==============================] - 2s 3ms/step - loss: 0.0712 - accuracy: 0.9838 - val_loss: 0.2715 - val_accuracy: 0.9187\n",
            "Epoch 58/1000\n",
            "600/600 [==============================] - 2s 3ms/step - loss: 0.0706 - accuracy: 0.9849 - val_loss: 0.2714 - val_accuracy: 0.9192\n",
            "Epoch 59/1000\n",
            "600/600 [==============================] - 2s 3ms/step - loss: 0.0673 - accuracy: 0.9852 - val_loss: 0.2722 - val_accuracy: 0.9194\n",
            "Epoch 60/1000\n",
            "600/600 [==============================] - 2s 3ms/step - loss: 0.0660 - accuracy: 0.9869 - val_loss: 0.2720 - val_accuracy: 0.9200\n",
            "Epoch 61/1000\n",
            "600/600 [==============================] - 2s 3ms/step - loss: 0.0667 - accuracy: 0.9865 - val_loss: 0.2725 - val_accuracy: 0.9200\n",
            "Epoch 62/1000\n",
            "600/600 [==============================] - 2s 3ms/step - loss: 0.0631 - accuracy: 0.9873 - val_loss: 0.2720 - val_accuracy: 0.9204\n",
            "Epoch 63/1000\n",
            "600/600 [==============================] - 2s 3ms/step - loss: 0.0598 - accuracy: 0.9886 - val_loss: 0.2729 - val_accuracy: 0.9196\n",
            "Epoch 64/1000\n",
            "600/600 [==============================] - 2s 3ms/step - loss: 0.0601 - accuracy: 0.9878 - val_loss: 0.2730 - val_accuracy: 0.9215\n",
            "Epoch 65/1000\n",
            "600/600 [==============================] - 2s 3ms/step - loss: 0.0601 - accuracy: 0.9874 - val_loss: 0.2734 - val_accuracy: 0.9215\n",
            "Epoch 66/1000\n",
            "600/600 [==============================] - 2s 3ms/step - loss: 0.0584 - accuracy: 0.9888 - val_loss: 0.2731 - val_accuracy: 0.9208\n"
          ],
          "name": "stdout"
        }
      ]
    },
    {
      "cell_type": "code",
      "metadata": {
        "colab": {
          "base_uri": "https://localhost:8080/",
          "height": 295
        },
        "id": "YgoI6nsNRvrR",
        "outputId": "79014521-616a-48ae-951e-39d99c504ea9"
      },
      "source": [
        "plot(history)"
      ],
      "execution_count": null,
      "outputs": [
        {
          "output_type": "display_data",
          "data": {
            "image/png": "[encoded data removed]",
            "text/plain": [
              "<Figure size 432x288 with 1 Axes>"
            ]
          },
          "metadata": {
            "tags": [],
            "needs_background": "light"
          }
        }
      ]
    },
    {
      "cell_type": "code",
      "metadata": {
        "colab": {
          "base_uri": "https://localhost:8080/"
        },
        "id": "aBdrL_ZuSPeS",
        "outputId": "65c8d22b-251c-408a-9cda-df61f91787cb"
      },
      "source": [
        "history = build_and_train(trainX, trainY, valX, valY)"
      ],
      "execution_count": null,
      "outputs": [
        {
          "output_type": "stream",
          "text": [
            "Total features:  8192\n",
            "Number of classes:  9\n",
            "Model: \"sequential_11\"\n",
            "_________________________________________________________________\n",
            "Layer (type)                 Output Shape              Param #   \n",
            "=================================================================\n",
            "dense_31 (Dense)             (None, 8192)              67117056  \n",
            "_________________________________________________________________\n",
            "dense_32 (Dense)             (None, 8192)              67117056  \n",
            "_________________________________________________________________\n",
            "dense_33 (Dense)             (None, 9)                 73737     \n",
            "=================================================================\n",
            "Total params: 134,307,849\n",
            "Trainable params: 134,307,849\n",
            "Non-trainable params: 0\n",
            "_________________________________________________________________\n",
            "Epoch 1/1000\n",
            "600/600 [==============================] - 19s 31ms/step - loss: 1.4074 - accuracy: 0.5812 - val_loss: 0.5536 - val_accuracy: 0.8633\n",
            "Epoch 2/1000\n",
            "600/600 [==============================] - 19s 31ms/step - loss: 0.4723 - accuracy: 0.8766 - val_loss: 0.4009 - val_accuracy: 0.8844\n",
            "Epoch 3/1000\n",
            "600/600 [==============================] - 18s 31ms/step - loss: 0.3206 - accuracy: 0.9079 - val_loss: 0.3385 - val_accuracy: 0.8992\n",
            "Epoch 4/1000\n",
            "600/600 [==============================] - 18s 30ms/step - loss: 0.2419 - accuracy: 0.9334 - val_loss: 0.3099 - val_accuracy: 0.9050\n",
            "Epoch 5/1000\n",
            "600/600 [==============================] - 18s 30ms/step - loss: 0.2007 - accuracy: 0.9453 - val_loss: 0.2866 - val_accuracy: 0.9100\n",
            "Epoch 6/1000\n",
            "600/600 [==============================] - 18s 31ms/step - loss: 0.1633 - accuracy: 0.9580 - val_loss: 0.2722 - val_accuracy: 0.9125\n",
            "Epoch 7/1000\n",
            "600/600 [==============================] - 18s 31ms/step - loss: 0.1405 - accuracy: 0.9629 - val_loss: 0.2627 - val_accuracy: 0.9192\n",
            "Epoch 8/1000\n",
            "600/600 [==============================] - 18s 31ms/step - loss: 0.1123 - accuracy: 0.9752 - val_loss: 0.2540 - val_accuracy: 0.9187\n",
            "Epoch 9/1000\n",
            "600/600 [==============================] - 18s 31ms/step - loss: 0.0960 - accuracy: 0.9808 - val_loss: 0.2486 - val_accuracy: 0.9210\n",
            "Epoch 10/1000\n",
            "600/600 [==============================] - 18s 31ms/step - loss: 0.0840 - accuracy: 0.9837 - val_loss: 0.2443 - val_accuracy: 0.9221\n",
            "Epoch 11/1000\n",
            "600/600 [==============================] - 18s 31ms/step - loss: 0.0716 - accuracy: 0.9873 - val_loss: 0.2418 - val_accuracy: 0.9215\n",
            "Epoch 12/1000\n",
            "600/600 [==============================] - 18s 31ms/step - loss: 0.0603 - accuracy: 0.9899 - val_loss: 0.2395 - val_accuracy: 0.9246\n",
            "Epoch 13/1000\n",
            "600/600 [==============================] - 18s 31ms/step - loss: 0.0522 - accuracy: 0.9907 - val_loss: 0.2377 - val_accuracy: 0.9260\n",
            "Epoch 14/1000\n",
            "600/600 [==============================] - 18s 30ms/step - loss: 0.0438 - accuracy: 0.9933 - val_loss: 0.2383 - val_accuracy: 0.9258\n",
            "Epoch 15/1000\n",
            "600/600 [==============================] - 18s 31ms/step - loss: 0.0365 - accuracy: 0.9947 - val_loss: 0.2367 - val_accuracy: 0.9271\n",
            "Epoch 16/1000\n",
            "600/600 [==============================] - 18s 30ms/step - loss: 0.0324 - accuracy: 0.9961 - val_loss: 0.2389 - val_accuracy: 0.9273\n",
            "Epoch 17/1000\n",
            "600/600 [==============================] - 18s 31ms/step - loss: 0.0270 - accuracy: 0.9968 - val_loss: 0.2400 - val_accuracy: 0.9269\n",
            "Epoch 18/1000\n",
            "600/600 [==============================] - 18s 31ms/step - loss: 0.0229 - accuracy: 0.9974 - val_loss: 0.2418 - val_accuracy: 0.9287\n",
            "Epoch 19/1000\n",
            "600/600 [==============================] - 18s 31ms/step - loss: 0.0196 - accuracy: 0.9983 - val_loss: 0.2421 - val_accuracy: 0.9281\n",
            "Epoch 20/1000\n",
            "600/600 [==============================] - 18s 30ms/step - loss: 0.0164 - accuracy: 0.9987 - val_loss: 0.2483 - val_accuracy: 0.9265\n",
            "Epoch 21/1000\n",
            "600/600 [==============================] - 18s 30ms/step - loss: 0.0136 - accuracy: 0.9990 - val_loss: 0.2505 - val_accuracy: 0.9269\n",
            "Epoch 22/1000\n",
            "600/600 [==============================] - 18s 31ms/step - loss: 0.0126 - accuracy: 0.9986 - val_loss: 0.2508 - val_accuracy: 0.9300\n",
            "Epoch 23/1000\n",
            "600/600 [==============================] - 18s 30ms/step - loss: 0.0108 - accuracy: 0.9993 - val_loss: 0.2541 - val_accuracy: 0.9294\n",
            "Epoch 24/1000\n",
            "600/600 [==============================] - 18s 30ms/step - loss: 0.0085 - accuracy: 0.9997 - val_loss: 0.2573 - val_accuracy: 0.9294\n",
            "Epoch 25/1000\n",
            "600/600 [==============================] - 18s 31ms/step - loss: 0.0076 - accuracy: 0.9994 - val_loss: 0.2620 - val_accuracy: 0.9302\n"
          ],
          "name": "stdout"
        }
      ]
    },
    {
      "cell_type": "code",
      "metadata": {
        "colab": {
          "base_uri": "https://localhost:8080/",
          "height": 295
        },
        "id": "fcreEIVhSdRg",
        "outputId": "77bb8910-b7a3-420d-8737-453cd673213a"
      },
      "source": [
        "plot(history)"
      ],
      "execution_count": null,
      "outputs": [
        {
          "output_type": "display_data",
          "data": {
            "image/png": "[encoded data removed]",
            "text/plain": [
              "<Figure size 432x288 with 1 Axes>"
            ]
          },
          "metadata": {
            "tags": [],
            "needs_background": "light"
          }
        }
      ]
    }
  ]
}